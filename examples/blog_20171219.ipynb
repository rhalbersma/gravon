{
 "metadata": {
  "language_info": {
   "codemirror_mode": {
    "name": "ipython",
    "version": 3
   },
   "file_extension": ".py",
   "mimetype": "text/x-python",
   "name": "python",
   "nbconvert_exporter": "python",
   "pygments_lexer": "ipython3",
   "version": "3.8.5-final"
  },
  "orig_nbformat": 2,
  "kernelspec": {
   "name": "python3",
   "display_name": "Python 3"
  }
 },
 "nbformat": 4,
 "nbformat_minor": 2,
 "cells": [
  {
   "source": [
    "# Marshal Blitzer Stratego Games from Gravon Archive Files"
   ],
   "cell_type": "markdown",
   "metadata": {}
  },
  {
   "source": [
    "## 1. Reproducing Dobby125's [blog post](http://stratego-tips.blogspot.com/2017/12/marshal-blitzer-games-from-gravon.html)"
   ],
   "cell_type": "markdown",
   "metadata": {}
  },
  {
   "cell_type": "code",
   "execution_count": 1,
   "metadata": {},
   "outputs": [],
   "source": [
    "from IPython.display import display\n",
    "\n",
    "import gravon.package as pkg\n",
    "import gravon.pattern as pattern\n",
    "\n",
    "db_setups = pkg.load_dataset('db_setups')"
   ]
  },
  {
   "cell_type": "code",
   "execution_count": 2,
   "metadata": {},
   "outputs": [],
   "source": [
    "blitz_setup = (\n",
    "    \"\"\"\n",
    "    62572264B2\n",
    "    8X715986B5\n",
    "    232B325742\n",
    "    64BFB334B3\n",
    "    \"\"\"\n",
    ")"
   ]
  },
  {
   "cell_type": "code",
   "execution_count": 3,
   "metadata": {},
   "outputs": [],
   "source": [
    "classic_xml = (db_setups\n",
    "    .query('type == \"classic\" & ext == \".xml\"')\n",
    "    .assign(result = lambda r: r.result.cat.reorder_categories(['win', 'loss', 'draw']))\n",
    ")"
   ]
  },
  {
   "cell_type": "code",
   "execution_count": 4,
   "metadata": {},
   "outputs": [
    {
     "output_type": "stream",
     "name": "stdout",
     "text": [
      "\n    62572264B2\n    8X715986B5\n    232B325742\n    64BFB334B3\n    \n"
     ]
    },
    {
     "output_type": "display_data",
     "data": {
      "text/plain": "<pandas.io.formats.style.Styler at 0x7fd3b39bc610>",
      "text/html": "<style  type=\"text/css\" >\n</style><table id=\"T_e5dd60a0_1e1c_11eb_94aa_171fce606a64\" ><thead>    <tr>        <th class=\"blank level0\" ></th>        <th class=\"col_heading level0 col0\" >Wins</th>        <th class=\"col_heading level0 col1\" >Losses</th>        <th class=\"col_heading level0 col2\" >Ties</th>        <th class=\"col_heading level0 col3\" >Games Played</th>        <th class=\"col_heading level0 col4\" >Winning Percentage</th>    </tr></thead><tbody>\n                <tr>\n                        <th id=\"T_e5dd60a0_1e1c_11eb_94aa_171fce606a64level0_row0\" class=\"row_heading level0 row0\" ></th>\n                        <td id=\"T_e5dd60a0_1e1c_11eb_94aa_171fce606a64row0_col0\" class=\"data row0 col0\" >130</td>\n                        <td id=\"T_e5dd60a0_1e1c_11eb_94aa_171fce606a64row0_col1\" class=\"data row0 col1\" >21</td>\n                        <td id=\"T_e5dd60a0_1e1c_11eb_94aa_171fce606a64row0_col2\" class=\"data row0 col2\" >7</td>\n                        <td id=\"T_e5dd60a0_1e1c_11eb_94aa_171fce606a64row0_col3\" class=\"data row0 col3\" >158</td>\n                        <td id=\"T_e5dd60a0_1e1c_11eb_94aa_171fce606a64row0_col4\" class=\"data row0 col4\" >86.09%</td>\n            </tr>\n    </tbody></table>"
     },
     "metadata": {}
    },
    {
     "output_type": "stream",
     "name": "stdout",
     "text": [
      "Here's a listing of the game files for the setup above:\n\nRed  Win  classic-2005.10-1063.xml\nRed  Win  classic-2005.10-1087.xml\nBlue Win  classic-2005.10-2416.xml\nRed  Draw classic-2005.10-2614.xml\nRed  Win  classic-2005.10-2847.xml\nRed  Win  classic-2005.10-2976.xml\nBlue Loss classic-2005.10-3561.xml\nRed  Loss classic-2005.10-4204.xml\nBlue Win  classic-2005.10-5328.xml\nRed  Win  classic-2005.10-5461.xml\nBlue Win  classic-2005.10-5900.xml\nRed  Draw classic-2005.10-6047.xml\nBlue Win  classic-2005.10-6772.xml\nBlue Win  classic-2005.10-6936.xml\nRed  Win  classic-2005.10-7496.xml\nRed  Win  classic-2005.10-7990.xml\nRed  Win  classic-2005.10-8045.xml\nRed  Win  classic-2005.10-844.xml\nRed  Draw classic-2005.10-97.xml\nRed  Loss classic-2005.11-1658.xml\nBlue Win  classic-2005.11-1666.xml\nBlue Loss classic-2005.11-1854.xml\nRed  Win  classic-2005.11-2675.xml\nBlue Win  classic-2005.11-3280.xml\nRed  Win  classic-2005.11-3340.xml\nRed  Win  classic-2005.11-3366.xml\nRed  Loss classic-2005.11-3492.xml\nRed  Win  classic-2005.11-3672.xml\nBlue Loss classic-2005.11-3869.xml\nBlue Win  classic-2005.11-453.xml\nBlue Win  classic-2005.11-4770.xml\nBlue Win  classic-2005.11-5015.xml\nRed  Win  classic-2005.11-523.xml\nBlue Win  classic-2005.11-6192.xml\nBlue Win  classic-2005.11-6350.xml\nRed  Win  classic-2005.11-6506.xml\nRed  Win  classic-2005.11-6713.xml\nBlue Win  classic-2005.11-6748.xml\nRed  Win  classic-2005.11-7104.xml\nRed  Win  classic-2005.11-7297.xml\nRed  Win  classic-2005.11-902.xml\nRed  Loss classic-2005.9-1024.xml\nRed  Loss classic-2005.9-1029.xml\nBlue Win  classic-2005.9-1156.xml\nRed  Win  classic-2005.9-119.xml\nRed  Win  classic-2005.9-1475.xml\nRed  Loss classic-2005.9-1687.xml\nRed  Win  classic-2005.9-1951.xml\nRed  Win  classic-2005.9-1967.xml\nBlue Win  classic-2005.9-2010.xml\nBlue Win  classic-2005.9-2174.xml\nRed  Win  classic-2005.9-2318.xml\nRed  Win  classic-2005.9-2440.xml\nRed  Win  classic-2005.9-2463.xml\nBlue Win  classic-2005.9-2512.xml\nRed  Win  classic-2005.9-2520.xml\nRed  Win  classic-2005.9-2753.xml\nRed  Win  classic-2005.9-291.xml\nRed  Win  classic-2005.9-2910.xml\nRed  Win  classic-2005.9-3155.xml\nBlue Win  classic-2005.9-3595.xml\nBlue Win  classic-2005.9-3774.xml\nRed  Win  classic-2005.9-4358.xml\nRed  Win  classic-2005.9-4777.xml\nRed  Win  classic-2005.9-5501.xml\nRed  Win  classic-2005.9-5588.xml\nRed  Win  classic-2005.9-5658.xml\nBlue Win  classic-2005.9-5964.xml\nRed  Win  classic-2005.9-6300.xml\nBlue Win  classic-2005.9-6451.xml\nRed  Win  classic-2005.9-6635.xml\nBlue Win  classic-2005.9-6896.xml\nRed  Win  classic-2005.9-6974.xml\nRed  Win  classic-2005.9-7086.xml\nRed  Win  classic-2005.9-7125.xml\nBlue Loss classic-2005.9-7174.xml\nRed  Win  classic-2005.9-724.xml\nRed  Win  classic-2005.9-7293.xml\nRed  Win  classic-2005.9-7401.xml\nRed  Win  classic-2005.9-7526.xml\nBlue Win  classic-2005.9-779.xml\nRed  Loss classic-2005.9-792.xml\nRed  Win  classic-2005.9-858.xml\nRed  Draw classic-2006.0-1047.xml\nRed  Win  classic-2006.0-106.xml\nRed  Loss classic-2006.0-1217.xml\nRed  Win  classic-2006.0-1255.xml\nBlue Win  classic-2006.0-1625.xml\nBlue Win  classic-2006.0-1834.xml\nRed  Win  classic-2006.0-1983.xml\nRed  Win  classic-2006.0-2426.xml\nRed  Draw classic-2006.0-243.xml\nBlue Win  classic-2006.0-2508.xml\nRed  Win  classic-2006.0-2582.xml\nRed  Win  classic-2006.0-303.xml\nRed  Loss classic-2006.0-3060.xml\nRed  Win  classic-2006.0-3744.xml\nRed  Win  classic-2006.0-3802.xml\nRed  Win  classic-2006.0-4223.xml\nBlue Win  classic-2006.0-4533.xml\nBlue Win  classic-2006.0-46.xml\nRed  Win  classic-2006.0-4785.xml\nRed  Win  classic-2006.0-4997.xml\nRed  Win  classic-2006.0-5033.xml\nRed  Loss classic-2006.0-5132.xml\nRed  Win  classic-2006.0-5190.xml\nRed  Win  classic-2006.0-5223.xml\nBlue Win  classic-2006.0-5522.xml\nRed  Win  classic-2006.0-5547.xml\nBlue Win  classic-2006.0-5584.xml\nRed  Win  classic-2006.0-5873.xml\nBlue Win  classic-2006.0-5882.xml\nRed  Win  classic-2006.0-6048.xml\nBlue Win  classic-2006.0-6437.xml\nRed  Win  classic-2006.0-6449.xml\nRed  Win  classic-2006.0-6852.xml\nRed  Win  classic-2006.0-6889.xml\nRed  Win  classic-2006.0-7675.xml\nRed  Loss classic-2006.1-1752.xml\nBlue Loss classic-2006.1-1914.xml\nRed  Win  classic-2006.1-2028.xml\nBlue Win  classic-2006.1-2492.xml\nRed  Win  classic-2006.1-2739.xml\nRed  Win  classic-2006.1-3765.xml\nRed  Win  classic-2006.1-4059.xml\nBlue Win  classic-2006.1-4165.xml\nBlue Loss classic-2006.1-4544.xml\nRed  Loss classic-2006.1-520.xml\nBlue Win  classic-2006.1-5565.xml\nBlue Draw classic-2006.1-584.xml\nRed  Win  classic-2006.1-6592.xml\nBlue Win  classic-2006.1-6625.xml\nRed  Win  classic-2006.1-6846.xml\nRed  Win  classic-2006.1-7472.xml\nBlue Win  classic-2006.1-7561.xml\nBlue Win  classic-2006.1-8184.xml\nBlue Win  classic-2006.1-8277.xml\nBlue Win  classic-2006.1-907.xml\nBlue Loss classic-2006.1-9229.xml\nRed  Loss classic-2006.1-9738.xml\nBlue Win  classic-2006.2-1857.xml\nBlue Loss classic-2006.2-2640.xml\nRed  Win  classic-2006.2-2984.xml\nRed  Win  classic-2006.2-3515.xml\nRed  Win  classic-2006.2-3621.xml\nRed  Win  classic-2006.2-3805.xml\nRed  Win  classic-2006.2-3847.xml\nRed  Win  classic-2006.2-4150.xml\nBlue Win  classic-2006.2-4337.xml\nBlue Win  classic-2006.2-4632.xml\nBlue Win  classic-2006.2-5476.xml\nRed  Win  classic-2006.2-5821.xml\nBlue Win  classic-2006.2-6107.xml\nBlue Win  classic-2006.2-7229.xml\nBlue Win  classic-2006.2-7296.xml\nBlue Win  classic-2006.2-7772.xml\nRed  Win  classic-2006.2-8545.xml\nRed  Draw classic-2006.2-8550.xml\n"
     ]
    }
   ],
   "source": [
    "df = pattern.equal(classic_xml, blitz_setup, mirrored=False)\n",
    "print(blitz_setup)\n",
    "display(df\n",
    "    .groupby(lambda _: '')\n",
    "    .agg(**{\n",
    "        'Wins'        : ('win',    'sum'  ), \n",
    "        'Losses'      : ('loss',   'sum'  ), \n",
    "        'Ties'        : ('draw',   'sum'  ),\n",
    "        'Games Played': ('result', 'count')\n",
    "    })\n",
    "    .assign(**{\n",
    "        'Winning Percentage': lambda r: r.Wins / (r.Wins + r.Losses)\n",
    "    })\n",
    "    .style.format({\n",
    "        'Winning Percentage': '{:.2%}'\n",
    "    })\n",
    ")\n",
    "print(\"Here's a listing of the game files for the setup above:\\n\")    \n",
    "for row in df.sort_values('filename').itertuples():\n",
    "    print(f'{row.player.capitalize():4} {row.result.capitalize():4} {row.filename}') "
   ]
  },
  {
   "source": [
    "## 2. Improvements\n",
    "\n",
    "We make the following improvements:\n",
    "\n",
    "- First, we include all Gravon games, both in the .gsn and .xml formats. This increases the number of setups to over a hundred thousand.\n",
    "- Second, we also include mirrored setup matches.\n",
    "- Third, we order game outcomes as Win, Draw, Loss.\n",
    "- Fourth, we summarize the average percentage score (win = 1.0, draw = 0.5 and loss = 0.0 points).\n",
    "- Fifth, we also show statistics by the match type, the player's color and the period in which the games were played.\n",
    "- Finally, we archive the various games in .zip files viewable with the Gravon game player.\n",
    "\n",
    "Note that the table cells in this notebook are not correctly aligned when rendered on GitHub."
   ],
   "cell_type": "markdown",
   "metadata": {}
  },
  {
   "cell_type": "code",
   "execution_count": 5,
   "metadata": {},
   "outputs": [],
   "source": [
    "import gravon.archive as archive\n",
    "from gravon.stats import league_table, score_pct"
   ]
  },
  {
   "cell_type": "code",
   "execution_count": 6,
   "metadata": {},
   "outputs": [],
   "source": [
    "classic = db_setups.query('type == \"classic\"')"
   ]
  },
  {
   "cell_type": "code",
   "execution_count": 7,
   "metadata": {},
   "outputs": [
    {
     "output_type": "stream",
     "name": "stdout",
     "text": [
      "\n    62572264B2\n    8X715986B5\n    232B325742\n    64BFB334B3\n    \n"
     ]
    },
    {
     "output_type": "display_data",
     "data": {
      "text/plain": "<pandas.io.formats.style.Styler at 0x7fd3b80618b0>",
      "text/html": "<style  type=\"text/css\" >\n</style><table id=\"T_e5dd60a1_1e1c_11eb_94aa_171fce606a64\" ><thead>    <tr>        <th class=\"blank level0\" ></th>        <th class=\"col_heading level0 col0\" >Games</th>        <th class=\"col_heading level0 col1\" >Wins</th>        <th class=\"col_heading level0 col2\" >Draws</th>        <th class=\"col_heading level0 col3\" >Losses</th>        <th class=\"col_heading level0 col4\" >Score</th>    </tr></thead><tbody>\n                <tr>\n                        <th id=\"T_e5dd60a1_1e1c_11eb_94aa_171fce606a64level0_row0\" class=\"row_heading level0 row0\" ></th>\n                        <td id=\"T_e5dd60a1_1e1c_11eb_94aa_171fce606a64row0_col0\" class=\"data row0 col0\" >177</td>\n                        <td id=\"T_e5dd60a1_1e1c_11eb_94aa_171fce606a64row0_col1\" class=\"data row0 col1\" >144</td>\n                        <td id=\"T_e5dd60a1_1e1c_11eb_94aa_171fce606a64row0_col2\" class=\"data row0 col2\" >8</td>\n                        <td id=\"T_e5dd60a1_1e1c_11eb_94aa_171fce606a64row0_col3\" class=\"data row0 col3\" >25</td>\n                        <td id=\"T_e5dd60a1_1e1c_11eb_94aa_171fce606a64row0_col4\" class=\"data row0 col4\" >83.62%</td>\n            </tr>\n    </tbody></table>"
     },
     "metadata": {}
    },
    {
     "output_type": "display_data",
     "data": {
      "text/plain": "<pandas.io.formats.style.Styler at 0x7fd3bcbb2880>",
      "text/html": "<style  type=\"text/css\" >\n</style><table id=\"T_e5dd60a2_1e1c_11eb_94aa_171fce606a64\" ><thead>    <tr>        <th class=\"blank level0\" ></th>        <th class=\"col_heading level0 col0\" >Games</th>        <th class=\"col_heading level0 col1\" >Wins</th>        <th class=\"col_heading level0 col2\" >Draws</th>        <th class=\"col_heading level0 col3\" >Losses</th>        <th class=\"col_heading level0 col4\" >Score</th>    </tr>    <tr>        <th class=\"index_name level0\" >match_type</th>        <th class=\"blank\" ></th>        <th class=\"blank\" ></th>        <th class=\"blank\" ></th>        <th class=\"blank\" ></th>        <th class=\"blank\" ></th>    </tr></thead><tbody>\n                <tr>\n                        <th id=\"T_e5dd60a2_1e1c_11eb_94aa_171fce606a64level0_row0\" class=\"row_heading level0 row0\" >identity</th>\n                        <td id=\"T_e5dd60a2_1e1c_11eb_94aa_171fce606a64row0_col0\" class=\"data row0 col0\" >158</td>\n                        <td id=\"T_e5dd60a2_1e1c_11eb_94aa_171fce606a64row0_col1\" class=\"data row0 col1\" >130</td>\n                        <td id=\"T_e5dd60a2_1e1c_11eb_94aa_171fce606a64row0_col2\" class=\"data row0 col2\" >7</td>\n                        <td id=\"T_e5dd60a2_1e1c_11eb_94aa_171fce606a64row0_col3\" class=\"data row0 col3\" >21</td>\n                        <td id=\"T_e5dd60a2_1e1c_11eb_94aa_171fce606a64row0_col4\" class=\"data row0 col4\" >84.49%</td>\n            </tr>\n            <tr>\n                        <th id=\"T_e5dd60a2_1e1c_11eb_94aa_171fce606a64level0_row1\" class=\"row_heading level0 row1\" >mirrored</th>\n                        <td id=\"T_e5dd60a2_1e1c_11eb_94aa_171fce606a64row1_col0\" class=\"data row1 col0\" >19</td>\n                        <td id=\"T_e5dd60a2_1e1c_11eb_94aa_171fce606a64row1_col1\" class=\"data row1 col1\" >14</td>\n                        <td id=\"T_e5dd60a2_1e1c_11eb_94aa_171fce606a64row1_col2\" class=\"data row1 col2\" >1</td>\n                        <td id=\"T_e5dd60a2_1e1c_11eb_94aa_171fce606a64row1_col3\" class=\"data row1 col3\" >4</td>\n                        <td id=\"T_e5dd60a2_1e1c_11eb_94aa_171fce606a64row1_col4\" class=\"data row1 col4\" >76.32%</td>\n            </tr>\n    </tbody></table>"
     },
     "metadata": {}
    },
    {
     "output_type": "display_data",
     "data": {
      "text/plain": "<pandas.io.formats.style.Styler at 0x7fd3f4301760>",
      "text/html": "<style  type=\"text/css\" >\n</style><table id=\"T_e5dd60a3_1e1c_11eb_94aa_171fce606a64\" ><thead>    <tr>        <th class=\"blank level0\" ></th>        <th class=\"col_heading level0 col0\" >Games</th>        <th class=\"col_heading level0 col1\" >Wins</th>        <th class=\"col_heading level0 col2\" >Draws</th>        <th class=\"col_heading level0 col3\" >Losses</th>        <th class=\"col_heading level0 col4\" >Score</th>    </tr>    <tr>        <th class=\"index_name level0\" >player</th>        <th class=\"blank\" ></th>        <th class=\"blank\" ></th>        <th class=\"blank\" ></th>        <th class=\"blank\" ></th>        <th class=\"blank\" ></th>    </tr></thead><tbody>\n                <tr>\n                        <th id=\"T_e5dd60a3_1e1c_11eb_94aa_171fce606a64level0_row0\" class=\"row_heading level0 row0\" >red</th>\n                        <td id=\"T_e5dd60a3_1e1c_11eb_94aa_171fce606a64row0_col0\" class=\"data row0 col0\" >116</td>\n                        <td id=\"T_e5dd60a3_1e1c_11eb_94aa_171fce606a64row0_col1\" class=\"data row0 col1\" >94</td>\n                        <td id=\"T_e5dd60a3_1e1c_11eb_94aa_171fce606a64row0_col2\" class=\"data row0 col2\" >6</td>\n                        <td id=\"T_e5dd60a3_1e1c_11eb_94aa_171fce606a64row0_col3\" class=\"data row0 col3\" >16</td>\n                        <td id=\"T_e5dd60a3_1e1c_11eb_94aa_171fce606a64row0_col4\" class=\"data row0 col4\" >83.62%</td>\n            </tr>\n            <tr>\n                        <th id=\"T_e5dd60a3_1e1c_11eb_94aa_171fce606a64level0_row1\" class=\"row_heading level0 row1\" >blue</th>\n                        <td id=\"T_e5dd60a3_1e1c_11eb_94aa_171fce606a64row1_col0\" class=\"data row1 col0\" >61</td>\n                        <td id=\"T_e5dd60a3_1e1c_11eb_94aa_171fce606a64row1_col1\" class=\"data row1 col1\" >50</td>\n                        <td id=\"T_e5dd60a3_1e1c_11eb_94aa_171fce606a64row1_col2\" class=\"data row1 col2\" >2</td>\n                        <td id=\"T_e5dd60a3_1e1c_11eb_94aa_171fce606a64row1_col3\" class=\"data row1 col3\" >9</td>\n                        <td id=\"T_e5dd60a3_1e1c_11eb_94aa_171fce606a64row1_col4\" class=\"data row1 col4\" >83.61%</td>\n            </tr>\n    </tbody></table>"
     },
     "metadata": {}
    },
    {
     "output_type": "display_data",
     "data": {
      "text/plain": "<pandas.io.formats.style.Styler at 0x7fd3bcbb99d0>",
      "text/html": "<style  type=\"text/css\" >\n</style><table id=\"T_e5dd60a4_1e1c_11eb_94aa_171fce606a64\" ><thead>    <tr>        <th class=\"blank level0\" ></th>        <th class=\"col_heading level0 col0\" >Games</th>        <th class=\"col_heading level0 col1\" >Wins</th>        <th class=\"col_heading level0 col2\" >Draws</th>        <th class=\"col_heading level0 col3\" >Losses</th>        <th class=\"col_heading level0 col4\" >Score</th>    </tr>    <tr>        <th class=\"index_name level0\" >period</th>        <th class=\"blank\" ></th>        <th class=\"blank\" ></th>        <th class=\"blank\" ></th>        <th class=\"blank\" ></th>        <th class=\"blank\" ></th>    </tr></thead><tbody>\n                <tr>\n                        <th id=\"T_e5dd60a4_1e1c_11eb_94aa_171fce606a64level0_row0\" class=\"row_heading level0 row0\" >2005-09</th>\n                        <td id=\"T_e5dd60a4_1e1c_11eb_94aa_171fce606a64row0_col0\" class=\"data row0 col0\" >48</td>\n                        <td id=\"T_e5dd60a4_1e1c_11eb_94aa_171fce606a64row0_col1\" class=\"data row0 col1\" >41</td>\n                        <td id=\"T_e5dd60a4_1e1c_11eb_94aa_171fce606a64row0_col2\" class=\"data row0 col2\" >0</td>\n                        <td id=\"T_e5dd60a4_1e1c_11eb_94aa_171fce606a64row0_col3\" class=\"data row0 col3\" >7</td>\n                        <td id=\"T_e5dd60a4_1e1c_11eb_94aa_171fce606a64row0_col4\" class=\"data row0 col4\" >85.42%</td>\n            </tr>\n            <tr>\n                        <th id=\"T_e5dd60a4_1e1c_11eb_94aa_171fce606a64level0_row1\" class=\"row_heading level0 row1\" >2005-10</th>\n                        <td id=\"T_e5dd60a4_1e1c_11eb_94aa_171fce606a64row1_col0\" class=\"data row1 col0\" >20</td>\n                        <td id=\"T_e5dd60a4_1e1c_11eb_94aa_171fce606a64row1_col1\" class=\"data row1 col1\" >14</td>\n                        <td id=\"T_e5dd60a4_1e1c_11eb_94aa_171fce606a64row1_col2\" class=\"data row1 col2\" >3</td>\n                        <td id=\"T_e5dd60a4_1e1c_11eb_94aa_171fce606a64row1_col3\" class=\"data row1 col3\" >3</td>\n                        <td id=\"T_e5dd60a4_1e1c_11eb_94aa_171fce606a64row1_col4\" class=\"data row1 col4\" >77.50%</td>\n            </tr>\n            <tr>\n                        <th id=\"T_e5dd60a4_1e1c_11eb_94aa_171fce606a64level0_row2\" class=\"row_heading level0 row2\" >2005-11</th>\n                        <td id=\"T_e5dd60a4_1e1c_11eb_94aa_171fce606a64row2_col0\" class=\"data row2 col0\" >24</td>\n                        <td id=\"T_e5dd60a4_1e1c_11eb_94aa_171fce606a64row2_col1\" class=\"data row2 col1\" >20</td>\n                        <td id=\"T_e5dd60a4_1e1c_11eb_94aa_171fce606a64row2_col2\" class=\"data row2 col2\" >0</td>\n                        <td id=\"T_e5dd60a4_1e1c_11eb_94aa_171fce606a64row2_col3\" class=\"data row2 col3\" >4</td>\n                        <td id=\"T_e5dd60a4_1e1c_11eb_94aa_171fce606a64row2_col4\" class=\"data row2 col4\" >83.33%</td>\n            </tr>\n            <tr>\n                        <th id=\"T_e5dd60a4_1e1c_11eb_94aa_171fce606a64level0_row3\" class=\"row_heading level0 row3\" >2005-12</th>\n                        <td id=\"T_e5dd60a4_1e1c_11eb_94aa_171fce606a64row3_col0\" class=\"data row3 col0\" >44</td>\n                        <td id=\"T_e5dd60a4_1e1c_11eb_94aa_171fce606a64row3_col1\" class=\"data row3 col1\" >38</td>\n                        <td id=\"T_e5dd60a4_1e1c_11eb_94aa_171fce606a64row3_col2\" class=\"data row3 col2\" >2</td>\n                        <td id=\"T_e5dd60a4_1e1c_11eb_94aa_171fce606a64row3_col3\" class=\"data row3 col3\" >4</td>\n                        <td id=\"T_e5dd60a4_1e1c_11eb_94aa_171fce606a64row3_col4\" class=\"data row3 col4\" >88.64%</td>\n            </tr>\n            <tr>\n                        <th id=\"T_e5dd60a4_1e1c_11eb_94aa_171fce606a64level0_row4\" class=\"row_heading level0 row4\" >2006-01</th>\n                        <td id=\"T_e5dd60a4_1e1c_11eb_94aa_171fce606a64row4_col0\" class=\"data row4 col0\" >23</td>\n                        <td id=\"T_e5dd60a4_1e1c_11eb_94aa_171fce606a64row4_col1\" class=\"data row4 col1\" >15</td>\n                        <td id=\"T_e5dd60a4_1e1c_11eb_94aa_171fce606a64row4_col2\" class=\"data row4 col2\" >2</td>\n                        <td id=\"T_e5dd60a4_1e1c_11eb_94aa_171fce606a64row4_col3\" class=\"data row4 col3\" >6</td>\n                        <td id=\"T_e5dd60a4_1e1c_11eb_94aa_171fce606a64row4_col4\" class=\"data row4 col4\" >69.57%</td>\n            </tr>\n            <tr>\n                        <th id=\"T_e5dd60a4_1e1c_11eb_94aa_171fce606a64level0_row5\" class=\"row_heading level0 row5\" >2006-02</th>\n                        <td id=\"T_e5dd60a4_1e1c_11eb_94aa_171fce606a64row5_col0\" class=\"data row5 col0\" >18</td>\n                        <td id=\"T_e5dd60a4_1e1c_11eb_94aa_171fce606a64row5_col1\" class=\"data row5 col1\" >16</td>\n                        <td id=\"T_e5dd60a4_1e1c_11eb_94aa_171fce606a64row5_col2\" class=\"data row5 col2\" >1</td>\n                        <td id=\"T_e5dd60a4_1e1c_11eb_94aa_171fce606a64row5_col3\" class=\"data row5 col3\" >1</td>\n                        <td id=\"T_e5dd60a4_1e1c_11eb_94aa_171fce606a64row5_col4\" class=\"data row5 col4\" >91.67%</td>\n            </tr>\n    </tbody></table>"
     },
     "metadata": {}
    },
    {
     "output_type": "stream",
     "name": "stdout",
     "text": [
      "Here's a listing of the game files for the setup above:\n",
      "\n",
      "Red  Win  classic-2005.9-119.xml\n",
      "Red  Win  classic-2005.9-291.xml\n",
      "Red  Loss classic-2005.9-704.xml\n",
      "Red  Win  classic-2005.9-724.xml\n",
      "Blue Win  classic-2005.9-779.xml\n",
      "Red  Loss classic-2005.9-792.xml\n",
      "Red  Win  classic-2005.9-858.xml\n",
      "Red  Loss classic-2005.9-1024.xml\n",
      "Red  Loss classic-2005.9-1029.xml\n",
      "Blue Win  classic-2005.9-1156.xml\n",
      "Red  Loss classic-2005.9-1162.xml\n",
      "Red  Win  classic-2005.9-1475.xml\n",
      "Red  Loss classic-2005.9-1687.xml\n",
      "Red  Win  classic-2005.9-1864.xml\n",
      "Red  Win  classic-2005.9-1951.xml\n",
      "Red  Win  classic-2005.9-1967.xml\n",
      "Blue Win  classic-2005.9-2010.xml\n",
      "Blue Win  classic-2005.9-2174.xml\n",
      "Red  Win  classic-2005.9-2318.xml\n",
      "Blue Win  classic-2005.9-2365.xml\n",
      "Red  Win  classic-2005.9-2440.xml\n",
      "Red  Win  classic-2005.9-2463.xml\n",
      "Blue Win  classic-2005.9-2512.xml\n",
      "Red  Win  classic-2005.9-2520.xml\n",
      "Red  Win  classic-2005.9-2753.xml\n",
      "Red  Win  classic-2005.9-2910.xml\n",
      "Red  Win  classic-2005.9-3155.xml\n",
      "Blue Win  classic-2005.9-3595.xml\n",
      "Blue Win  classic-2005.9-3774.xml\n",
      "Red  Win  classic-2005.9-4358.xml\n",
      "Red  Win  classic-2005.9-4777.xml\n",
      "Red  Win  classic-2005.9-5501.xml\n",
      "Red  Win  classic-2005.9-5588.xml\n",
      "Red  Win  classic-2005.9-5658.xml\n",
      "Blue Win  classic-2005.9-5964.xml\n",
      "Red  Win  classic-2005.9-6300.xml\n",
      "Blue Win  classic-2005.9-6451.xml\n",
      "Red  Win  classic-2005.9-6635.xml\n",
      "Blue Win  classic-2005.9-6896.xml\n",
      "Red  Win  classic-2005.9-6974.xml\n",
      "Red  Win  classic-2005.9-7086.xml\n",
      "Red  Win  classic-2005.9-7125.xml\n",
      "Blue Loss classic-2005.9-7174.xml\n",
      "Red  Win  classic-2005.9-7293.xml\n",
      "Red  Win  classic-2005.9-7386.xml\n",
      "Red  Win  classic-2005.9-7401.xml\n",
      "Red  Win  classic-2005.9-7526.xml\n",
      "Red  Win  classic-2005.9-8037.xml\n",
      "Red  Draw classic-2005.10-97.xml\n",
      "Red  Win  classic-2005.10-844.xml\n",
      "Red  Win  classic-2005.10-1063.xml\n",
      "Red  Win  classic-2005.10-1087.xml\n",
      "Blue Win  classic-2005.10-2416.xml\n",
      "Red  Draw classic-2005.10-2614.xml\n",
      "Red  Win  classic-2005.10-2847.xml\n",
      "Red  Win  classic-2005.10-2976.xml\n",
      "Blue Loss classic-2005.10-3561.xml\n",
      "Red  Loss classic-2005.10-4204.xml\n",
      "Blue Win  classic-2005.10-5328.xml\n",
      "Red  Win  classic-2005.10-5461.xml\n",
      "Blue Win  classic-2005.10-5900.xml\n",
      "Red  Draw classic-2005.10-6047.xml\n",
      "Blue Loss classic-2005.10-6247.xml\n",
      "Blue Win  classic-2005.10-6772.xml\n",
      "Blue Win  classic-2005.10-6936.xml\n",
      "Red  Win  classic-2005.10-7496.xml\n",
      "Red  Win  classic-2005.10-7990.xml\n",
      "Red  Win  classic-2005.10-8045.xml\n",
      "Blue Win  classic-2005.11-453.xml\n",
      "Red  Win  classic-2005.11-523.xml\n",
      "Red  Win  classic-2005.11-902.xml\n",
      "Red  Win  classic-2005.11-1078.xml\n",
      "Red  Loss classic-2005.11-1658.xml\n",
      "Blue Win  classic-2005.11-1666.xml\n",
      "Red  Win  classic-2005.11-1741.xml\n",
      "Blue Loss classic-2005.11-1854.xml\n",
      "Red  Win  classic-2005.11-2675.xml\n",
      "Blue Win  classic-2005.11-3280.xml\n",
      "Red  Win  classic-2005.11-3340.xml\n",
      "Red  Win  classic-2005.11-3366.xml\n",
      "Red  Loss classic-2005.11-3492.xml\n",
      "Red  Win  classic-2005.11-3672.xml\n",
      "Blue Loss classic-2005.11-3869.xml\n",
      "Blue Win  classic-2005.11-4770.xml\n",
      "Blue Win  classic-2005.11-5015.xml\n",
      "Blue Win  classic-2005.11-6192.xml\n",
      "Blue Win  classic-2005.11-6350.xml\n",
      "Red  Win  classic-2005.11-6506.xml\n",
      "Red  Win  classic-2005.11-6713.xml\n",
      "Blue Win  classic-2005.11-6748.xml\n",
      "Red  Win  classic-2005.11-7104.xml\n",
      "Red  Win  classic-2005.11-7297.xml\n",
      "Blue Win  classic-2006.0-46.xml\n",
      "Red  Win  classic-2006.0-106.xml\n",
      "Red  Loss classic-2006.0-211.xml\n",
      "Red  Draw classic-2006.0-243.xml\n",
      "Red  Win  classic-2006.0-303.xml\n",
      "Red  Draw classic-2006.0-1047.xml\n",
      "Red  Loss classic-2006.0-1217.xml\n",
      "Red  Win  classic-2006.0-1255.xml\n",
      "Blue Win  classic-2006.0-1625.xml\n",
      "Red  Win  classic-2006.0-1670.xml\n",
      "Red  Win  classic-2006.0-1813.xml\n",
      "Blue Win  classic-2006.0-1834.xml\n",
      "Red  Win  classic-2006.0-1983.xml\n",
      "Red  Win  classic-2006.0-2100.xml\n",
      "Red  Win  classic-2006.0-2426.xml\n",
      "Blue Win  classic-2006.0-2508.xml\n",
      "Red  Win  classic-2006.0-2582.xml\n",
      "Blue Win  classic-2006.0-2696.xml\n",
      "Red  Loss classic-2006.0-3060.xml\n",
      "Red  Win  classic-2006.0-3744.xml\n",
      "Red  Win  classic-2006.0-3802.xml\n",
      "Red  Win  classic-2006.0-4019.xml\n",
      "Red  Win  classic-2006.0-4223.xml\n",
      "Blue Win  classic-2006.0-4533.xml\n",
      "Red  Win  classic-2006.0-4785.xml\n",
      "Red  Win  classic-2006.0-4997.xml\n",
      "Red  Win  classic-2006.0-5033.xml\n",
      "Red  Loss classic-2006.0-5132.xml\n",
      "Red  Win  classic-2006.0-5190.xml\n",
      "Red  Win  classic-2006.0-5223.xml\n",
      "Blue Win  classic-2006.0-5522.xml\n",
      "Red  Win  classic-2006.0-5547.xml\n",
      "Blue Win  classic-2006.0-5584.xml\n",
      "Red  Win  classic-2006.0-5873.xml\n",
      "Blue Win  classic-2006.0-5882.xml\n",
      "Red  Win  classic-2006.0-6048.xml\n",
      "Red  Win  classic-2006.0-6300.xml\n",
      "Blue Win  classic-2006.0-6437.xml\n",
      "Red  Win  classic-2006.0-6449.xml\n",
      "Red  Win  classic-2006.0-6852.xml\n",
      "Red  Win  classic-2006.0-6889.xml\n",
      "Red  Win  classic-2006.0-7015.xml\n",
      "Red  Win  classic-2006.0-7675.xml\n",
      "Red  Win  classic-2006.0-7743.xml\n",
      "Red  Loss classic-2006.1-520.xml\n",
      "Blue Draw classic-2006.1-584.xml\n",
      "Blue Win  classic-2006.1-907.xml\n",
      "Red  Loss classic-2006.1-1752.xml\n",
      "Blue Loss classic-2006.1-1914.xml\n",
      "Red  Win  classic-2006.1-2028.xml\n",
      "Blue Win  classic-2006.1-2492.xml\n",
      "Red  Win  classic-2006.1-2739.xml\n",
      "Red  Win  classic-2006.1-3765.xml\n",
      "Red  Win  classic-2006.1-4059.xml\n",
      "Blue Win  classic-2006.1-4165.xml\n",
      "Blue Draw classic-2006.1-4330.xml\n",
      "Blue Loss classic-2006.1-4544.xml\n",
      "Blue Win  classic-2006.1-5565.xml\n",
      "Red  Win  classic-2006.1-6592.xml\n",
      "Blue Win  classic-2006.1-6625.xml\n",
      "Red  Win  classic-2006.1-6846.xml\n",
      "Red  Win  classic-2006.1-7472.xml\n",
      "Blue Win  classic-2006.1-7561.xml\n",
      "Blue Win  classic-2006.1-8184.xml\n",
      "Blue Win  classic-2006.1-8277.xml\n",
      "Blue Loss classic-2006.1-9229.xml\n",
      "Red  Loss classic-2006.1-9738.xml\n",
      "Blue Win  classic-2006.2-1857.xml\n",
      "Blue Loss classic-2006.2-2640.xml\n",
      "Red  Win  classic-2006.2-2984.xml\n",
      "Red  Win  classic-2006.2-3515.xml\n",
      "Red  Win  classic-2006.2-3621.xml\n",
      "Red  Win  classic-2006.2-3805.xml\n",
      "Red  Win  classic-2006.2-3847.xml\n",
      "Red  Win  classic-2006.2-4150.xml\n",
      "Blue Win  classic-2006.2-4337.xml\n",
      "Blue Win  classic-2006.2-4632.xml\n",
      "Blue Win  classic-2006.2-5476.xml\n",
      "Red  Win  classic-2006.2-5821.xml\n",
      "Blue Win  classic-2006.2-6107.xml\n",
      "Blue Win  classic-2006.2-7229.xml\n",
      "Blue Win  classic-2006.2-7296.xml\n",
      "Blue Win  classic-2006.2-7772.xml\n",
      "Red  Win  classic-2006.2-8545.xml\n",
      "Red  Draw classic-2006.2-8550.xml\n"
     ]
    }
   ],
   "source": [
    "df = pattern.equal(classic, blitz_setup, mirrored=True)\n",
    "print(blitz_setup)\n",
    "display(df\n",
    "    .groupby(lambda _: '')\n",
    "    .agg(**league_table)\n",
    "    .style.format(score_pct)\n",
    ")\n",
    "display(df\n",
    "    .groupby('match_type')\n",
    "    .agg(**league_table)\n",
    "    .style.format(score_pct)\n",
    ")\n",
    "display(df\n",
    "    .groupby('player')\n",
    "    .agg(**league_table)\n",
    "    .style.format(score_pct)\n",
    ")\n",
    "display(df\n",
    "    .groupby('period')\n",
    "    .agg(**league_table)\n",
    "    .style.format(score_pct)\n",
    ")\n",
    "print(\"Here's a listing of the game files for the setup above:\\n\")    \n",
    "for row in df.itertuples():\n",
    "    print(f'{row.player.capitalize():4} {row.result.capitalize():4} {row.filename}') \n",
    "archive.make_zip(df.filename.tolist(), 'blitz_setup')"
   ]
  }
 ]
}