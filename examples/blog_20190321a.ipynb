{
 "metadata": {
  "language_info": {
   "codemirror_mode": {
    "name": "ipython",
    "version": 3
   },
   "file_extension": ".py",
   "mimetype": "text/x-python",
   "name": "python",
   "nbconvert_exporter": "python",
   "pygments_lexer": "ipython3",
   "version": "3.8.5-final"
  },
  "orig_nbformat": 2,
  "kernelspec": {
   "name": "python3",
   "display_name": "Python 3"
  }
 },
 "nbformat": 4,
 "nbformat_minor": 2,
 "cells": [
  {
   "source": [
    "# Listing of Most Popular Stratego Game Board Setups from Gravon Archive"
   ],
   "cell_type": "markdown",
   "metadata": {}
  },
  {
   "source": [
    "## 1. Reproducing Dobby125's [blog post](http://stratego-tips.blogspot.com/2019/03/listing-of-most-popular-stratego-game.html)"
   ],
   "cell_type": "markdown",
   "metadata": {}
  },
  {
   "cell_type": "code",
   "execution_count": 1,
   "metadata": {},
   "outputs": [],
   "source": [
    "from IPython.display import display\n",
    "\n",
    "import gravon.package as pkg"
   ]
  },
  {
   "cell_type": "code",
   "execution_count": 2,
   "metadata": {},
   "outputs": [],
   "source": [
    "classic_xml = (pkg\n",
    "    .load_dataset('ss2')\n",
    "    .query('type == \"classic\" & ext == \".xml\"')\n",
    "    .assign(result = lambda r: r.result.cat.reorder_categories(['win', 'loss', 'draw']))\n",
    ")"
   ]
  },
  {
   "cell_type": "code",
   "execution_count": 20,
   "metadata": {},
   "outputs": [],
   "source": [
    "df = (classic_xml\n",
    "    .groupby('setup_str')\n",
    "    .agg(**{\n",
    "        'Wins'        : ('win',    'sum'  ), \n",
    "        'Losses'      : ('loss',   'sum'  ), \n",
    "        'Ties'        : ('draw',   'sum'  ),\n",
    "        'Games Played': ('result', 'count')\n",
    "    })\n",
    "    .astype(dtype={'Wins': int})\n",
    "    .assign(**{'Winning Percentage': lambda r: r.Wins / (r.Wins + r.Losses)})\n",
    "    .sort_values('Games Played', ascending=False)\n",
    "    .query('`Games Played` >= 100')\n",
    ")"
   ]
  },
  {
   "cell_type": "code",
   "execution_count": 19,
   "metadata": {
    "tags": []
   },
   "outputs": [
    {
     "output_type": "stream",
     "name": "stdout",
     "text": [
      "325BFB53633727B6325B4B425618B4268X229742\n"
     ]
    },
    {
     "output_type": "display_data",
     "data": {
      "text/plain": "<pandas.io.formats.style.Styler at 0x7f2cd38a92b0>",
      "text/html": "<style  type=\"text/css\" >\n</style><table id=\"T_56cf0cce_1d4f_11eb_94aa_171fce606a64\" ><thead>    <tr>        <th class=\"blank level0\" ></th>        <th class=\"col_heading level0 col0\" >Wins</th>        <th class=\"col_heading level0 col1\" >Losses</th>        <th class=\"col_heading level0 col2\" >Ties</th>        <th class=\"col_heading level0 col3\" >Games Played</th>        <th class=\"col_heading level0 col4\" >Winning Percentage</th>    </tr>    <tr>        <th class=\"index_name level0\" >setup_str</th>        <th class=\"blank\" ></th>        <th class=\"blank\" ></th>        <th class=\"blank\" ></th>        <th class=\"blank\" ></th>        <th class=\"blank\" ></th>    </tr></thead><tbody>\n                <tr>\n                        <th id=\"T_56cf0cce_1d4f_11eb_94aa_171fce606a64level0_row0\" class=\"row_heading level0 row0\" >325BFB53633727B6325B4B425618B4268X229742</th>\n                        <td id=\"T_56cf0cce_1d4f_11eb_94aa_171fce606a64row0_col0\" class=\"data row0 col0\" >261</td>\n                        <td id=\"T_56cf0cce_1d4f_11eb_94aa_171fce606a64row0_col1\" class=\"data row0 col1\" >181</td>\n                        <td id=\"T_56cf0cce_1d4f_11eb_94aa_171fce606a64row0_col2\" class=\"data row0 col2\" >10</td>\n                        <td id=\"T_56cf0cce_1d4f_11eb_94aa_171fce606a64row0_col3\" class=\"data row0 col3\" >452</td>\n                        <td id=\"T_56cf0cce_1d4f_11eb_94aa_171fce606a64row0_col4\" class=\"data row0 col4\" >59.05%</td>\n            </tr>\n    </tbody></table>"
     },
     "metadata": {}
    },
    {
     "output_type": "stream",
     "name": "stdout",
     "text": [
      "\n\n32B637F353B4534268622BB15226B4528972X74B\n"
     ]
    },
    {
     "output_type": "display_data",
     "data": {
      "text/plain": "<pandas.io.formats.style.Styler at 0x7f2cd38a98e0>",
      "text/html": "<style  type=\"text/css\" >\n</style><table id=\"T_56cf0ccf_1d4f_11eb_94aa_171fce606a64\" ><thead>    <tr>        <th class=\"blank level0\" ></th>        <th class=\"col_heading level0 col0\" >Wins</th>        <th class=\"col_heading level0 col1\" >Losses</th>        <th class=\"col_heading level0 col2\" >Ties</th>        <th class=\"col_heading level0 col3\" >Games Played</th>        <th class=\"col_heading level0 col4\" >Winning Percentage</th>    </tr>    <tr>        <th class=\"index_name level0\" >setup_str</th>        <th class=\"blank\" ></th>        <th class=\"blank\" ></th>        <th class=\"blank\" ></th>        <th class=\"blank\" ></th>        <th class=\"blank\" ></th>    </tr></thead><tbody>\n                <tr>\n                        <th id=\"T_56cf0ccf_1d4f_11eb_94aa_171fce606a64level0_row0\" class=\"row_heading level0 row0\" >32B637F353B4534268622BB15226B4528972X74B</th>\n                        <td id=\"T_56cf0ccf_1d4f_11eb_94aa_171fce606a64row0_col0\" class=\"data row0 col0\" >263</td>\n                        <td id=\"T_56cf0ccf_1d4f_11eb_94aa_171fce606a64row0_col1\" class=\"data row0 col1\" >86</td>\n                        <td id=\"T_56cf0ccf_1d4f_11eb_94aa_171fce606a64row0_col2\" class=\"data row0 col2\" >7</td>\n                        <td id=\"T_56cf0ccf_1d4f_11eb_94aa_171fce606a64row0_col3\" class=\"data row0 col3\" >356</td>\n                        <td id=\"T_56cf0ccf_1d4f_11eb_94aa_171fce606a64row0_col4\" class=\"data row0 col4\" >75.36%</td>\n            </tr>\n    </tbody></table>"
     },
     "metadata": {}
    },
    {
     "output_type": "stream",
     "name": "stdout",
     "text": [
      "\n\nB235B6667F43B3561837B2252B98X2242B427453\n"
     ]
    },
    {
     "output_type": "display_data",
     "data": {
      "text/plain": "<pandas.io.formats.style.Styler at 0x7f2cd38a93d0>",
      "text/html": "<style  type=\"text/css\" >\n</style><table id=\"T_56cf0cd0_1d4f_11eb_94aa_171fce606a64\" ><thead>    <tr>        <th class=\"blank level0\" ></th>        <th class=\"col_heading level0 col0\" >Wins</th>        <th class=\"col_heading level0 col1\" >Losses</th>        <th class=\"col_heading level0 col2\" >Ties</th>        <th class=\"col_heading level0 col3\" >Games Played</th>        <th class=\"col_heading level0 col4\" >Winning Percentage</th>    </tr>    <tr>        <th class=\"index_name level0\" >setup_str</th>        <th class=\"blank\" ></th>        <th class=\"blank\" ></th>        <th class=\"blank\" ></th>        <th class=\"blank\" ></th>        <th class=\"blank\" ></th>    </tr></thead><tbody>\n                <tr>\n                        <th id=\"T_56cf0cd0_1d4f_11eb_94aa_171fce606a64level0_row0\" class=\"row_heading level0 row0\" >B235B6667F43B3561837B2252B98X2242B427453</th>\n                        <td id=\"T_56cf0cd0_1d4f_11eb_94aa_171fce606a64row0_col0\" class=\"data row0 col0\" >196</td>\n                        <td id=\"T_56cf0cd0_1d4f_11eb_94aa_171fce606a64row0_col1\" class=\"data row0 col1\" >88</td>\n                        <td id=\"T_56cf0cd0_1d4f_11eb_94aa_171fce606a64row0_col2\" class=\"data row0 col2\" >11</td>\n                        <td id=\"T_56cf0cd0_1d4f_11eb_94aa_171fce606a64row0_col3\" class=\"data row0 col3\" >295</td>\n                        <td id=\"T_56cf0cd0_1d4f_11eb_94aa_171fce606a64row0_col4\" class=\"data row0 col4\" >69.01%</td>\n            </tr>\n    </tbody></table>"
     },
     "metadata": {}
    },
    {
     "output_type": "stream",
     "name": "stdout",
     "text": [
      "\n\nBB3BFB5B424753373B26683469184225X2257226\n"
     ]
    },
    {
     "output_type": "display_data",
     "data": {
      "text/plain": "<pandas.io.formats.style.Styler at 0x7f2cd38a97f0>",
      "text/html": "<style  type=\"text/css\" >\n</style><table id=\"T_56cf0cd1_1d4f_11eb_94aa_171fce606a64\" ><thead>    <tr>        <th class=\"blank level0\" ></th>        <th class=\"col_heading level0 col0\" >Wins</th>        <th class=\"col_heading level0 col1\" >Losses</th>        <th class=\"col_heading level0 col2\" >Ties</th>        <th class=\"col_heading level0 col3\" >Games Played</th>        <th class=\"col_heading level0 col4\" >Winning Percentage</th>    </tr>    <tr>        <th class=\"index_name level0\" >setup_str</th>        <th class=\"blank\" ></th>        <th class=\"blank\" ></th>        <th class=\"blank\" ></th>        <th class=\"blank\" ></th>        <th class=\"blank\" ></th>    </tr></thead><tbody>\n                <tr>\n                        <th id=\"T_56cf0cd1_1d4f_11eb_94aa_171fce606a64level0_row0\" class=\"row_heading level0 row0\" >BB3BFB5B424753373B26683469184225X2257226</th>\n                        <td id=\"T_56cf0cd1_1d4f_11eb_94aa_171fce606a64row0_col0\" class=\"data row0 col0\" >114</td>\n                        <td id=\"T_56cf0cd1_1d4f_11eb_94aa_171fce606a64row0_col1\" class=\"data row0 col1\" >77</td>\n                        <td id=\"T_56cf0cd1_1d4f_11eb_94aa_171fce606a64row0_col2\" class=\"data row0 col2\" >12</td>\n                        <td id=\"T_56cf0cd1_1d4f_11eb_94aa_171fce606a64row0_col3\" class=\"data row0 col3\" >203</td>\n                        <td id=\"T_56cf0cd1_1d4f_11eb_94aa_171fce606a64row0_col4\" class=\"data row0 col4\" >59.69%</td>\n            </tr>\n    </tbody></table>"
     },
     "metadata": {}
    },
    {
     "output_type": "stream",
     "name": "stdout",
     "text": [
      "\n\n227BFB75223583B38B436253X94B2624B1766542\n"
     ]
    },
    {
     "output_type": "display_data",
     "data": {
      "text/plain": "<pandas.io.formats.style.Styler at 0x7f2cd38a93a0>",
      "text/html": "<style  type=\"text/css\" >\n</style><table id=\"T_56cf0cd2_1d4f_11eb_94aa_171fce606a64\" ><thead>    <tr>        <th class=\"blank level0\" ></th>        <th class=\"col_heading level0 col0\" >Wins</th>        <th class=\"col_heading level0 col1\" >Losses</th>        <th class=\"col_heading level0 col2\" >Ties</th>        <th class=\"col_heading level0 col3\" >Games Played</th>        <th class=\"col_heading level0 col4\" >Winning Percentage</th>    </tr>    <tr>        <th class=\"index_name level0\" >setup_str</th>        <th class=\"blank\" ></th>        <th class=\"blank\" ></th>        <th class=\"blank\" ></th>        <th class=\"blank\" ></th>        <th class=\"blank\" ></th>    </tr></thead><tbody>\n                <tr>\n                        <th id=\"T_56cf0cd2_1d4f_11eb_94aa_171fce606a64level0_row0\" class=\"row_heading level0 row0\" >227BFB75223583B38B436253X94B2624B1766542</th>\n                        <td id=\"T_56cf0cd2_1d4f_11eb_94aa_171fce606a64row0_col0\" class=\"data row0 col0\" >138</td>\n                        <td id=\"T_56cf0cd2_1d4f_11eb_94aa_171fce606a64row0_col1\" class=\"data row0 col1\" >55</td>\n                        <td id=\"T_56cf0cd2_1d4f_11eb_94aa_171fce606a64row0_col2\" class=\"data row0 col2\" >4</td>\n                        <td id=\"T_56cf0cd2_1d4f_11eb_94aa_171fce606a64row0_col3\" class=\"data row0 col3\" >197</td>\n                        <td id=\"T_56cf0cd2_1d4f_11eb_94aa_171fce606a64row0_col4\" class=\"data row0 col4\" >71.50%</td>\n            </tr>\n    </tbody></table>"
     },
     "metadata": {}
    },
    {
     "output_type": "stream",
     "name": "stdout",
     "text": [
      "\n\n5B4BFB343773B6B82X2245B72513822463629562\n"
     ]
    },
    {
     "output_type": "display_data",
     "data": {
      "text/plain": "<pandas.io.formats.style.Styler at 0x7f2cd38a9a30>",
      "text/html": "<style  type=\"text/css\" >\n</style><table id=\"T_56cf0cd3_1d4f_11eb_94aa_171fce606a64\" ><thead>    <tr>        <th class=\"blank level0\" ></th>        <th class=\"col_heading level0 col0\" >Wins</th>        <th class=\"col_heading level0 col1\" >Losses</th>        <th class=\"col_heading level0 col2\" >Ties</th>        <th class=\"col_heading level0 col3\" >Games Played</th>        <th class=\"col_heading level0 col4\" >Winning Percentage</th>    </tr>    <tr>        <th class=\"index_name level0\" >setup_str</th>        <th class=\"blank\" ></th>        <th class=\"blank\" ></th>        <th class=\"blank\" ></th>        <th class=\"blank\" ></th>        <th class=\"blank\" ></th>    </tr></thead><tbody>\n                <tr>\n                        <th id=\"T_56cf0cd3_1d4f_11eb_94aa_171fce606a64level0_row0\" class=\"row_heading level0 row0\" >5B4BFB343773B6B82X2245B72513822463629562</th>\n                        <td id=\"T_56cf0cd3_1d4f_11eb_94aa_171fce606a64row0_col0\" class=\"data row0 col0\" >149</td>\n                        <td id=\"T_56cf0cd3_1d4f_11eb_94aa_171fce606a64row0_col1\" class=\"data row0 col1\" >38</td>\n                        <td id=\"T_56cf0cd3_1d4f_11eb_94aa_171fce606a64row0_col2\" class=\"data row0 col2\" >0</td>\n                        <td id=\"T_56cf0cd3_1d4f_11eb_94aa_171fce606a64row0_col3\" class=\"data row0 col3\" >187</td>\n                        <td id=\"T_56cf0cd3_1d4f_11eb_94aa_171fce606a64row0_col4\" class=\"data row0 col4\" >79.68%</td>\n            </tr>\n    </tbody></table>"
     },
     "metadata": {}
    },
    {
     "output_type": "stream",
     "name": "stdout",
     "text": [
      "\n\n37B324B3BF54X53B284B468176596522B6223722\n"
     ]
    },
    {
     "output_type": "display_data",
     "data": {
      "text/plain": "<pandas.io.formats.style.Styler at 0x7f2cd38a9a00>",
      "text/html": "<style  type=\"text/css\" >\n</style><table id=\"T_56cf0cd4_1d4f_11eb_94aa_171fce606a64\" ><thead>    <tr>        <th class=\"blank level0\" ></th>        <th class=\"col_heading level0 col0\" >Wins</th>        <th class=\"col_heading level0 col1\" >Losses</th>        <th class=\"col_heading level0 col2\" >Ties</th>        <th class=\"col_heading level0 col3\" >Games Played</th>        <th class=\"col_heading level0 col4\" >Winning Percentage</th>    </tr>    <tr>        <th class=\"index_name level0\" >setup_str</th>        <th class=\"blank\" ></th>        <th class=\"blank\" ></th>        <th class=\"blank\" ></th>        <th class=\"blank\" ></th>        <th class=\"blank\" ></th>    </tr></thead><tbody>\n                <tr>\n                        <th id=\"T_56cf0cd4_1d4f_11eb_94aa_171fce606a64level0_row0\" class=\"row_heading level0 row0\" >37B324B3BF54X53B284B468176596522B6223722</th>\n                        <td id=\"T_56cf0cd4_1d4f_11eb_94aa_171fce606a64row0_col0\" class=\"data row0 col0\" >90</td>\n                        <td id=\"T_56cf0cd4_1d4f_11eb_94aa_171fce606a64row0_col1\" class=\"data row0 col1\" >77</td>\n                        <td id=\"T_56cf0cd4_1d4f_11eb_94aa_171fce606a64row0_col2\" class=\"data row0 col2\" >2</td>\n                        <td id=\"T_56cf0cd4_1d4f_11eb_94aa_171fce606a64row0_col3\" class=\"data row0 col3\" >169</td>\n                        <td id=\"T_56cf0cd4_1d4f_11eb_94aa_171fce606a64row0_col4\" class=\"data row0 col4\" >53.89%</td>\n            </tr>\n    </tbody></table>"
     },
     "metadata": {}
    },
    {
     "output_type": "stream",
     "name": "stdout",
     "text": [
      "\n\n64BFB334B3232B3257428X715986B562572264B2\n"
     ]
    },
    {
     "output_type": "display_data",
     "data": {
      "text/plain": "<pandas.io.formats.style.Styler at 0x7f2cd38a9940>",
      "text/html": "<style  type=\"text/css\" >\n</style><table id=\"T_56cf0cd5_1d4f_11eb_94aa_171fce606a64\" ><thead>    <tr>        <th class=\"blank level0\" ></th>        <th class=\"col_heading level0 col0\" >Wins</th>        <th class=\"col_heading level0 col1\" >Losses</th>        <th class=\"col_heading level0 col2\" >Ties</th>        <th class=\"col_heading level0 col3\" >Games Played</th>        <th class=\"col_heading level0 col4\" >Winning Percentage</th>    </tr>    <tr>        <th class=\"index_name level0\" >setup_str</th>        <th class=\"blank\" ></th>        <th class=\"blank\" ></th>        <th class=\"blank\" ></th>        <th class=\"blank\" ></th>        <th class=\"blank\" ></th>    </tr></thead><tbody>\n                <tr>\n                        <th id=\"T_56cf0cd5_1d4f_11eb_94aa_171fce606a64level0_row0\" class=\"row_heading level0 row0\" >64BFB334B3232B3257428X715986B562572264B2</th>\n                        <td id=\"T_56cf0cd5_1d4f_11eb_94aa_171fce606a64row0_col0\" class=\"data row0 col0\" >130</td>\n                        <td id=\"T_56cf0cd5_1d4f_11eb_94aa_171fce606a64row0_col1\" class=\"data row0 col1\" >21</td>\n                        <td id=\"T_56cf0cd5_1d4f_11eb_94aa_171fce606a64row0_col2\" class=\"data row0 col2\" >7</td>\n                        <td id=\"T_56cf0cd5_1d4f_11eb_94aa_171fce606a64row0_col3\" class=\"data row0 col3\" >158</td>\n                        <td id=\"T_56cf0cd5_1d4f_11eb_94aa_171fce606a64row0_col4\" class=\"data row0 col4\" >86.09%</td>\n            </tr>\n    </tbody></table>"
     },
     "metadata": {}
    },
    {
     "output_type": "stream",
     "name": "stdout",
     "text": [
      "\n\n4FB3342334BB522B22BB67X75618624538629752\n"
     ]
    },
    {
     "output_type": "display_data",
     "data": {
      "text/plain": "<pandas.io.formats.style.Styler at 0x7f2cd38a94f0>",
      "text/html": "<style  type=\"text/css\" >\n</style><table id=\"T_56cf0cd6_1d4f_11eb_94aa_171fce606a64\" ><thead>    <tr>        <th class=\"blank level0\" ></th>        <th class=\"col_heading level0 col0\" >Wins</th>        <th class=\"col_heading level0 col1\" >Losses</th>        <th class=\"col_heading level0 col2\" >Ties</th>        <th class=\"col_heading level0 col3\" >Games Played</th>        <th class=\"col_heading level0 col4\" >Winning Percentage</th>    </tr>    <tr>        <th class=\"index_name level0\" >setup_str</th>        <th class=\"blank\" ></th>        <th class=\"blank\" ></th>        <th class=\"blank\" ></th>        <th class=\"blank\" ></th>        <th class=\"blank\" ></th>    </tr></thead><tbody>\n                <tr>\n                        <th id=\"T_56cf0cd6_1d4f_11eb_94aa_171fce606a64level0_row0\" class=\"row_heading level0 row0\" >4FB3342334BB522B22BB67X75618624538629752</th>\n                        <td id=\"T_56cf0cd6_1d4f_11eb_94aa_171fce606a64row0_col0\" class=\"data row0 col0\" >97</td>\n                        <td id=\"T_56cf0cd6_1d4f_11eb_94aa_171fce606a64row0_col1\" class=\"data row0 col1\" >54</td>\n                        <td id=\"T_56cf0cd6_1d4f_11eb_94aa_171fce606a64row0_col2\" class=\"data row0 col2\" >7</td>\n                        <td id=\"T_56cf0cd6_1d4f_11eb_94aa_171fce606a64row0_col3\" class=\"data row0 col3\" >158</td>\n                        <td id=\"T_56cf0cd6_1d4f_11eb_94aa_171fce606a64row0_col4\" class=\"data row0 col4\" >64.24%</td>\n            </tr>\n    </tbody></table>"
     },
     "metadata": {}
    },
    {
     "output_type": "stream",
     "name": "stdout",
     "text": [
      "\n\n3B46BFB32346B45B43272B8192355X2572622867\n"
     ]
    },
    {
     "output_type": "display_data",
     "data": {
      "text/plain": "<pandas.io.formats.style.Styler at 0x7f2cd38a9cd0>",
      "text/html": "<style  type=\"text/css\" >\n</style><table id=\"T_56cf0cd7_1d4f_11eb_94aa_171fce606a64\" ><thead>    <tr>        <th class=\"blank level0\" ></th>        <th class=\"col_heading level0 col0\" >Wins</th>        <th class=\"col_heading level0 col1\" >Losses</th>        <th class=\"col_heading level0 col2\" >Ties</th>        <th class=\"col_heading level0 col3\" >Games Played</th>        <th class=\"col_heading level0 col4\" >Winning Percentage</th>    </tr>    <tr>        <th class=\"index_name level0\" >setup_str</th>        <th class=\"blank\" ></th>        <th class=\"blank\" ></th>        <th class=\"blank\" ></th>        <th class=\"blank\" ></th>        <th class=\"blank\" ></th>    </tr></thead><tbody>\n                <tr>\n                        <th id=\"T_56cf0cd7_1d4f_11eb_94aa_171fce606a64level0_row0\" class=\"row_heading level0 row0\" >3B46BFB32346B45B43272B8192355X2572622867</th>\n                        <td id=\"T_56cf0cd7_1d4f_11eb_94aa_171fce606a64row0_col0\" class=\"data row0 col0\" >99</td>\n                        <td id=\"T_56cf0cd7_1d4f_11eb_94aa_171fce606a64row0_col1\" class=\"data row0 col1\" >39</td>\n                        <td id=\"T_56cf0cd7_1d4f_11eb_94aa_171fce606a64row0_col2\" class=\"data row0 col2\" >6</td>\n                        <td id=\"T_56cf0cd7_1d4f_11eb_94aa_171fce606a64row0_col3\" class=\"data row0 col3\" >144</td>\n                        <td id=\"T_56cf0cd7_1d4f_11eb_94aa_171fce606a64row0_col4\" class=\"data row0 col4\" >71.74%</td>\n            </tr>\n    </tbody></table>"
     },
     "metadata": {}
    },
    {
     "output_type": "stream",
     "name": "stdout",
     "text": [
      "\n\n24B5B63BBF67B383186B22352693744257422X52\n"
     ]
    },
    {
     "output_type": "display_data",
     "data": {
      "text/plain": "<pandas.io.formats.style.Styler at 0x7f2cd38a92e0>",
      "text/html": "<style  type=\"text/css\" >\n</style><table id=\"T_56cf0cd8_1d4f_11eb_94aa_171fce606a64\" ><thead>    <tr>        <th class=\"blank level0\" ></th>        <th class=\"col_heading level0 col0\" >Wins</th>        <th class=\"col_heading level0 col1\" >Losses</th>        <th class=\"col_heading level0 col2\" >Ties</th>        <th class=\"col_heading level0 col3\" >Games Played</th>        <th class=\"col_heading level0 col4\" >Winning Percentage</th>    </tr>    <tr>        <th class=\"index_name level0\" >setup_str</th>        <th class=\"blank\" ></th>        <th class=\"blank\" ></th>        <th class=\"blank\" ></th>        <th class=\"blank\" ></th>        <th class=\"blank\" ></th>    </tr></thead><tbody>\n                <tr>\n                        <th id=\"T_56cf0cd8_1d4f_11eb_94aa_171fce606a64level0_row0\" class=\"row_heading level0 row0\" >24B5B63BBF67B383186B22352693744257422X52</th>\n                        <td id=\"T_56cf0cd8_1d4f_11eb_94aa_171fce606a64row0_col0\" class=\"data row0 col0\" >65</td>\n                        <td id=\"T_56cf0cd8_1d4f_11eb_94aa_171fce606a64row0_col1\" class=\"data row0 col1\" >64</td>\n                        <td id=\"T_56cf0cd8_1d4f_11eb_94aa_171fce606a64row0_col2\" class=\"data row0 col2\" >5</td>\n                        <td id=\"T_56cf0cd8_1d4f_11eb_94aa_171fce606a64row0_col3\" class=\"data row0 col3\" >134</td>\n                        <td id=\"T_56cf0cd8_1d4f_11eb_94aa_171fce606a64row0_col4\" class=\"data row0 col4\" >50.39%</td>\n            </tr>\n    </tbody></table>"
     },
     "metadata": {}
    },
    {
     "output_type": "stream",
     "name": "stdout",
     "text": [
      "\n\nB3BBF4BB4B2234533136682X6829277527254625\n"
     ]
    },
    {
     "output_type": "display_data",
     "data": {
      "text/plain": "<pandas.io.formats.style.Styler at 0x7f2cd36748b0>",
      "text/html": "<style  type=\"text/css\" >\n</style><table id=\"T_56cf0cd9_1d4f_11eb_94aa_171fce606a64\" ><thead>    <tr>        <th class=\"blank level0\" ></th>        <th class=\"col_heading level0 col0\" >Wins</th>        <th class=\"col_heading level0 col1\" >Losses</th>        <th class=\"col_heading level0 col2\" >Ties</th>        <th class=\"col_heading level0 col3\" >Games Played</th>        <th class=\"col_heading level0 col4\" >Winning Percentage</th>    </tr>    <tr>        <th class=\"index_name level0\" >setup_str</th>        <th class=\"blank\" ></th>        <th class=\"blank\" ></th>        <th class=\"blank\" ></th>        <th class=\"blank\" ></th>        <th class=\"blank\" ></th>    </tr></thead><tbody>\n                <tr>\n                        <th id=\"T_56cf0cd9_1d4f_11eb_94aa_171fce606a64level0_row0\" class=\"row_heading level0 row0\" >B3BBF4BB4B2234533136682X6829277527254625</th>\n                        <td id=\"T_56cf0cd9_1d4f_11eb_94aa_171fce606a64row0_col0\" class=\"data row0 col0\" >62</td>\n                        <td id=\"T_56cf0cd9_1d4f_11eb_94aa_171fce606a64row0_col1\" class=\"data row0 col1\" >65</td>\n                        <td id=\"T_56cf0cd9_1d4f_11eb_94aa_171fce606a64row0_col2\" class=\"data row0 col2\" >7</td>\n                        <td id=\"T_56cf0cd9_1d4f_11eb_94aa_171fce606a64row0_col3\" class=\"data row0 col3\" >134</td>\n                        <td id=\"T_56cf0cd9_1d4f_11eb_94aa_171fce606a64row0_col4\" class=\"data row0 col4\" >48.82%</td>\n            </tr>\n    </tbody></table>"
     },
     "metadata": {}
    },
    {
     "output_type": "stream",
     "name": "stdout",
     "text": [
      "\n\n5225B4B737322B4B76816263B5933F4224B26X58\n"
     ]
    },
    {
     "output_type": "display_data",
     "data": {
      "text/plain": "<pandas.io.formats.style.Styler at 0x7f2cd38a93d0>",
      "text/html": "<style  type=\"text/css\" >\n</style><table id=\"T_56cf0cda_1d4f_11eb_94aa_171fce606a64\" ><thead>    <tr>        <th class=\"blank level0\" ></th>        <th class=\"col_heading level0 col0\" >Wins</th>        <th class=\"col_heading level0 col1\" >Losses</th>        <th class=\"col_heading level0 col2\" >Ties</th>        <th class=\"col_heading level0 col3\" >Games Played</th>        <th class=\"col_heading level0 col4\" >Winning Percentage</th>    </tr>    <tr>        <th class=\"index_name level0\" >setup_str</th>        <th class=\"blank\" ></th>        <th class=\"blank\" ></th>        <th class=\"blank\" ></th>        <th class=\"blank\" ></th>        <th class=\"blank\" ></th>    </tr></thead><tbody>\n                <tr>\n                        <th id=\"T_56cf0cda_1d4f_11eb_94aa_171fce606a64level0_row0\" class=\"row_heading level0 row0\" >5225B4B737322B4B76816263B5933F4224B26X58</th>\n                        <td id=\"T_56cf0cda_1d4f_11eb_94aa_171fce606a64row0_col0\" class=\"data row0 col0\" >68</td>\n                        <td id=\"T_56cf0cda_1d4f_11eb_94aa_171fce606a64row0_col1\" class=\"data row0 col1\" >59</td>\n                        <td id=\"T_56cf0cda_1d4f_11eb_94aa_171fce606a64row0_col2\" class=\"data row0 col2\" >5</td>\n                        <td id=\"T_56cf0cda_1d4f_11eb_94aa_171fce606a64row0_col3\" class=\"data row0 col3\" >132</td>\n                        <td id=\"T_56cf0cda_1d4f_11eb_94aa_171fce606a64row0_col4\" class=\"data row0 col4\" >53.54%</td>\n            </tr>\n    </tbody></table>"
     },
     "metadata": {}
    },
    {
     "output_type": "stream",
     "name": "stdout",
     "text": [
      "\n\n45354BF722B3581876292B23B63X26457B42B362\n"
     ]
    },
    {
     "output_type": "display_data",
     "data": {
      "text/plain": "<pandas.io.formats.style.Styler at 0x7f2cd38a9d00>",
      "text/html": "<style  type=\"text/css\" >\n</style><table id=\"T_56cf0cdb_1d4f_11eb_94aa_171fce606a64\" ><thead>    <tr>        <th class=\"blank level0\" ></th>        <th class=\"col_heading level0 col0\" >Wins</th>        <th class=\"col_heading level0 col1\" >Losses</th>        <th class=\"col_heading level0 col2\" >Ties</th>        <th class=\"col_heading level0 col3\" >Games Played</th>        <th class=\"col_heading level0 col4\" >Winning Percentage</th>    </tr>    <tr>        <th class=\"index_name level0\" >setup_str</th>        <th class=\"blank\" ></th>        <th class=\"blank\" ></th>        <th class=\"blank\" ></th>        <th class=\"blank\" ></th>        <th class=\"blank\" ></th>    </tr></thead><tbody>\n                <tr>\n                        <th id=\"T_56cf0cdb_1d4f_11eb_94aa_171fce606a64level0_row0\" class=\"row_heading level0 row0\" >45354BF722B3581876292B23B63X26457B42B362</th>\n                        <td id=\"T_56cf0cdb_1d4f_11eb_94aa_171fce606a64row0_col0\" class=\"data row0 col0\" >76</td>\n                        <td id=\"T_56cf0cdb_1d4f_11eb_94aa_171fce606a64row0_col1\" class=\"data row0 col1\" >47</td>\n                        <td id=\"T_56cf0cdb_1d4f_11eb_94aa_171fce606a64row0_col2\" class=\"data row0 col2\" >1</td>\n                        <td id=\"T_56cf0cdb_1d4f_11eb_94aa_171fce606a64row0_col3\" class=\"data row0 col3\" >124</td>\n                        <td id=\"T_56cf0cdb_1d4f_11eb_94aa_171fce606a64row0_col4\" class=\"data row0 col4\" >61.79%</td>\n            </tr>\n    </tbody></table>"
     },
     "metadata": {}
    },
    {
     "output_type": "stream",
     "name": "stdout",
     "text": [
      "\n\nB3B3F2B45BB23272372B2681672368545945X624\n"
     ]
    },
    {
     "output_type": "display_data",
     "data": {
      "text/plain": "<pandas.io.formats.style.Styler at 0x7f2cd38a9f70>",
      "text/html": "<style  type=\"text/css\" >\n</style><table id=\"T_56cf0cdc_1d4f_11eb_94aa_171fce606a64\" ><thead>    <tr>        <th class=\"blank level0\" ></th>        <th class=\"col_heading level0 col0\" >Wins</th>        <th class=\"col_heading level0 col1\" >Losses</th>        <th class=\"col_heading level0 col2\" >Ties</th>        <th class=\"col_heading level0 col3\" >Games Played</th>        <th class=\"col_heading level0 col4\" >Winning Percentage</th>    </tr>    <tr>        <th class=\"index_name level0\" >setup_str</th>        <th class=\"blank\" ></th>        <th class=\"blank\" ></th>        <th class=\"blank\" ></th>        <th class=\"blank\" ></th>        <th class=\"blank\" ></th>    </tr></thead><tbody>\n                <tr>\n                        <th id=\"T_56cf0cdc_1d4f_11eb_94aa_171fce606a64level0_row0\" class=\"row_heading level0 row0\" >B3B3F2B45BB23272372B2681672368545945X624</th>\n                        <td id=\"T_56cf0cdc_1d4f_11eb_94aa_171fce606a64row0_col0\" class=\"data row0 col0\" >49</td>\n                        <td id=\"T_56cf0cdc_1d4f_11eb_94aa_171fce606a64row0_col1\" class=\"data row0 col1\" >65</td>\n                        <td id=\"T_56cf0cdc_1d4f_11eb_94aa_171fce606a64row0_col2\" class=\"data row0 col2\" >3</td>\n                        <td id=\"T_56cf0cdc_1d4f_11eb_94aa_171fce606a64row0_col3\" class=\"data row0 col3\" >117</td>\n                        <td id=\"T_56cf0cdc_1d4f_11eb_94aa_171fce606a64row0_col4\" class=\"data row0 col4\" >42.98%</td>\n            </tr>\n    </tbody></table>"
     },
     "metadata": {}
    },
    {
     "output_type": "stream",
     "name": "stdout",
     "text": [
      "\n\n64BBFB34B3237B5337428X212928B66257526524\n"
     ]
    },
    {
     "output_type": "display_data",
     "data": {
      "text/plain": "<pandas.io.formats.style.Styler at 0x7f2cd38a9070>",
      "text/html": "<style  type=\"text/css\" >\n</style><table id=\"T_56cf0cdd_1d4f_11eb_94aa_171fce606a64\" ><thead>    <tr>        <th class=\"blank level0\" ></th>        <th class=\"col_heading level0 col0\" >Wins</th>        <th class=\"col_heading level0 col1\" >Losses</th>        <th class=\"col_heading level0 col2\" >Ties</th>        <th class=\"col_heading level0 col3\" >Games Played</th>        <th class=\"col_heading level0 col4\" >Winning Percentage</th>    </tr>    <tr>        <th class=\"index_name level0\" >setup_str</th>        <th class=\"blank\" ></th>        <th class=\"blank\" ></th>        <th class=\"blank\" ></th>        <th class=\"blank\" ></th>        <th class=\"blank\" ></th>    </tr></thead><tbody>\n                <tr>\n                        <th id=\"T_56cf0cdd_1d4f_11eb_94aa_171fce606a64level0_row0\" class=\"row_heading level0 row0\" >64BBFB34B3237B5337428X212928B66257526524</th>\n                        <td id=\"T_56cf0cdd_1d4f_11eb_94aa_171fce606a64row0_col0\" class=\"data row0 col0\" >80</td>\n                        <td id=\"T_56cf0cdd_1d4f_11eb_94aa_171fce606a64row0_col1\" class=\"data row0 col1\" >25</td>\n                        <td id=\"T_56cf0cdd_1d4f_11eb_94aa_171fce606a64row0_col2\" class=\"data row0 col2\" >7</td>\n                        <td id=\"T_56cf0cdd_1d4f_11eb_94aa_171fce606a64row0_col3\" class=\"data row0 col3\" >112</td>\n                        <td id=\"T_56cf0cdd_1d4f_11eb_94aa_171fce606a64row0_col4\" class=\"data row0 col4\" >76.19%</td>\n            </tr>\n    </tbody></table>"
     },
     "metadata": {}
    },
    {
     "output_type": "stream",
     "name": "stdout",
     "text": [
      "\n\n3BB736FBB42451X2743B3696273225522854B862\n"
     ]
    },
    {
     "output_type": "display_data",
     "data": {
      "text/plain": "<pandas.io.formats.style.Styler at 0x7f2cd3bf0be0>",
      "text/html": "<style  type=\"text/css\" >\n</style><table id=\"T_56cf0cde_1d4f_11eb_94aa_171fce606a64\" ><thead>    <tr>        <th class=\"blank level0\" ></th>        <th class=\"col_heading level0 col0\" >Wins</th>        <th class=\"col_heading level0 col1\" >Losses</th>        <th class=\"col_heading level0 col2\" >Ties</th>        <th class=\"col_heading level0 col3\" >Games Played</th>        <th class=\"col_heading level0 col4\" >Winning Percentage</th>    </tr>    <tr>        <th class=\"index_name level0\" >setup_str</th>        <th class=\"blank\" ></th>        <th class=\"blank\" ></th>        <th class=\"blank\" ></th>        <th class=\"blank\" ></th>        <th class=\"blank\" ></th>    </tr></thead><tbody>\n                <tr>\n                        <th id=\"T_56cf0cde_1d4f_11eb_94aa_171fce606a64level0_row0\" class=\"row_heading level0 row0\" >3BB736FBB42451X2743B3696273225522854B862</th>\n                        <td id=\"T_56cf0cde_1d4f_11eb_94aa_171fce606a64row0_col0\" class=\"data row0 col0\" >85</td>\n                        <td id=\"T_56cf0cde_1d4f_11eb_94aa_171fce606a64row0_col1\" class=\"data row0 col1\" >23</td>\n                        <td id=\"T_56cf0cde_1d4f_11eb_94aa_171fce606a64row0_col2\" class=\"data row0 col2\" >0</td>\n                        <td id=\"T_56cf0cde_1d4f_11eb_94aa_171fce606a64row0_col3\" class=\"data row0 col3\" >108</td>\n                        <td id=\"T_56cf0cde_1d4f_11eb_94aa_171fce606a64row0_col4\" class=\"data row0 col4\" >78.70%</td>\n            </tr>\n    </tbody></table>"
     },
     "metadata": {}
    },
    {
     "output_type": "stream",
     "name": "stdout",
     "text": [
      "\n\n435B636BBFB22357873B2622B8146X4222459375\n"
     ]
    },
    {
     "output_type": "display_data",
     "data": {
      "text/plain": "<pandas.io.formats.style.Styler at 0x7f2cd3bf0970>",
      "text/html": "<style  type=\"text/css\" >\n</style><table id=\"T_56cf0cdf_1d4f_11eb_94aa_171fce606a64\" ><thead>    <tr>        <th class=\"blank level0\" ></th>        <th class=\"col_heading level0 col0\" >Wins</th>        <th class=\"col_heading level0 col1\" >Losses</th>        <th class=\"col_heading level0 col2\" >Ties</th>        <th class=\"col_heading level0 col3\" >Games Played</th>        <th class=\"col_heading level0 col4\" >Winning Percentage</th>    </tr>    <tr>        <th class=\"index_name level0\" >setup_str</th>        <th class=\"blank\" ></th>        <th class=\"blank\" ></th>        <th class=\"blank\" ></th>        <th class=\"blank\" ></th>        <th class=\"blank\" ></th>    </tr></thead><tbody>\n                <tr>\n                        <th id=\"T_56cf0cdf_1d4f_11eb_94aa_171fce606a64level0_row0\" class=\"row_heading level0 row0\" >435B636BBFB22357873B2622B8146X4222459375</th>\n                        <td id=\"T_56cf0cdf_1d4f_11eb_94aa_171fce606a64row0_col0\" class=\"data row0 col0\" >58</td>\n                        <td id=\"T_56cf0cdf_1d4f_11eb_94aa_171fce606a64row0_col1\" class=\"data row0 col1\" >47</td>\n                        <td id=\"T_56cf0cdf_1d4f_11eb_94aa_171fce606a64row0_col2\" class=\"data row0 col2\" >2</td>\n                        <td id=\"T_56cf0cdf_1d4f_11eb_94aa_171fce606a64row0_col3\" class=\"data row0 col3\" >107</td>\n                        <td id=\"T_56cf0cdf_1d4f_11eb_94aa_171fce606a64row0_col4\" class=\"data row0 col4\" >55.24%</td>\n            </tr>\n    </tbody></table>"
     },
     "metadata": {}
    },
    {
     "output_type": "stream",
     "name": "stdout",
     "text": [
      "\n\n532632F734B73823695B6B42X275B524B1824B62\n"
     ]
    },
    {
     "output_type": "display_data",
     "data": {
      "text/plain": "<pandas.io.formats.style.Styler at 0x7f2cd9fcb160>",
      "text/html": "<style  type=\"text/css\" >\n</style><table id=\"T_56cf0ce0_1d4f_11eb_94aa_171fce606a64\" ><thead>    <tr>        <th class=\"blank level0\" ></th>        <th class=\"col_heading level0 col0\" >Wins</th>        <th class=\"col_heading level0 col1\" >Losses</th>        <th class=\"col_heading level0 col2\" >Ties</th>        <th class=\"col_heading level0 col3\" >Games Played</th>        <th class=\"col_heading level0 col4\" >Winning Percentage</th>    </tr>    <tr>        <th class=\"index_name level0\" >setup_str</th>        <th class=\"blank\" ></th>        <th class=\"blank\" ></th>        <th class=\"blank\" ></th>        <th class=\"blank\" ></th>        <th class=\"blank\" ></th>    </tr></thead><tbody>\n                <tr>\n                        <th id=\"T_56cf0ce0_1d4f_11eb_94aa_171fce606a64level0_row0\" class=\"row_heading level0 row0\" >532632F734B73823695B6B42X275B524B1824B62</th>\n                        <td id=\"T_56cf0ce0_1d4f_11eb_94aa_171fce606a64row0_col0\" class=\"data row0 col0\" >74</td>\n                        <td id=\"T_56cf0ce0_1d4f_11eb_94aa_171fce606a64row0_col1\" class=\"data row0 col1\" >25</td>\n                        <td id=\"T_56cf0ce0_1d4f_11eb_94aa_171fce606a64row0_col2\" class=\"data row0 col2\" >5</td>\n                        <td id=\"T_56cf0ce0_1d4f_11eb_94aa_171fce606a64row0_col3\" class=\"data row0 col3\" >104</td>\n                        <td id=\"T_56cf0ce0_1d4f_11eb_94aa_171fce606a64row0_col4\" class=\"data row0 col4\" >74.75%</td>\n            </tr>\n    </tbody></table>"
     },
     "metadata": {}
    },
    {
     "output_type": "stream",
     "name": "stdout",
     "text": [
      "\n\n23B46BFB365B4B33B7282623X822452574761952\n"
     ]
    },
    {
     "output_type": "display_data",
     "data": {
      "text/plain": "<pandas.io.formats.style.Styler at 0x7f2cd55b6ac0>",
      "text/html": "<style  type=\"text/css\" >\n</style><table id=\"T_56cf0ce1_1d4f_11eb_94aa_171fce606a64\" ><thead>    <tr>        <th class=\"blank level0\" ></th>        <th class=\"col_heading level0 col0\" >Wins</th>        <th class=\"col_heading level0 col1\" >Losses</th>        <th class=\"col_heading level0 col2\" >Ties</th>        <th class=\"col_heading level0 col3\" >Games Played</th>        <th class=\"col_heading level0 col4\" >Winning Percentage</th>    </tr>    <tr>        <th class=\"index_name level0\" >setup_str</th>        <th class=\"blank\" ></th>        <th class=\"blank\" ></th>        <th class=\"blank\" ></th>        <th class=\"blank\" ></th>        <th class=\"blank\" ></th>    </tr></thead><tbody>\n                <tr>\n                        <th id=\"T_56cf0ce1_1d4f_11eb_94aa_171fce606a64level0_row0\" class=\"row_heading level0 row0\" >23B46BFB365B4B33B7282623X822452574761952</th>\n                        <td id=\"T_56cf0ce1_1d4f_11eb_94aa_171fce606a64row0_col0\" class=\"data row0 col0\" >66</td>\n                        <td id=\"T_56cf0ce1_1d4f_11eb_94aa_171fce606a64row0_col1\" class=\"data row0 col1\" >30</td>\n                        <td id=\"T_56cf0ce1_1d4f_11eb_94aa_171fce606a64row0_col2\" class=\"data row0 col2\" >7</td>\n                        <td id=\"T_56cf0ce1_1d4f_11eb_94aa_171fce606a64row0_col3\" class=\"data row0 col3\" >103</td>\n                        <td id=\"T_56cf0ce1_1d4f_11eb_94aa_171fce606a64row0_col4\" class=\"data row0 col4\" >68.75%</td>\n            </tr>\n    </tbody></table>"
     },
     "metadata": {}
    },
    {
     "output_type": "stream",
     "name": "stdout",
     "text": [
      "\n\n"
     ]
    }
   ],
   "source": [
    "for i in range(df.shape[0]):\n",
    "    print(df.index[i])\n",
    "    display(df.iloc[i:(i+1),:].style.format({'Winning Percentage': '{:.2%}'}))\n",
    "    print('\\n')"
   ]
  },
  {
   "source": [
    "## 2. Improvements\n",
    "\n",
    "We make the following improvements:\n",
    "\n",
    "- First, we include all Gravon games, both in the .gsn and .xml formats. This increases the number of setups to over a hundred thousand.\n",
    "- Second, we also include mirrored setup matches.\n",
    "- Third, we order game outcomes as Win, Draw, Loss.\n",
    "- Fourth, we summarize the average percentage score (win = 1.0, draw = 0.5 and loss = 0.0 points).\n",
    "- Fifth, we also show statistics by the player's color, the match type and the period in which the games were played.\n",
    "- Finally, we archive the various games in .zip files viewable with the Gravon game player.\n",
    "\n",
    "Note that the table cells in this notebook are not correctly aligned when rendered on GitHub."
   ],
   "cell_type": "markdown",
   "metadata": {}
  },
  {
   "cell_type": "code",
   "execution_count": null,
   "metadata": {},
   "outputs": [],
   "source": []
  }
 ]
}