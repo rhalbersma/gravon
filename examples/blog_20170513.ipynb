{
 "metadata": {
  "language_info": {
   "codemirror_mode": {
    "name": "ipython",
    "version": 3
   },
   "file_extension": ".py",
   "mimetype": "text/x-python",
   "name": "python",
   "nbconvert_exporter": "python",
   "pygments_lexer": "ipython3",
   "version": "3.8.5-final"
  },
  "orig_nbformat": 2,
  "kernelspec": {
   "name": "python3",
   "display_name": "Python 3"
  }
 },
 "nbformat": 4,
 "nbformat_minor": 2,
 "cells": [
  {
   "source": [
    "```\n",
    "         Copyright Rein Halbersma 2018-2020.\n",
    "Distributed under the Boost Software License, Version 1.0.\n",
    "   (See accompanying file LICENSE_1_0.txt or copy at\n",
    "         http://www.boost.org/LICENSE_1_0.txt)\n",
    "```"
   ],
   "cell_type": "markdown",
   "metadata": {}
  },
  {
   "source": [
    "# Best Winning Percentage Stratego Game Board Setup on Gravon"
   ],
   "cell_type": "markdown",
   "metadata": {}
  },
  {
   "source": [
    "## 1. Reproducing Dobby125's [blog post](http://stratego-tips.blogspot.com/2017/05/best-winning-percentage-stratego-game.html)"
   ],
   "cell_type": "markdown",
   "metadata": {}
  },
  {
   "source": [
    "from IPython.display import display\n",
    "\n",
    "import gravon.package as pkg\n",
    "import gravon.pattern as pattern"
   ],
   "cell_type": "code",
   "metadata": {},
   "execution_count": 1,
   "outputs": []
  },
  {
   "cell_type": "code",
   "execution_count": 2,
   "metadata": {},
   "outputs": [],
   "source": [
    "best_setups = {\n",
    "    'v1': (\n",
    "        \"\"\"\n",
    "        2465276146\n",
    "        7282229X8B\n",
    "        25347263BF\n",
    "        53BBB4353B\n",
    "        \"\"\"\n",
    "    ),\n",
    "    'v2': (\n",
    "        \"\"\"\n",
    "        2545274146\n",
    "        7298242X8B\n",
    "        52362273BF\n",
    "        35BB6B363B\n",
    "        \"\"\"\n",
    "    ),\n",
    "}"
   ]
  },
  {
   "cell_type": "code",
   "execution_count": 3,
   "metadata": {},
   "outputs": [],
   "source": [
    "classic_xml = (pkg\n",
    "    .load_dataset('ss2')\n",
    "    .query('type == \"classic\" & ext == \".xml\"')\n",
    "    .assign(result = lambda r: r.result.cat.reorder_categories(['win', 'loss', 'draw']))\n",
    ")"
   ]
  },
  {
   "cell_type": "code",
   "execution_count": 4,
   "metadata": {},
   "outputs": [
    {
     "output_type": "stream",
     "name": "stdout",
     "text": [
      "\n        2465276146\n        7282229X8B\n        25347263BF\n        53BBB4353B\n        \n"
     ]
    },
    {
     "output_type": "display_data",
     "data": {
      "text/plain": "<pandas.io.formats.style.Styler at 0x7f6974cc08b0>",
      "text/html": "<style  type=\"text/css\" >\n</style><table id=\"T_7057e736_1d42_11eb_94aa_171fce606a64\" ><thead>    <tr>        <th class=\"blank level0\" ></th>        <th class=\"col_heading level0 col0\" >Wins</th>        <th class=\"col_heading level0 col1\" >Losses</th>        <th class=\"col_heading level0 col2\" >Ties</th>        <th class=\"col_heading level0 col3\" >Games Played</th>        <th class=\"col_heading level0 col4\" >Winning Percentage</th>    </tr></thead><tbody>\n                <tr>\n                        <th id=\"T_7057e736_1d42_11eb_94aa_171fce606a64level0_row0\" class=\"row_heading level0 row0\" ></th>\n                        <td id=\"T_7057e736_1d42_11eb_94aa_171fce606a64row0_col0\" class=\"data row0 col0\" >87</td>\n                        <td id=\"T_7057e736_1d42_11eb_94aa_171fce606a64row0_col1\" class=\"data row0 col1\" >9</td>\n                        <td id=\"T_7057e736_1d42_11eb_94aa_171fce606a64row0_col2\" class=\"data row0 col2\" >1</td>\n                        <td id=\"T_7057e736_1d42_11eb_94aa_171fce606a64row0_col3\" class=\"data row0 col3\" >97</td>\n                        <td id=\"T_7057e736_1d42_11eb_94aa_171fce606a64row0_col4\" class=\"data row0 col4\" >90.62%</td>\n            </tr>\n    </tbody></table>"
     },
     "metadata": {}
    },
    {
     "output_type": "stream",
     "name": "stdout",
     "text": [
      "Here's a listing of the game files for the setup above:\n\nRed  Loss classic-2006.0-1129.xml\nBlue Win  classic-2006.0-1169.xml\nRed  Loss classic-2006.0-131.xml\nBlue Win  classic-2006.0-1565.xml\nRed  Win  classic-2006.0-1621.xml\nBlue Win  classic-2006.0-164.xml\nBlue Win  classic-2006.0-1653.xml\nBlue Win  classic-2006.0-1688.xml\nBlue Win  classic-2006.0-1770.xml\nRed  Win  classic-2006.0-1825.xml\nBlue Loss classic-2006.0-1962.xml\nRed  Loss classic-2006.0-212.xml\nBlue Win  classic-2006.0-2446.xml\nRed  Win  classic-2006.0-2464.xml\nRed  Win  classic-2006.0-2501.xml\nRed  Win  classic-2006.0-2675.xml\nBlue Win  classic-2006.0-2869.xml\nBlue Win  classic-2006.0-317.xml\nRed  Win  classic-2006.0-3212.xml\nBlue Win  classic-2006.0-3451.xml\nBlue Win  classic-2006.0-3549.xml\nRed  Win  classic-2006.0-3590.xml\nRed  Win  classic-2006.0-3622.xml\nBlue Win  classic-2006.0-3880.xml\nRed  Win  classic-2006.0-4155.xml\nRed  Win  classic-2006.0-4260.xml\nRed  Win  classic-2006.0-4311.xml\nBlue Win  classic-2006.0-4385.xml\nBlue Win  classic-2006.0-4642.xml\nRed  Win  classic-2006.0-4928.xml\nBlue Win  classic-2006.0-4936.xml\nBlue Win  classic-2006.0-509.xml\nRed  Win  classic-2006.0-5128.xml\nBlue Win  classic-2006.0-5333.xml\nBlue Win  classic-2006.0-5562.xml\nBlue Win  classic-2006.0-5757.xml\nBlue Win  classic-2006.0-6098.xml\nBlue Win  classic-2006.0-6332.xml\nBlue Win  classic-2006.0-6392.xml\nBlue Win  classic-2006.0-6501.xml\nBlue Win  classic-2006.0-6559.xml\nBlue Loss classic-2006.0-6616.xml\nRed  Win  classic-2006.0-6692.xml\nBlue Win  classic-2006.0-6735.xml\nRed  Win  classic-2006.0-6770.xml\nBlue Loss classic-2006.0-918.xml\nRed  Win  classic-2006.1-1393.xml\nBlue Win  classic-2006.1-2352.xml\nRed  Win  classic-2006.1-2582.xml\nBlue Win  classic-2006.1-2903.xml\nBlue Win  classic-2006.1-330.xml\nBlue Win  classic-2006.1-3778.xml\nRed  Win  classic-2006.1-3965.xml\nBlue Win  classic-2006.1-455.xml\nRed  Win  classic-2006.1-5664.xml\nRed  Win  classic-2006.1-5998.xml\nBlue Win  classic-2006.1-6862.xml\nRed  Win  classic-2006.1-7297.xml\nBlue Win  classic-2006.1-7727.xml\nRed  Win  classic-2006.1-8015.xml\nRed  Win  classic-2006.1-814.xml\nBlue Win  classic-2006.1-8174.xml\nBlue Win  classic-2006.1-8202.xml\nBlue Win  classic-2006.1-8219.xml\nBlue Win  classic-2006.1-8372.xml\nRed  Win  classic-2006.2-1770.xml\nRed  Win  classic-2006.2-28.xml\nBlue Win  classic-2006.2-3264.xml\nRed  Win  classic-2006.2-3365.xml\nRed  Win  classic-2006.2-4587.xml\nRed  Win  classic-2006.2-4633.xml\nBlue Loss classic-2006.2-4674.xml\nBlue Win  classic-2006.2-5665.xml\nRed  Win  classic-2006.2-5944.xml\nBlue Win  classic-2006.2-6026.xml\nRed  Win  classic-2006.2-679.xml\nRed  Win  classic-2006.2-8300.xml\nRed  Win  classic-2006.2-8363.xml\nBlue Win  classic-2006.2-8420.xml\nRed  Win  classic-2006.2-8716.xml\nRed  Win  classic-2006.2-8779.xml\nRed  Win  classic-2006.2-972.xml\nRed  Win  classic-2006.5-1869.xml\nBlue Win  classic-2006.5-2177.xml\nBlue Loss classic-2006.5-2548.xml\nRed  Loss classic-2006.5-3381.xml\nBlue Win  classic-2006.5-3636.xml\nBlue Win  classic-2006.5-4165.xml\nBlue Win  classic-2006.5-4948.xml\nBlue Win  classic-2006.5-5134.xml\nBlue Win  classic-2006.5-5390.xml\nBlue Win  classic-2006.5-5488.xml\nBlue Win  classic-2006.5-6440.xml\nRed  Win  classic-2006.5-77.xml\nBlue Win  classic-2006.5-976.xml\nBlue Draw classic-2006.7-2497.xml\nBlue Win  classic-2006.7-5756.xml\n\n        2545274146\n        7298242X8B\n        52362273BF\n        35BB6B363B\n        \n"
     ]
    },
    {
     "output_type": "display_data",
     "data": {
      "text/plain": "<pandas.io.formats.style.Styler at 0x7f693d115ee0>",
      "text/html": "<style  type=\"text/css\" >\n</style><table id=\"T_7057e737_1d42_11eb_94aa_171fce606a64\" ><thead>    <tr>        <th class=\"blank level0\" ></th>        <th class=\"col_heading level0 col0\" >Wins</th>        <th class=\"col_heading level0 col1\" >Losses</th>        <th class=\"col_heading level0 col2\" >Ties</th>        <th class=\"col_heading level0 col3\" >Games Played</th>        <th class=\"col_heading level0 col4\" >Winning Percentage</th>    </tr></thead><tbody>\n                <tr>\n                        <th id=\"T_7057e737_1d42_11eb_94aa_171fce606a64level0_row0\" class=\"row_heading level0 row0\" ></th>\n                        <td id=\"T_7057e737_1d42_11eb_94aa_171fce606a64row0_col0\" class=\"data row0 col0\" >45</td>\n                        <td id=\"T_7057e737_1d42_11eb_94aa_171fce606a64row0_col1\" class=\"data row0 col1\" >6</td>\n                        <td id=\"T_7057e737_1d42_11eb_94aa_171fce606a64row0_col2\" class=\"data row0 col2\" >1</td>\n                        <td id=\"T_7057e737_1d42_11eb_94aa_171fce606a64row0_col3\" class=\"data row0 col3\" >52</td>\n                        <td id=\"T_7057e737_1d42_11eb_94aa_171fce606a64row0_col4\" class=\"data row0 col4\" >88.24%</td>\n            </tr>\n    </tbody></table>"
     },
     "metadata": {}
    },
    {
     "output_type": "stream",
     "name": "stdout",
     "text": [
      "Here's a listing of the game files for the setup above:\n\nRed  Win  classic-2005.10-1089.xml\nBlue Win  classic-2005.10-1093.xml\nBlue Win  classic-2005.10-1198.xml\nRed  Win  classic-2005.10-1295.xml\nRed  Win  classic-2005.10-131.xml\nBlue Win  classic-2005.10-1407.xml\nBlue Win  classic-2005.10-1428.xml\nBlue Win  classic-2005.10-1575.xml\nBlue Win  classic-2005.10-1604.xml\nBlue Loss classic-2005.10-169.xml\nBlue Win  classic-2005.10-1714.xml\nRed  Win  classic-2005.10-1896.xml\nRed  Win  classic-2005.10-2210.xml\nBlue Win  classic-2005.10-2704.xml\nRed  Win  classic-2005.10-284.xml\nBlue Win  classic-2005.10-3339.xml\nBlue Win  classic-2005.10-3539.xml\nRed  Loss classic-2005.10-3812.xml\nRed  Win  classic-2005.10-3878.xml\nBlue Win  classic-2005.10-410.xml\nRed  Win  classic-2005.10-4152.xml\nRed  Win  classic-2005.10-4162.xml\nBlue Win  classic-2005.10-4429.xml\nBlue Win  classic-2005.10-4543.xml\nBlue Win  classic-2005.10-4721.xml\nRed  Loss classic-2005.10-4736.xml\nRed  Win  classic-2005.10-4902.xml\nBlue Win  classic-2005.10-5002.xml\nRed  Loss classic-2005.10-5496.xml\nRed  Loss classic-2005.10-6017.xml\nBlue Win  classic-2005.10-6121.xml\nBlue Win  classic-2005.10-6405.xml\nRed  Win  classic-2005.10-6447.xml\nBlue Draw classic-2005.10-660.xml\nRed  Win  classic-2005.10-6678.xml\nRed  Win  classic-2005.10-6691.xml\nBlue Win  classic-2005.10-7406.xml\nRed  Win  classic-2005.10-8216.xml\nBlue Win  classic-2005.10-856.xml\nBlue Win  classic-2005.10-902.xml\nRed  Win  classic-2005.11-129.xml\nBlue Win  classic-2005.11-1519.xml\nRed  Win  classic-2005.11-1567.xml\nRed  Loss classic-2005.11-2377.xml\nBlue Win  classic-2005.11-3229.xml\nBlue Win  classic-2005.11-353.xml\nRed  Win  classic-2005.11-3794.xml\nRed  Win  classic-2005.11-5954.xml\nBlue Win  classic-2005.11-6082.xml\nRed  Win  classic-2005.11-6689.xml\nRed  Win  classic-2006.1-4409.xml\nRed  Win  classic-2006.5-702.xml\n"
     ]
    }
   ],
   "source": [
    "for s in best_setups.values():\n",
    "    df = pattern.equal(classic_xml, s, mirrored=False)\n",
    "    print(s)\n",
    "    display(df\n",
    "        .groupby(lambda _: '')\n",
    "        .agg(**{\n",
    "            'Wins'        : ('win',    'sum'  ), \n",
    "            'Losses'      : ('loss',   'sum'  ), \n",
    "            'Ties'        : ('draw',   'sum'  ),\n",
    "            'Games Played': ('result', 'count')\n",
    "        })\n",
    "        .assign(**{'Winning Percentage': lambda r: r.Wins / (r.Wins + r.Losses)})\n",
    "        .style\n",
    "        .format({'Winning Percentage': '{:.2%}'})\n",
    "    )\n",
    "    print(\"Here's a listing of the game files for the setup above:\\n\")    \n",
    "    for row in df.sort_values('filename').itertuples():\n",
    "        print(f'{row.player.capitalize():4} {row.result.capitalize():4} {row.filename}') "
   ]
  },
  {
   "source": [
    "## 2. Improvements\n",
    "\n",
    "We make the following improvements: \n",
    "- First, we include all Gravon games, both in the .gsn and .xml formats. This increases the number of setups to over a hundred thousand.\n",
    "- Second, we also include mirrored setup matches.\n",
    "- Third, we order game outcomes as Win, Draw, Loss.\n",
    "- Fourth, we summarize the average percentage score (win = 1.0, draw = 0.5 and loss = 0.0 points).\n",
    "- Fifth, we also show statistics by the player's color, the match type and the period in which the games were played.\n",
    "- Finally, we archive the various games in .zip files viewable with the [Gravon game player](http://www.gravon.de/gravon/stratego/strados2.jsp).\n",
    "\n",
    "Note that the table cells in this notebook are not correctly aligned when rendered on GitHub."
   ],
   "cell_type": "markdown",
   "metadata": {}
  },
  {
   "cell_type": "code",
   "execution_count": 5,
   "metadata": {},
   "outputs": [],
   "source": [
    "import gravon.archive as archive"
   ]
  },
  {
   "cell_type": "code",
   "execution_count": 6,
   "metadata": {},
   "outputs": [],
   "source": [
    "classic = (pkg\n",
    "    .load_dataset('ss2')\n",
    "    .query('type == \"classic\"')\n",
    ")"
   ]
  },
  {
   "cell_type": "code",
   "execution_count": 7,
   "metadata": {},
   "outputs": [
    {
     "output_type": "stream",
     "name": "stdout",
     "text": [
      "\n        2465276146\n        7282229X8B\n        25347263BF\n        53BBB4353B\n        \n"
     ]
    },
    {
     "output_type": "display_data",
     "data": {
      "text/plain": "<pandas.io.formats.style.Styler at 0x7f69744acf70>",
      "text/html": "<style  type=\"text/css\" >\n</style><table id=\"T_7057e738_1d42_11eb_94aa_171fce606a64\" ><thead>    <tr>        <th class=\"blank level0\" ></th>        <th class=\"col_heading level0 col0\" >Games</th>        <th class=\"col_heading level0 col1\" >Wins</th>        <th class=\"col_heading level0 col2\" >Draws</th>        <th class=\"col_heading level0 col3\" >Losses</th>        <th class=\"col_heading level0 col4\" >Score</th>    </tr></thead><tbody>\n                <tr>\n                        <th id=\"T_7057e738_1d42_11eb_94aa_171fce606a64level0_row0\" class=\"row_heading level0 row0\" ></th>\n                        <td id=\"T_7057e738_1d42_11eb_94aa_171fce606a64row0_col0\" class=\"data row0 col0\" >97</td>\n                        <td id=\"T_7057e738_1d42_11eb_94aa_171fce606a64row0_col1\" class=\"data row0 col1\" >87</td>\n                        <td id=\"T_7057e738_1d42_11eb_94aa_171fce606a64row0_col2\" class=\"data row0 col2\" >1</td>\n                        <td id=\"T_7057e738_1d42_11eb_94aa_171fce606a64row0_col3\" class=\"data row0 col3\" >9</td>\n                        <td id=\"T_7057e738_1d42_11eb_94aa_171fce606a64row0_col4\" class=\"data row0 col4\" >90.21%</td>\n            </tr>\n    </tbody></table>"
     },
     "metadata": {}
    },
    {
     "output_type": "display_data",
     "data": {
      "text/plain": "<pandas.io.formats.style.Styler at 0x7f6974cc0190>",
      "text/html": "<style  type=\"text/css\" >\n</style><table id=\"T_7057e739_1d42_11eb_94aa_171fce606a64\" ><thead>    <tr>        <th class=\"blank\" ></th>        <th class=\"blank level0\" ></th>        <th class=\"col_heading level0 col0\" >Games</th>        <th class=\"col_heading level0 col1\" >Wins</th>        <th class=\"col_heading level0 col2\" >Draws</th>        <th class=\"col_heading level0 col3\" >Losses</th>        <th class=\"col_heading level0 col4\" >Score</th>    </tr>    <tr>        <th class=\"index_name level0\" >player</th>        <th class=\"index_name level1\" >match_type</th>        <th class=\"blank\" ></th>        <th class=\"blank\" ></th>        <th class=\"blank\" ></th>        <th class=\"blank\" ></th>        <th class=\"blank\" ></th>    </tr></thead><tbody>\n                <tr>\n                        <th id=\"T_7057e739_1d42_11eb_94aa_171fce606a64level0_row0\" class=\"row_heading level0 row0\" >red</th>\n                        <th id=\"T_7057e739_1d42_11eb_94aa_171fce606a64level1_row0\" class=\"row_heading level1 row0\" >identity</th>\n                        <td id=\"T_7057e739_1d42_11eb_94aa_171fce606a64row0_col0\" class=\"data row0 col0\" >41</td>\n                        <td id=\"T_7057e739_1d42_11eb_94aa_171fce606a64row0_col1\" class=\"data row0 col1\" >37</td>\n                        <td id=\"T_7057e739_1d42_11eb_94aa_171fce606a64row0_col2\" class=\"data row0 col2\" >0</td>\n                        <td id=\"T_7057e739_1d42_11eb_94aa_171fce606a64row0_col3\" class=\"data row0 col3\" >4</td>\n                        <td id=\"T_7057e739_1d42_11eb_94aa_171fce606a64row0_col4\" class=\"data row0 col4\" >90.24%</td>\n            </tr>\n            <tr>\n                        <th id=\"T_7057e739_1d42_11eb_94aa_171fce606a64level0_row1\" class=\"row_heading level0 row1\" >blue</th>\n                        <th id=\"T_7057e739_1d42_11eb_94aa_171fce606a64level1_row1\" class=\"row_heading level1 row1\" >identity</th>\n                        <td id=\"T_7057e739_1d42_11eb_94aa_171fce606a64row1_col0\" class=\"data row1 col0\" >56</td>\n                        <td id=\"T_7057e739_1d42_11eb_94aa_171fce606a64row1_col1\" class=\"data row1 col1\" >50</td>\n                        <td id=\"T_7057e739_1d42_11eb_94aa_171fce606a64row1_col2\" class=\"data row1 col2\" >1</td>\n                        <td id=\"T_7057e739_1d42_11eb_94aa_171fce606a64row1_col3\" class=\"data row1 col3\" >5</td>\n                        <td id=\"T_7057e739_1d42_11eb_94aa_171fce606a64row1_col4\" class=\"data row1 col4\" >90.18%</td>\n            </tr>\n    </tbody></table>"
     },
     "metadata": {}
    },
    {
     "output_type": "display_data",
     "data": {
      "text/plain": "<pandas.io.formats.style.Styler at 0x7f693b8e6c40>",
      "text/html": "<style  type=\"text/css\" >\n</style><table id=\"T_7057e73a_1d42_11eb_94aa_171fce606a64\" ><thead>    <tr>        <th class=\"blank level0\" ></th>        <th class=\"col_heading level0 col0\" >Games</th>        <th class=\"col_heading level0 col1\" >Wins</th>        <th class=\"col_heading level0 col2\" >Draws</th>        <th class=\"col_heading level0 col3\" >Losses</th>        <th class=\"col_heading level0 col4\" >Score</th>    </tr>    <tr>        <th class=\"index_name level0\" >period</th>        <th class=\"blank\" ></th>        <th class=\"blank\" ></th>        <th class=\"blank\" ></th>        <th class=\"blank\" ></th>        <th class=\"blank\" ></th>    </tr></thead><tbody>\n                <tr>\n                        <th id=\"T_7057e73a_1d42_11eb_94aa_171fce606a64level0_row0\" class=\"row_heading level0 row0\" >2005-12</th>\n                        <td id=\"T_7057e73a_1d42_11eb_94aa_171fce606a64row0_col0\" class=\"data row0 col0\" >46</td>\n                        <td id=\"T_7057e73a_1d42_11eb_94aa_171fce606a64row0_col1\" class=\"data row0 col1\" >40</td>\n                        <td id=\"T_7057e73a_1d42_11eb_94aa_171fce606a64row0_col2\" class=\"data row0 col2\" >0</td>\n                        <td id=\"T_7057e73a_1d42_11eb_94aa_171fce606a64row0_col3\" class=\"data row0 col3\" >6</td>\n                        <td id=\"T_7057e73a_1d42_11eb_94aa_171fce606a64row0_col4\" class=\"data row0 col4\" >86.96%</td>\n            </tr>\n            <tr>\n                        <th id=\"T_7057e73a_1d42_11eb_94aa_171fce606a64level0_row1\" class=\"row_heading level0 row1\" >2006-01</th>\n                        <td id=\"T_7057e73a_1d42_11eb_94aa_171fce606a64row1_col0\" class=\"data row1 col0\" >19</td>\n                        <td id=\"T_7057e73a_1d42_11eb_94aa_171fce606a64row1_col1\" class=\"data row1 col1\" >19</td>\n                        <td id=\"T_7057e73a_1d42_11eb_94aa_171fce606a64row1_col2\" class=\"data row1 col2\" >0</td>\n                        <td id=\"T_7057e73a_1d42_11eb_94aa_171fce606a64row1_col3\" class=\"data row1 col3\" >0</td>\n                        <td id=\"T_7057e73a_1d42_11eb_94aa_171fce606a64row1_col4\" class=\"data row1 col4\" >100.00%</td>\n            </tr>\n            <tr>\n                        <th id=\"T_7057e73a_1d42_11eb_94aa_171fce606a64level0_row2\" class=\"row_heading level0 row2\" >2006-02</th>\n                        <td id=\"T_7057e73a_1d42_11eb_94aa_171fce606a64row2_col0\" class=\"data row2 col0\" >17</td>\n                        <td id=\"T_7057e73a_1d42_11eb_94aa_171fce606a64row2_col1\" class=\"data row2 col1\" >16</td>\n                        <td id=\"T_7057e73a_1d42_11eb_94aa_171fce606a64row2_col2\" class=\"data row2 col2\" >0</td>\n                        <td id=\"T_7057e73a_1d42_11eb_94aa_171fce606a64row2_col3\" class=\"data row2 col3\" >1</td>\n                        <td id=\"T_7057e73a_1d42_11eb_94aa_171fce606a64row2_col4\" class=\"data row2 col4\" >94.12%</td>\n            </tr>\n            <tr>\n                        <th id=\"T_7057e73a_1d42_11eb_94aa_171fce606a64level0_row3\" class=\"row_heading level0 row3\" >2006-05</th>\n                        <td id=\"T_7057e73a_1d42_11eb_94aa_171fce606a64row3_col0\" class=\"data row3 col0\" >13</td>\n                        <td id=\"T_7057e73a_1d42_11eb_94aa_171fce606a64row3_col1\" class=\"data row3 col1\" >11</td>\n                        <td id=\"T_7057e73a_1d42_11eb_94aa_171fce606a64row3_col2\" class=\"data row3 col2\" >0</td>\n                        <td id=\"T_7057e73a_1d42_11eb_94aa_171fce606a64row3_col3\" class=\"data row3 col3\" >2</td>\n                        <td id=\"T_7057e73a_1d42_11eb_94aa_171fce606a64row3_col4\" class=\"data row3 col4\" >84.62%</td>\n            </tr>\n            <tr>\n                        <th id=\"T_7057e73a_1d42_11eb_94aa_171fce606a64level0_row4\" class=\"row_heading level0 row4\" >2006-07</th>\n                        <td id=\"T_7057e73a_1d42_11eb_94aa_171fce606a64row4_col0\" class=\"data row4 col0\" >2</td>\n                        <td id=\"T_7057e73a_1d42_11eb_94aa_171fce606a64row4_col1\" class=\"data row4 col1\" >1</td>\n                        <td id=\"T_7057e73a_1d42_11eb_94aa_171fce606a64row4_col2\" class=\"data row4 col2\" >1</td>\n                        <td id=\"T_7057e73a_1d42_11eb_94aa_171fce606a64row4_col3\" class=\"data row4 col3\" >0</td>\n                        <td id=\"T_7057e73a_1d42_11eb_94aa_171fce606a64row4_col4\" class=\"data row4 col4\" >75.00%</td>\n            </tr>\n    </tbody></table>"
     },
     "metadata": {}
    },
    {
     "output_type": "stream",
     "name": "stdout",
     "text": [
      "Here's a listing of the game files for the setup above:\n\nRed  Loss classic-2006.0-131.xml\nBlue Win  classic-2006.0-164.xml\nRed  Loss classic-2006.0-212.xml\nBlue Win  classic-2006.0-317.xml\nBlue Win  classic-2006.0-509.xml\nBlue Loss classic-2006.0-918.xml\nRed  Loss classic-2006.0-1129.xml\nBlue Win  classic-2006.0-1169.xml\nBlue Win  classic-2006.0-1565.xml\nRed  Win  classic-2006.0-1621.xml\nBlue Win  classic-2006.0-1653.xml\nBlue Win  classic-2006.0-1688.xml\nBlue Win  classic-2006.0-1770.xml\nRed  Win  classic-2006.0-1825.xml\nBlue Loss classic-2006.0-1962.xml\nBlue Win  classic-2006.0-2446.xml\nRed  Win  classic-2006.0-2464.xml\nRed  Win  classic-2006.0-2501.xml\nRed  Win  classic-2006.0-2675.xml\nBlue Win  classic-2006.0-2869.xml\nRed  Win  classic-2006.0-3212.xml\nBlue Win  classic-2006.0-3451.xml\nBlue Win  classic-2006.0-3549.xml\nRed  Win  classic-2006.0-3590.xml\nRed  Win  classic-2006.0-3622.xml\nBlue Win  classic-2006.0-3880.xml\nRed  Win  classic-2006.0-4155.xml\nRed  Win  classic-2006.0-4260.xml\nRed  Win  classic-2006.0-4311.xml\nBlue Win  classic-2006.0-4385.xml\nBlue Win  classic-2006.0-4642.xml\nRed  Win  classic-2006.0-4928.xml\nBlue Win  classic-2006.0-4936.xml\nRed  Win  classic-2006.0-5128.xml\nBlue Win  classic-2006.0-5333.xml\nBlue Win  classic-2006.0-5562.xml\nBlue Win  classic-2006.0-5757.xml\nBlue Win  classic-2006.0-6098.xml\nBlue Win  classic-2006.0-6332.xml\nBlue Win  classic-2006.0-6392.xml\nBlue Win  classic-2006.0-6501.xml\nBlue Win  classic-2006.0-6559.xml\nBlue Loss classic-2006.0-6616.xml\nRed  Win  classic-2006.0-6692.xml\nBlue Win  classic-2006.0-6735.xml\nRed  Win  classic-2006.0-6770.xml\nBlue Win  classic-2006.1-330.xml\nBlue Win  classic-2006.1-455.xml\nRed  Win  classic-2006.1-814.xml\nRed  Win  classic-2006.1-1393.xml\nBlue Win  classic-2006.1-2352.xml\nRed  Win  classic-2006.1-2582.xml\nBlue Win  classic-2006.1-2903.xml\nBlue Win  classic-2006.1-3778.xml\nRed  Win  classic-2006.1-3965.xml\nRed  Win  classic-2006.1-5664.xml\nRed  Win  classic-2006.1-5998.xml\nBlue Win  classic-2006.1-6862.xml\nRed  Win  classic-2006.1-7297.xml\nBlue Win  classic-2006.1-7727.xml\nRed  Win  classic-2006.1-8015.xml\nBlue Win  classic-2006.1-8174.xml\nBlue Win  classic-2006.1-8202.xml\nBlue Win  classic-2006.1-8219.xml\nBlue Win  classic-2006.1-8372.xml\nRed  Win  classic-2006.2-28.xml\nRed  Win  classic-2006.2-679.xml\nRed  Win  classic-2006.2-972.xml\nRed  Win  classic-2006.2-1770.xml\nBlue Win  classic-2006.2-3264.xml\nRed  Win  classic-2006.2-3365.xml\nRed  Win  classic-2006.2-4587.xml\nRed  Win  classic-2006.2-4633.xml\nBlue Loss classic-2006.2-4674.xml\nBlue Win  classic-2006.2-5665.xml\nRed  Win  classic-2006.2-5944.xml\nBlue Win  classic-2006.2-6026.xml\nRed  Win  classic-2006.2-8300.xml\nRed  Win  classic-2006.2-8363.xml\nBlue Win  classic-2006.2-8420.xml\nRed  Win  classic-2006.2-8716.xml\nRed  Win  classic-2006.2-8779.xml\nRed  Win  classic-2006.5-77.xml\nBlue Win  classic-2006.5-976.xml\nRed  Win  classic-2006.5-1869.xml\nBlue Win  classic-2006.5-2177.xml\nBlue Loss classic-2006.5-2548.xml\nRed  Loss classic-2006.5-3381.xml\nBlue Win  classic-2006.5-3636.xml\nBlue Win  classic-2006.5-4165.xml\nBlue Win  classic-2006.5-4948.xml\nBlue Win  classic-2006.5-5134.xml\nBlue Win  classic-2006.5-5390.xml\nBlue Win  classic-2006.5-5488.xml\nBlue Win  classic-2006.5-6440.xml\nBlue Draw classic-2006.7-2497.xml\nBlue Win  classic-2006.7-5756.xml\n\n        2545274146\n        7298242X8B\n        52362273BF\n        35BB6B363B\n        \n"
     ]
    },
    {
     "output_type": "display_data",
     "data": {
      "text/plain": "<pandas.io.formats.style.Styler at 0x7f692c1e8f70>",
      "text/html": "<style  type=\"text/css\" >\n</style><table id=\"T_7057e73b_1d42_11eb_94aa_171fce606a64\" ><thead>    <tr>        <th class=\"blank level0\" ></th>        <th class=\"col_heading level0 col0\" >Games</th>        <th class=\"col_heading level0 col1\" >Wins</th>        <th class=\"col_heading level0 col2\" >Draws</th>        <th class=\"col_heading level0 col3\" >Losses</th>        <th class=\"col_heading level0 col4\" >Score</th>    </tr></thead><tbody>\n                <tr>\n                        <th id=\"T_7057e73b_1d42_11eb_94aa_171fce606a64level0_row0\" class=\"row_heading level0 row0\" ></th>\n                        <td id=\"T_7057e73b_1d42_11eb_94aa_171fce606a64row0_col0\" class=\"data row0 col0\" >52</td>\n                        <td id=\"T_7057e73b_1d42_11eb_94aa_171fce606a64row0_col1\" class=\"data row0 col1\" >45</td>\n                        <td id=\"T_7057e73b_1d42_11eb_94aa_171fce606a64row0_col2\" class=\"data row0 col2\" >1</td>\n                        <td id=\"T_7057e73b_1d42_11eb_94aa_171fce606a64row0_col3\" class=\"data row0 col3\" >6</td>\n                        <td id=\"T_7057e73b_1d42_11eb_94aa_171fce606a64row0_col4\" class=\"data row0 col4\" >87.50%</td>\n            </tr>\n    </tbody></table>"
     },
     "metadata": {}
    },
    {
     "output_type": "display_data",
     "data": {
      "text/plain": "<pandas.io.formats.style.Styler at 0x7f6936b7c730>",
      "text/html": "<style  type=\"text/css\" >\n</style><table id=\"T_7057e73c_1d42_11eb_94aa_171fce606a64\" ><thead>    <tr>        <th class=\"blank\" ></th>        <th class=\"blank level0\" ></th>        <th class=\"col_heading level0 col0\" >Games</th>        <th class=\"col_heading level0 col1\" >Wins</th>        <th class=\"col_heading level0 col2\" >Draws</th>        <th class=\"col_heading level0 col3\" >Losses</th>        <th class=\"col_heading level0 col4\" >Score</th>    </tr>    <tr>        <th class=\"index_name level0\" >player</th>        <th class=\"index_name level1\" >match_type</th>        <th class=\"blank\" ></th>        <th class=\"blank\" ></th>        <th class=\"blank\" ></th>        <th class=\"blank\" ></th>        <th class=\"blank\" ></th>    </tr></thead><tbody>\n                <tr>\n                        <th id=\"T_7057e73c_1d42_11eb_94aa_171fce606a64level0_row0\" class=\"row_heading level0 row0\" >red</th>\n                        <th id=\"T_7057e73c_1d42_11eb_94aa_171fce606a64level1_row0\" class=\"row_heading level1 row0\" >identity</th>\n                        <td id=\"T_7057e73c_1d42_11eb_94aa_171fce606a64row0_col0\" class=\"data row0 col0\" >26</td>\n                        <td id=\"T_7057e73c_1d42_11eb_94aa_171fce606a64row0_col1\" class=\"data row0 col1\" >21</td>\n                        <td id=\"T_7057e73c_1d42_11eb_94aa_171fce606a64row0_col2\" class=\"data row0 col2\" >0</td>\n                        <td id=\"T_7057e73c_1d42_11eb_94aa_171fce606a64row0_col3\" class=\"data row0 col3\" >5</td>\n                        <td id=\"T_7057e73c_1d42_11eb_94aa_171fce606a64row0_col4\" class=\"data row0 col4\" >80.77%</td>\n            </tr>\n            <tr>\n                        <th id=\"T_7057e73c_1d42_11eb_94aa_171fce606a64level0_row1\" class=\"row_heading level0 row1\" >blue</th>\n                        <th id=\"T_7057e73c_1d42_11eb_94aa_171fce606a64level1_row1\" class=\"row_heading level1 row1\" >identity</th>\n                        <td id=\"T_7057e73c_1d42_11eb_94aa_171fce606a64row1_col0\" class=\"data row1 col0\" >26</td>\n                        <td id=\"T_7057e73c_1d42_11eb_94aa_171fce606a64row1_col1\" class=\"data row1 col1\" >24</td>\n                        <td id=\"T_7057e73c_1d42_11eb_94aa_171fce606a64row1_col2\" class=\"data row1 col2\" >1</td>\n                        <td id=\"T_7057e73c_1d42_11eb_94aa_171fce606a64row1_col3\" class=\"data row1 col3\" >1</td>\n                        <td id=\"T_7057e73c_1d42_11eb_94aa_171fce606a64row1_col4\" class=\"data row1 col4\" >94.23%</td>\n            </tr>\n    </tbody></table>"
     },
     "metadata": {}
    },
    {
     "output_type": "display_data",
     "data": {
      "text/plain": "<pandas.io.formats.style.Styler at 0x7f6936b7ccd0>",
      "text/html": "<style  type=\"text/css\" >\n</style><table id=\"T_7057e73d_1d42_11eb_94aa_171fce606a64\" ><thead>    <tr>        <th class=\"blank level0\" ></th>        <th class=\"col_heading level0 col0\" >Games</th>        <th class=\"col_heading level0 col1\" >Wins</th>        <th class=\"col_heading level0 col2\" >Draws</th>        <th class=\"col_heading level0 col3\" >Losses</th>        <th class=\"col_heading level0 col4\" >Score</th>    </tr>    <tr>        <th class=\"index_name level0\" >period</th>        <th class=\"blank\" ></th>        <th class=\"blank\" ></th>        <th class=\"blank\" ></th>        <th class=\"blank\" ></th>        <th class=\"blank\" ></th>    </tr></thead><tbody>\n                <tr>\n                        <th id=\"T_7057e73d_1d42_11eb_94aa_171fce606a64level0_row0\" class=\"row_heading level0 row0\" >2005-10</th>\n                        <td id=\"T_7057e73d_1d42_11eb_94aa_171fce606a64row0_col0\" class=\"data row0 col0\" >40</td>\n                        <td id=\"T_7057e73d_1d42_11eb_94aa_171fce606a64row0_col1\" class=\"data row0 col1\" >34</td>\n                        <td id=\"T_7057e73d_1d42_11eb_94aa_171fce606a64row0_col2\" class=\"data row0 col2\" >1</td>\n                        <td id=\"T_7057e73d_1d42_11eb_94aa_171fce606a64row0_col3\" class=\"data row0 col3\" >5</td>\n                        <td id=\"T_7057e73d_1d42_11eb_94aa_171fce606a64row0_col4\" class=\"data row0 col4\" >86.25%</td>\n            </tr>\n            <tr>\n                        <th id=\"T_7057e73d_1d42_11eb_94aa_171fce606a64level0_row1\" class=\"row_heading level0 row1\" >2005-11</th>\n                        <td id=\"T_7057e73d_1d42_11eb_94aa_171fce606a64row1_col0\" class=\"data row1 col0\" >10</td>\n                        <td id=\"T_7057e73d_1d42_11eb_94aa_171fce606a64row1_col1\" class=\"data row1 col1\" >9</td>\n                        <td id=\"T_7057e73d_1d42_11eb_94aa_171fce606a64row1_col2\" class=\"data row1 col2\" >0</td>\n                        <td id=\"T_7057e73d_1d42_11eb_94aa_171fce606a64row1_col3\" class=\"data row1 col3\" >1</td>\n                        <td id=\"T_7057e73d_1d42_11eb_94aa_171fce606a64row1_col4\" class=\"data row1 col4\" >90.00%</td>\n            </tr>\n            <tr>\n                        <th id=\"T_7057e73d_1d42_11eb_94aa_171fce606a64level0_row2\" class=\"row_heading level0 row2\" >2006-01</th>\n                        <td id=\"T_7057e73d_1d42_11eb_94aa_171fce606a64row2_col0\" class=\"data row2 col0\" >1</td>\n                        <td id=\"T_7057e73d_1d42_11eb_94aa_171fce606a64row2_col1\" class=\"data row2 col1\" >1</td>\n                        <td id=\"T_7057e73d_1d42_11eb_94aa_171fce606a64row2_col2\" class=\"data row2 col2\" >0</td>\n                        <td id=\"T_7057e73d_1d42_11eb_94aa_171fce606a64row2_col3\" class=\"data row2 col3\" >0</td>\n                        <td id=\"T_7057e73d_1d42_11eb_94aa_171fce606a64row2_col4\" class=\"data row2 col4\" >100.00%</td>\n            </tr>\n            <tr>\n                        <th id=\"T_7057e73d_1d42_11eb_94aa_171fce606a64level0_row3\" class=\"row_heading level0 row3\" >2006-05</th>\n                        <td id=\"T_7057e73d_1d42_11eb_94aa_171fce606a64row3_col0\" class=\"data row3 col0\" >1</td>\n                        <td id=\"T_7057e73d_1d42_11eb_94aa_171fce606a64row3_col1\" class=\"data row3 col1\" >1</td>\n                        <td id=\"T_7057e73d_1d42_11eb_94aa_171fce606a64row3_col2\" class=\"data row3 col2\" >0</td>\n                        <td id=\"T_7057e73d_1d42_11eb_94aa_171fce606a64row3_col3\" class=\"data row3 col3\" >0</td>\n                        <td id=\"T_7057e73d_1d42_11eb_94aa_171fce606a64row3_col4\" class=\"data row3 col4\" >100.00%</td>\n            </tr>\n    </tbody></table>"
     },
     "metadata": {}
    },
    {
     "output_type": "stream",
     "name": "stdout",
     "text": [
      "Here's a listing of the game files for the setup above:\n",
      "\n",
      "Red  Win  classic-2005.10-131.xml\n",
      "Blue Loss classic-2005.10-169.xml\n",
      "Red  Win  classic-2005.10-284.xml\n",
      "Blue Win  classic-2005.10-410.xml\n",
      "Blue Draw classic-2005.10-660.xml\n",
      "Blue Win  classic-2005.10-856.xml\n",
      "Blue Win  classic-2005.10-902.xml\n",
      "Red  Win  classic-2005.10-1089.xml\n",
      "Blue Win  classic-2005.10-1093.xml\n",
      "Blue Win  classic-2005.10-1198.xml\n",
      "Red  Win  classic-2005.10-1295.xml\n",
      "Blue Win  classic-2005.10-1407.xml\n",
      "Blue Win  classic-2005.10-1428.xml\n",
      "Blue Win  classic-2005.10-1575.xml\n",
      "Blue Win  classic-2005.10-1604.xml\n",
      "Blue Win  classic-2005.10-1714.xml\n",
      "Red  Win  classic-2005.10-1896.xml\n",
      "Red  Win  classic-2005.10-2210.xml\n",
      "Blue Win  classic-2005.10-2704.xml\n",
      "Blue Win  classic-2005.10-3339.xml\n",
      "Blue Win  classic-2005.10-3539.xml\n",
      "Red  Loss classic-2005.10-3812.xml\n",
      "Red  Win  classic-2005.10-3878.xml\n",
      "Red  Win  classic-2005.10-4152.xml\n",
      "Red  Win  classic-2005.10-4162.xml\n",
      "Blue Win  classic-2005.10-4429.xml\n",
      "Blue Win  classic-2005.10-4543.xml\n",
      "Blue Win  classic-2005.10-4721.xml\n",
      "Red  Loss classic-2005.10-4736.xml\n",
      "Red  Win  classic-2005.10-4902.xml\n",
      "Blue Win  classic-2005.10-5002.xml\n",
      "Red  Loss classic-2005.10-5496.xml\n",
      "Red  Loss classic-2005.10-6017.xml\n",
      "Blue Win  classic-2005.10-6121.xml\n",
      "Blue Win  classic-2005.10-6405.xml\n",
      "Red  Win  classic-2005.10-6447.xml\n",
      "Red  Win  classic-2005.10-6678.xml\n",
      "Red  Win  classic-2005.10-6691.xml\n",
      "Blue Win  classic-2005.10-7406.xml\n",
      "Red  Win  classic-2005.10-8216.xml\n",
      "Red  Win  classic-2005.11-129.xml\n",
      "Blue Win  classic-2005.11-353.xml\n",
      "Blue Win  classic-2005.11-1519.xml\n",
      "Red  Win  classic-2005.11-1567.xml\n",
      "Red  Loss classic-2005.11-2377.xml\n",
      "Blue Win  classic-2005.11-3229.xml\n",
      "Red  Win  classic-2005.11-3794.xml\n",
      "Red  Win  classic-2005.11-5954.xml\n",
      "Blue Win  classic-2005.11-6082.xml\n",
      "Red  Win  classic-2005.11-6689.xml\n",
      "Red  Win  classic-2006.1-4409.xml\n",
      "Red  Win  classic-2006.5-702.xml\n"
     ]
    }
   ],
   "source": [
    "for version, s in best_setups.items():\n",
    "    df = pattern.equal(classic, s, mirrored=True)\n",
    "    print(s)\n",
    "    display(df\n",
    "        .groupby(lambda _: '')\n",
    "        .agg(**{\n",
    "            'Games' : ('result', 'count'),\n",
    "            'Wins'  : ('win',    'sum'  ),\n",
    "            'Draws' : ('draw',   'sum'  ),\n",
    "            'Losses': ('loss',   'sum'  ),\n",
    "            'Score' : ('score',  'mean' )\n",
    "        })\n",
    "        .style\n",
    "        .format({\n",
    "            'Score': '{:.2%}'\n",
    "        })\n",
    "    )\n",
    "    display(df\n",
    "        .groupby([df.player, df.match_type])\n",
    "        .agg(**{\n",
    "            'Games' : ('result', 'count'),\n",
    "            'Wins'  : ('win',    'sum'  ),\n",
    "            'Draws' : ('draw',   'sum'  ),\n",
    "            'Losses': ('loss',   'sum'  ),\n",
    "            'Score' : ('score',  'mean' )\n",
    "        })\n",
    "        .style\n",
    "        .format({\n",
    "            'Score': '{:.2%}'\n",
    "        })\n",
    "    )\n",
    "    display(df\n",
    "        .groupby(df.period)\n",
    "        .agg(**{\n",
    "            'Games' : ('result', 'count'),\n",
    "            'Wins'  : ('win',    'sum'  ),\n",
    "            'Draws' : ('draw',   'sum'  ),\n",
    "            'Losses': ('loss',   'sum'  ),\n",
    "            'Score' : ('score',  'mean' )\n",
    "        })\n",
    "        .style\n",
    "        .format({\n",
    "            'Score': '{:.2%}'\n",
    "        })\n",
    "    )\n",
    "    print(\"Here's a listing of the game files for the setup above:\\n\")    \n",
    "    for row in df.itertuples():\n",
    "        print(f'{row.player.capitalize():4} {row.result.capitalize():4} {row.filename}') \n",
    "    archive.make_zip(df.filename.tolist(), f'best_setup_{version}')"
   ]
  }
 ]
}