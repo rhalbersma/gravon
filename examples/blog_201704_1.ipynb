{
 "metadata": {
  "language_info": {
   "codemirror_mode": {
    "name": "ipython",
    "version": 3
   },
   "file_extension": ".py",
   "mimetype": "text/x-python",
   "name": "python",
   "nbconvert_exporter": "python",
   "pygments_lexer": "ipython3",
   "version": "3.8.5-final"
  },
  "orig_nbformat": 2,
  "kernelspec": {
   "name": "Python 3.8.5 64-bit ('.env')",
   "display_name": "Python 3.8.5 64-bit ('.env')",
   "metadata": {
    "interpreter": {
     "hash": "fb063bd4e02e2e9e6f2b45e0bd9a1e15a40ac6fbc424be8ece7e0842b7b84b2b"
    }
   }
  }
 },
 "nbformat": 4,
 "nbformat_minor": 2,
 "cells": [
  {
   "source": [
    "```\n",
    "         Copyright Rein Halbersma 2018-2020.\n",
    "Distributed under the Boost Software License, Version 1.0.\n",
    "   (See accompanying file LICENSE_1_0.txt or copy at\n",
    "         http://www.boost.org/LICENSE_1_0.txt)\n",
    "```"
   ],
   "cell_type": "markdown",
   "metadata": {}
  },
  {
   "source": [
    "## Reproducing Dobby125's [blog post](http://stratego-tips.blogspot.com/2017/04/top-row-open-flag-winning-game-files-at.html)"
   ],
   "cell_type": "markdown",
   "metadata": {}
  },
  {
   "cell_type": "code",
   "execution_count": 1,
   "metadata": {},
   "outputs": [],
   "source": [
    "import gravon.package as pkg\n",
    "import gravon.pattern as pattern"
   ]
  },
  {
   "cell_type": "code",
   "execution_count": 2,
   "metadata": {},
   "outputs": [
    {
     "output_type": "stream",
     "name": "stdout",
     "text": [
      "        Total Wins  Total Games  Win Percentage\nplayer                                         \nred              3           35        0.085714\nblue             6           34        0.176471 \n\nclassic-2005.10-3351.xml\nclassic-2005.11-7392.xml\nclassic-2006.0-313.xml\nclassic-2006.2-4060.xml\nclassic-2006.2-7249.xml\nclassic-2006.4-1615.xml\nclassic-2006.4-5912.xml\nclassic-2014.10-2664.xml\nclassic-2014.5-138.xml \n\n        Total Wins  Total Games  Win Percentage\nplayer                                         \nred             57          169        0.337278\nblue            57          140        0.407143 \n\nclassic-2005.10-1263.xml\nclassic-2005.10-1955.xml\nclassic-2005.10-2816.xml\nclassic-2005.10-3510.xml\nclassic-2005.10-4479.xml\nclassic-2005.10-4521.xml\nclassic-2005.10-5217.xml\nclassic-2005.10-5659.xml\nclassic-2005.10-5716.xml\nclassic-2005.10-5895.xml\nclassic-2005.10-6141.xml\nclassic-2005.10-622.xml\nclassic-2005.10-6530.xml\nclassic-2005.10-6854.xml\nclassic-2005.10-6972.xml\nclassic-2005.10-7710.xml\nclassic-2005.10-7795.xml\nclassic-2005.10-8249.xml\nclassic-2005.10-832.xml\nclassic-2005.11-1299.xml\nclassic-2005.11-1787.xml\nclassic-2005.11-2067.xml\nclassic-2005.11-2573.xml\nclassic-2005.11-3241.xml\nclassic-2005.11-3400.xml\nclassic-2005.11-3838.xml\nclassic-2005.11-5832.xml\nclassic-2005.11-6271.xml\nclassic-2005.11-6550.xml\nclassic-2005.11-6645.xml\nclassic-2005.11-7177.xml\nclassic-2005.11-7531.xml\nclassic-2005.11-781.xml\nclassic-2005.11-958.xml\nclassic-2005.9-1694.xml\nclassic-2005.9-2492.xml\nclassic-2005.9-2596.xml\nclassic-2005.9-2886.xml\nclassic-2005.9-4194.xml\nclassic-2005.9-433.xml\nclassic-2005.9-6431.xml\nclassic-2005.9-6933.xml\nclassic-2006.0-1743.xml\nclassic-2006.0-2034.xml\nclassic-2006.0-2723.xml\nclassic-2006.0-3633.xml\nclassic-2006.0-3642.xml\nclassic-2006.0-4614.xml\nclassic-2006.0-7565.xml\nclassic-2006.0-766.xml\nclassic-2006.0-827.xml\nclassic-2006.1-1852.xml\nclassic-2006.1-221.xml\nclassic-2006.1-3422.xml\nclassic-2006.1-3524.xml\nclassic-2006.1-3909.xml\nclassic-2006.1-6986.xml\nclassic-2006.1-7192.xml\nclassic-2006.1-8080.xml\nclassic-2006.2-1035.xml\nclassic-2006.2-1089.xml\nclassic-2006.2-1417.xml\nclassic-2006.2-1987.xml\nclassic-2006.2-4249.xml\nclassic-2006.2-5344.xml\nclassic-2006.2-6258.xml\nclassic-2006.2-688.xml\nclassic-2006.2-753.xml\nclassic-2006.2-7947.xml\nclassic-2006.2-8304.xml\nclassic-2006.4-2647.xml\nclassic-2006.4-3438.xml\nclassic-2006.4-5258.xml\nclassic-2006.4-5414.xml\nclassic-2006.4-6137.xml\nclassic-2006.4-6668.xml\nclassic-2006.4-672.xml\nclassic-2006.5-2435.xml\nclassic-2006.5-2471.xml\nclassic-2006.5-2627.xml\nclassic-2006.5-3301.xml\nclassic-2006.5-4299.xml\nclassic-2006.5-5152.xml\nclassic-2006.5-6649.xml\nclassic-2006.5-6736.xml\nclassic-2006.5-6762.xml\nclassic-2006.7-5232.xml\nclassic-2006.7-6061.xml\nclassic-2014.0-211.xml\nclassic-2014.0-2250.xml\nclassic-2014.10-1946.xml\nclassic-2014.11-1590.xml\nclassic-2014.11-2206.xml\nclassic-2014.11-296.xml\nclassic-2014.4-2099.xml\nclassic-2014.4-2154.xml\nclassic-2014.4-985.xml\nclassic-2014.5-1225.xml\nclassic-2014.5-1335.xml\nclassic-2014.5-1611.xml\nclassic-2014.5-1810.xml\nclassic-2014.5-2152.xml\nclassic-2014.5-2163.xml\nclassic-2014.6-672.xml\nclassic-2014.6-993.xml\nclassic-2014.7-690.xml\nclassic-2014.8-515.xml\nclassic-2014.9-1868.xml\nclassic-2014.9-409.xml\nclassic-2014.9-498.xml\nclassic-2014.9-688.xml\nclassic-2015.1-1285.xml\nclassic-2015.1-1506.xml\nclassic-2015.2-1415.xml \n\n        Total Wins  Total Games  Win Percentage\nplayer                                         \nred             10           34        0.294118\nblue             3           34        0.088235 \n\nclassic-2005.10-4535.xml\nclassic-2005.10-4904.xml\nclassic-2005.10-6378.xml\nclassic-2005.10-7093.xml\nclassic-2005.9-195.xml\nclassic-2005.9-4596.xml\nclassic-2005.9-6508.xml\nclassic-2006.0-6787.xml\nclassic-2006.2-1642.xml\nclassic-2006.5-2677.xml\nclassic-2006.7-5644.xml\nclassic-2014.4-115.xml\nclassic-2015.1-2360.xml \n\n"
     ]
    }
   ],
   "source": [
    "classic_xml = (pkg\n",
    "    .load_dataset('ss2')\n",
    "    .query('type == \"classic\" & ext == \".xml\"')\n",
    "    .assign(W = lambda r: r.result == 1.0)\n",
    ")\n",
    "\n",
    "center_squares = (\n",
    "    \"\"\"\n",
    "    ....F.....\n",
    "    ..........\n",
    "    ..........\n",
    "    ..........\n",
    "    \"\"\"\n",
    ")\n",
    "outside_wings = (\n",
    "    \"\"\"\n",
    "    F.........\n",
    "    ..........\n",
    "    ..........\n",
    "    ..........\n",
    "    \"\"\"\n",
    ")\n",
    "inside_wings = (\n",
    "    \"\"\"\n",
    "    .F........\n",
    "    ..........\n",
    "    ..........\n",
    "    ..........\n",
    "    \"\"\"\n",
    ")\n",
    "\n",
    "for front_row_flag in [ center_squares, outside_wings, inside_wings ]:\n",
    "    df = pattern.match(classic_xml, front_row_flag)\n",
    "    print(df.groupby('player').agg(\n",
    "        Total_Wins     = ('W', 'sum'  ),\n",
    "        Total_Games    = ('W', 'count'),\n",
    "        Win_Percentage = ('W', 'mean' )\n",
    "    ).rename(columns=lambda c: c.replace('_', ' ')), '\\n')\n",
    "    print('\\n'.join(df.query('W == True').filename.sort_values().to_list()), '\\n')"
   ]
  }
 ]
}