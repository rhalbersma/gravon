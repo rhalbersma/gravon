{
 "metadata": {
  "language_info": {
   "codemirror_mode": {
    "name": "ipython",
    "version": 3
   },
   "file_extension": ".py",
   "mimetype": "text/x-python",
   "name": "python",
   "nbconvert_exporter": "python",
   "pygments_lexer": "ipython3",
   "version": "3.8.5-final"
  },
  "orig_nbformat": 2,
  "kernelspec": {
   "name": "Python 3.8.5 64-bit ('.env')",
   "display_name": "Python 3.8.5 64-bit ('.env')",
   "metadata": {
    "interpreter": {
     "hash": "fb063bd4e02e2e9e6f2b45e0bd9a1e15a40ac6fbc424be8ece7e0842b7b84b2b"
    }
   }
  }
 },
 "nbformat": 4,
 "nbformat_minor": 2,
 "cells": [
  {
   "source": [
    "```\n",
    "         Copyright Rein Halbersma 2018-2020.\n",
    "Distributed under the Boost Software License, Version 1.0.\n",
    "   (See accompanying file LICENSE_1_0.txt or copy at\n",
    "         http://www.boost.org/LICENSE_1_0.txt)\n",
    "```"
   ],
   "cell_type": "markdown",
   "metadata": {}
  },
  {
   "source": [
    "## Reproducing Dobby125's [blog post](http://stratego-tips.blogspot.com/2017/04/top-row-open-flag-winning-game-files-at.html)"
   ],
   "cell_type": "markdown",
   "metadata": {}
  },
  {
   "cell_type": "code",
   "execution_count": 1,
   "metadata": {},
   "outputs": [],
   "source": [
    "import pandas as pd\n",
    "from IPython.display import display\n",
    "\n",
    "import gravon.package as pkg\n",
    "import gravon.pattern as pattern"
   ]
  },
  {
   "cell_type": "code",
   "execution_count": 2,
   "metadata": {},
   "outputs": [
    {
     "output_type": "display_data",
     "data": {
      "text/plain": "<pandas.io.formats.style.Styler at 0x7f3371c42040>",
      "text/html": "<style  type=\"text/css\" >\n</style><table id=\"T_d333647a_1a09_11eb_94aa_171fce606a64\" ><thead>    <tr>        <th class=\"blank\" ></th>        <th class=\"blank level0\" ></th>        <th class=\"col_heading level0 col0\" >Total Wins</th>        <th class=\"col_heading level0 col1\" >Total Games</th>        <th class=\"col_heading level0 col2\" >Win Percentage</th>    </tr>    <tr>        <th class=\"index_name level0\" >flag</th>        <th class=\"index_name level1\" >player</th>        <th class=\"blank\" ></th>        <th class=\"blank\" ></th>        <th class=\"blank\" ></th>    </tr></thead><tbody>\n                <tr>\n                        <th id=\"T_d333647a_1a09_11eb_94aa_171fce606a64level0_row0\" class=\"row_heading level0 row0\" rowspan=2>Center Squares</th>\n                        <th id=\"T_d333647a_1a09_11eb_94aa_171fce606a64level1_row0\" class=\"row_heading level1 row0\" >red</th>\n                        <td id=\"T_d333647a_1a09_11eb_94aa_171fce606a64row0_col0\" class=\"data row0 col0\" >3</td>\n                        <td id=\"T_d333647a_1a09_11eb_94aa_171fce606a64row0_col1\" class=\"data row0 col1\" >35</td>\n                        <td id=\"T_d333647a_1a09_11eb_94aa_171fce606a64row0_col2\" class=\"data row0 col2\" >8.57%</td>\n            </tr>\n            <tr>\n                                <th id=\"T_d333647a_1a09_11eb_94aa_171fce606a64level1_row1\" class=\"row_heading level1 row1\" >blue</th>\n                        <td id=\"T_d333647a_1a09_11eb_94aa_171fce606a64row1_col0\" class=\"data row1 col0\" >6</td>\n                        <td id=\"T_d333647a_1a09_11eb_94aa_171fce606a64row1_col1\" class=\"data row1 col1\" >34</td>\n                        <td id=\"T_d333647a_1a09_11eb_94aa_171fce606a64row1_col2\" class=\"data row1 col2\" >17.65%</td>\n            </tr>\n            <tr>\n                        <th id=\"T_d333647a_1a09_11eb_94aa_171fce606a64level0_row2\" class=\"row_heading level0 row2\" rowspan=2>Outside Wings</th>\n                        <th id=\"T_d333647a_1a09_11eb_94aa_171fce606a64level1_row2\" class=\"row_heading level1 row2\" >red</th>\n                        <td id=\"T_d333647a_1a09_11eb_94aa_171fce606a64row2_col0\" class=\"data row2 col0\" >57</td>\n                        <td id=\"T_d333647a_1a09_11eb_94aa_171fce606a64row2_col1\" class=\"data row2 col1\" >169</td>\n                        <td id=\"T_d333647a_1a09_11eb_94aa_171fce606a64row2_col2\" class=\"data row2 col2\" >33.73%</td>\n            </tr>\n            <tr>\n                                <th id=\"T_d333647a_1a09_11eb_94aa_171fce606a64level1_row3\" class=\"row_heading level1 row3\" >blue</th>\n                        <td id=\"T_d333647a_1a09_11eb_94aa_171fce606a64row3_col0\" class=\"data row3 col0\" >57</td>\n                        <td id=\"T_d333647a_1a09_11eb_94aa_171fce606a64row3_col1\" class=\"data row3 col1\" >140</td>\n                        <td id=\"T_d333647a_1a09_11eb_94aa_171fce606a64row3_col2\" class=\"data row3 col2\" >40.71%</td>\n            </tr>\n            <tr>\n                        <th id=\"T_d333647a_1a09_11eb_94aa_171fce606a64level0_row4\" class=\"row_heading level0 row4\" rowspan=2>Inside Wings</th>\n                        <th id=\"T_d333647a_1a09_11eb_94aa_171fce606a64level1_row4\" class=\"row_heading level1 row4\" >red</th>\n                        <td id=\"T_d333647a_1a09_11eb_94aa_171fce606a64row4_col0\" class=\"data row4 col0\" >10</td>\n                        <td id=\"T_d333647a_1a09_11eb_94aa_171fce606a64row4_col1\" class=\"data row4 col1\" >34</td>\n                        <td id=\"T_d333647a_1a09_11eb_94aa_171fce606a64row4_col2\" class=\"data row4 col2\" >29.41%</td>\n            </tr>\n            <tr>\n                                <th id=\"T_d333647a_1a09_11eb_94aa_171fce606a64level1_row5\" class=\"row_heading level1 row5\" >blue</th>\n                        <td id=\"T_d333647a_1a09_11eb_94aa_171fce606a64row5_col0\" class=\"data row5 col0\" >3</td>\n                        <td id=\"T_d333647a_1a09_11eb_94aa_171fce606a64row5_col1\" class=\"data row5 col1\" >34</td>\n                        <td id=\"T_d333647a_1a09_11eb_94aa_171fce606a64row5_col2\" class=\"data row5 col2\" >8.82%</td>\n            </tr>\n    </tbody></table>"
     },
     "metadata": {}
    },
    {
     "output_type": "stream",
     "name": "stdout",
     "text": [
      "The files below were the winning games with flags on the top row in the Center Squares:\nclassic-2005.10-3351.xml\nclassic-2005.11-7392.xml\nclassic-2006.0-313.xml\nclassic-2006.2-4060.xml\nclassic-2006.2-7249.xml\nclassic-2006.4-1615.xml\nclassic-2006.4-5912.xml\nclassic-2014.10-2664.xml\nclassic-2014.5-138.xml \n\nThe files below were the winning games with flags on the top row in the Outside Wings:\nclassic-2005.10-1263.xml\nclassic-2005.10-1955.xml\nclassic-2005.10-2816.xml\nclassic-2005.10-3510.xml\nclassic-2005.10-4479.xml\nclassic-2005.10-4521.xml\nclassic-2005.10-5217.xml\nclassic-2005.10-5659.xml\nclassic-2005.10-5716.xml\nclassic-2005.10-5895.xml\nclassic-2005.10-6141.xml\nclassic-2005.10-622.xml\nclassic-2005.10-6530.xml\nclassic-2005.10-6854.xml\nclassic-2005.10-6972.xml\nclassic-2005.10-7710.xml\nclassic-2005.10-7795.xml\nclassic-2005.10-8249.xml\nclassic-2005.10-832.xml\nclassic-2005.11-1299.xml\nclassic-2005.11-1787.xml\nclassic-2005.11-2067.xml\nclassic-2005.11-2573.xml\nclassic-2005.11-3241.xml\nclassic-2005.11-3400.xml\nclassic-2005.11-3838.xml\nclassic-2005.11-5832.xml\nclassic-2005.11-6271.xml\nclassic-2005.11-6550.xml\nclassic-2005.11-6645.xml\nclassic-2005.11-7177.xml\nclassic-2005.11-7531.xml\nclassic-2005.11-781.xml\nclassic-2005.11-958.xml\nclassic-2005.9-1694.xml\nclassic-2005.9-2492.xml\nclassic-2005.9-2596.xml\nclassic-2005.9-2886.xml\nclassic-2005.9-4194.xml\nclassic-2005.9-433.xml\nclassic-2005.9-6431.xml\nclassic-2005.9-6933.xml\nclassic-2006.0-1743.xml\nclassic-2006.0-2034.xml\nclassic-2006.0-2723.xml\nclassic-2006.0-3633.xml\nclassic-2006.0-3642.xml\nclassic-2006.0-4614.xml\nclassic-2006.0-7565.xml\nclassic-2006.0-766.xml\nclassic-2006.0-827.xml\nclassic-2006.1-1852.xml\nclassic-2006.1-221.xml\nclassic-2006.1-3422.xml\nclassic-2006.1-3524.xml\nclassic-2006.1-3909.xml\nclassic-2006.1-6986.xml\nclassic-2006.1-7192.xml\nclassic-2006.1-8080.xml\nclassic-2006.2-1035.xml\nclassic-2006.2-1089.xml\nclassic-2006.2-1417.xml\nclassic-2006.2-1987.xml\nclassic-2006.2-4249.xml\nclassic-2006.2-5344.xml\nclassic-2006.2-6258.xml\nclassic-2006.2-688.xml\nclassic-2006.2-753.xml\nclassic-2006.2-7947.xml\nclassic-2006.2-8304.xml\nclassic-2006.4-2647.xml\nclassic-2006.4-3438.xml\nclassic-2006.4-5258.xml\nclassic-2006.4-5414.xml\nclassic-2006.4-6137.xml\nclassic-2006.4-6668.xml\nclassic-2006.4-672.xml\nclassic-2006.5-2435.xml\nclassic-2006.5-2471.xml\nclassic-2006.5-2627.xml\nclassic-2006.5-3301.xml\nclassic-2006.5-4299.xml\nclassic-2006.5-5152.xml\nclassic-2006.5-6649.xml\nclassic-2006.5-6736.xml\nclassic-2006.5-6762.xml\nclassic-2006.7-5232.xml\nclassic-2006.7-6061.xml\nclassic-2014.0-211.xml\nclassic-2014.0-2250.xml\nclassic-2014.10-1946.xml\nclassic-2014.11-1590.xml\nclassic-2014.11-2206.xml\nclassic-2014.11-296.xml\nclassic-2014.4-2099.xml\nclassic-2014.4-2154.xml\nclassic-2014.4-985.xml\nclassic-2014.5-1225.xml\nclassic-2014.5-1335.xml\nclassic-2014.5-1611.xml\nclassic-2014.5-1810.xml\nclassic-2014.5-2152.xml\nclassic-2014.5-2163.xml\nclassic-2014.6-672.xml\nclassic-2014.6-993.xml\nclassic-2014.7-690.xml\nclassic-2014.8-515.xml\nclassic-2014.9-1868.xml\nclassic-2014.9-409.xml\nclassic-2014.9-498.xml\nclassic-2014.9-688.xml\nclassic-2015.1-1285.xml\nclassic-2015.1-1506.xml\nclassic-2015.2-1415.xml \n\nThe files below were the winning games with flags on the top row in the Inside Wings:\nclassic-2005.10-4535.xml\nclassic-2005.10-4904.xml\nclassic-2005.10-6378.xml\nclassic-2005.10-7093.xml\nclassic-2005.9-195.xml\nclassic-2005.9-4596.xml\nclassic-2005.9-6508.xml\nclassic-2006.0-6787.xml\nclassic-2006.2-1642.xml\nclassic-2006.5-2677.xml\nclassic-2006.7-5644.xml\nclassic-2014.4-115.xml\nclassic-2015.1-2360.xml \n\n"
     ]
    }
   ],
   "source": [
    "classic_xml = (pkg\n",
    "    .load_dataset('ss2')\n",
    "    .query('type == \"classic\" & ext == \".xml\"')\n",
    ")\n",
    "\n",
    "front_row = {\n",
    "    'Center Squares': (\n",
    "        \"\"\"\n",
    "        ....F.....\n",
    "        ..........\n",
    "        ..........\n",
    "        ..........\n",
    "        \"\"\"\n",
    "    ),\n",
    "    'Outside Wings': (\n",
    "        \"\"\"\n",
    "        F.........\n",
    "        ..........\n",
    "        ..........\n",
    "        ..........\n",
    "        \"\"\"\n",
    "    ),\n",
    "    'Inside Wings': (\n",
    "        \"\"\"\n",
    "        .F........\n",
    "        ..........\n",
    "        ..........\n",
    "        ..........\n",
    "        \"\"\"\n",
    "    )\n",
    "}\n",
    "\n",
    "df = (pd\n",
    "    .concat([\n",
    "        pattern.match(classic_xml, flag, mirrored=True).assign(flag = position)\n",
    "        for position, flag in front_row.items()\n",
    "    ])\n",
    "    .astype(dtype={\n",
    "        'flag': pd.CategoricalDtype(categories=front_row.keys())\n",
    "    })\n",
    ")\n",
    "\n",
    "display(df\n",
    "    .groupby(['flag', 'player'])\n",
    "    .agg(**{\n",
    "        'Total Wins'    : ('win', 'sum'  ),\n",
    "        'Total Games'   : ('win', 'count'),\n",
    "        'Win Percentage': ('win', 'mean' )\n",
    "    })\n",
    "    .style\n",
    "    .format({\n",
    "        'Win Percentage': '{:.2%}'\n",
    "    })\n",
    ")\n",
    "    \n",
    "for flag in front_row.keys():\n",
    "    print(f'The files below were the winning games with flags on the top row in the {flag}:')\n",
    "    print('\\n'.join(df.query('result == \"win\" & flag == @flag').filename.sort_values().to_list()), '\\n')"
   ]
  },
  {
   "source": [
    "## Improvements\n",
    "\n",
    "We make the following improvements: \n",
    "- First, we include all Gravon games, both in the .gsn and .xml formats. This increases the number of setups to over a hundred thousand. \n",
    "- Second, we also provide the draw and loss counts, and summarize the average percentage score (win = 1.0, draw = 0.5 and loss = 0.0 points).\n",
    "- Finally, we sort the filenames of games with a winning front row flag on their dates."
   ],
   "cell_type": "markdown",
   "metadata": {}
  },
  {
   "cell_type": "code",
   "execution_count": 3,
   "metadata": {},
   "outputs": [
    {
     "output_type": "display_data",
     "data": {
      "text/plain": "<pandas.io.formats.style.Styler at 0x7f3374ccd130>",
      "text/html": "<style  type=\"text/css\" >\n</style><table id=\"T_d333647b_1a09_11eb_94aa_171fce606a64\" ><thead>    <tr>        <th class=\"blank\" ></th>        <th class=\"blank level0\" ></th>        <th class=\"col_heading level0 col0\" >Games</th>        <th class=\"col_heading level0 col1\" >Wins</th>        <th class=\"col_heading level0 col2\" >Draws</th>        <th class=\"col_heading level0 col3\" >Losses</th>        <th class=\"col_heading level0 col4\" >Score</th>    </tr>    <tr>        <th class=\"index_name level0\" >flag</th>        <th class=\"index_name level1\" >player</th>        <th class=\"blank\" ></th>        <th class=\"blank\" ></th>        <th class=\"blank\" ></th>        <th class=\"blank\" ></th>        <th class=\"blank\" ></th>    </tr></thead><tbody>\n                <tr>\n                        <th id=\"T_d333647b_1a09_11eb_94aa_171fce606a64level0_row0\" class=\"row_heading level0 row0\" rowspan=2>Center Squares</th>\n                        <th id=\"T_d333647b_1a09_11eb_94aa_171fce606a64level1_row0\" class=\"row_heading level1 row0\" >red</th>\n                        <td id=\"T_d333647b_1a09_11eb_94aa_171fce606a64row0_col0\" class=\"data row0 col0\" >40</td>\n                        <td id=\"T_d333647b_1a09_11eb_94aa_171fce606a64row0_col1\" class=\"data row0 col1\" >3</td>\n                        <td id=\"T_d333647b_1a09_11eb_94aa_171fce606a64row0_col2\" class=\"data row0 col2\" >3</td>\n                        <td id=\"T_d333647b_1a09_11eb_94aa_171fce606a64row0_col3\" class=\"data row0 col3\" >34</td>\n                        <td id=\"T_d333647b_1a09_11eb_94aa_171fce606a64row0_col4\" class=\"data row0 col4\" >11.25%</td>\n            </tr>\n            <tr>\n                                <th id=\"T_d333647b_1a09_11eb_94aa_171fce606a64level1_row1\" class=\"row_heading level1 row1\" >blue</th>\n                        <td id=\"T_d333647b_1a09_11eb_94aa_171fce606a64row1_col0\" class=\"data row1 col0\" >37</td>\n                        <td id=\"T_d333647b_1a09_11eb_94aa_171fce606a64row1_col1\" class=\"data row1 col1\" >8</td>\n                        <td id=\"T_d333647b_1a09_11eb_94aa_171fce606a64row1_col2\" class=\"data row1 col2\" >1</td>\n                        <td id=\"T_d333647b_1a09_11eb_94aa_171fce606a64row1_col3\" class=\"data row1 col3\" >28</td>\n                        <td id=\"T_d333647b_1a09_11eb_94aa_171fce606a64row1_col4\" class=\"data row1 col4\" >22.97%</td>\n            </tr>\n            <tr>\n                        <th id=\"T_d333647b_1a09_11eb_94aa_171fce606a64level0_row2\" class=\"row_heading level0 row2\" rowspan=2>Outside Wings</th>\n                        <th id=\"T_d333647b_1a09_11eb_94aa_171fce606a64level1_row2\" class=\"row_heading level1 row2\" >red</th>\n                        <td id=\"T_d333647b_1a09_11eb_94aa_171fce606a64row2_col0\" class=\"data row2 col0\" >185</td>\n                        <td id=\"T_d333647b_1a09_11eb_94aa_171fce606a64row2_col1\" class=\"data row2 col1\" >62</td>\n                        <td id=\"T_d333647b_1a09_11eb_94aa_171fce606a64row2_col2\" class=\"data row2 col2\" >4</td>\n                        <td id=\"T_d333647b_1a09_11eb_94aa_171fce606a64row2_col3\" class=\"data row2 col3\" >119</td>\n                        <td id=\"T_d333647b_1a09_11eb_94aa_171fce606a64row2_col4\" class=\"data row2 col4\" >34.59%</td>\n            </tr>\n            <tr>\n                                <th id=\"T_d333647b_1a09_11eb_94aa_171fce606a64level1_row3\" class=\"row_heading level1 row3\" >blue</th>\n                        <td id=\"T_d333647b_1a09_11eb_94aa_171fce606a64row3_col0\" class=\"data row3 col0\" >154</td>\n                        <td id=\"T_d333647b_1a09_11eb_94aa_171fce606a64row3_col1\" class=\"data row3 col1\" >63</td>\n                        <td id=\"T_d333647b_1a09_11eb_94aa_171fce606a64row3_col2\" class=\"data row3 col2\" >3</td>\n                        <td id=\"T_d333647b_1a09_11eb_94aa_171fce606a64row3_col3\" class=\"data row3 col3\" >88</td>\n                        <td id=\"T_d333647b_1a09_11eb_94aa_171fce606a64row3_col4\" class=\"data row3 col4\" >41.88%</td>\n            </tr>\n            <tr>\n                        <th id=\"T_d333647b_1a09_11eb_94aa_171fce606a64level0_row4\" class=\"row_heading level0 row4\" rowspan=2>Inside Wings</th>\n                        <th id=\"T_d333647b_1a09_11eb_94aa_171fce606a64level1_row4\" class=\"row_heading level1 row4\" >red</th>\n                        <td id=\"T_d333647b_1a09_11eb_94aa_171fce606a64row4_col0\" class=\"data row4 col0\" >37</td>\n                        <td id=\"T_d333647b_1a09_11eb_94aa_171fce606a64row4_col1\" class=\"data row4 col1\" >12</td>\n                        <td id=\"T_d333647b_1a09_11eb_94aa_171fce606a64row4_col2\" class=\"data row4 col2\" >2</td>\n                        <td id=\"T_d333647b_1a09_11eb_94aa_171fce606a64row4_col3\" class=\"data row4 col3\" >23</td>\n                        <td id=\"T_d333647b_1a09_11eb_94aa_171fce606a64row4_col4\" class=\"data row4 col4\" >35.14%</td>\n            </tr>\n            <tr>\n                                <th id=\"T_d333647b_1a09_11eb_94aa_171fce606a64level1_row5\" class=\"row_heading level1 row5\" >blue</th>\n                        <td id=\"T_d333647b_1a09_11eb_94aa_171fce606a64row5_col0\" class=\"data row5 col0\" >36</td>\n                        <td id=\"T_d333647b_1a09_11eb_94aa_171fce606a64row5_col1\" class=\"data row5 col1\" >3</td>\n                        <td id=\"T_d333647b_1a09_11eb_94aa_171fce606a64row5_col2\" class=\"data row5 col2\" >2</td>\n                        <td id=\"T_d333647b_1a09_11eb_94aa_171fce606a64row5_col3\" class=\"data row5 col3\" >31</td>\n                        <td id=\"T_d333647b_1a09_11eb_94aa_171fce606a64row5_col4\" class=\"data row5 col4\" >11.11%</td>\n            </tr>\n    </tbody></table>"
     },
     "metadata": {}
    },
    {
     "output_type": "stream",
     "name": "stdout",
     "text": [
      "The files below were the winning games with flags on the top row in the Center Squares:\nclassic.2003.10.26.3363.gsn\nclassic.2003.11.10.3959.gsn\nclassic-2005.10-3351.xml\nclassic-2005.11-7392.xml\nclassic-2006.0-313.xml\nclassic-2006.2-4060.xml\nclassic-2006.2-7249.xml\nclassic-2006.4-1615.xml\nclassic-2006.4-5912.xml\nclassic-2014.5-138.xml\nclassic-2014.10-2664.xml \n\nThe files below were the winning games with flags on the top row in the Outside Wings:\nclassic.2003.05.15.107.gsn\nclassic.2003.05.15.191.gsn\nclassic.2003.05.19.69.gsn\nclassic.2003.05.24.244.gsn\nclassic.2003.06.12.560.gsn\nclassic.2003.09.09.2357.gsn\nclassic.2003.09.24.5009.gsn\nclassic.2003.09.28.4108.gsn\nclassic.2003.10.12.4939.gsn\nclassic.2003.10.19.4992.gsn\nclassic.2003.10.28.5396.gsn\nclassic-2005.9-433.xml\nclassic-2005.9-1694.xml\nclassic-2005.9-2492.xml\nclassic-2005.9-2596.xml\nclassic-2005.9-2886.xml\nclassic-2005.9-4194.xml\nclassic-2005.9-6431.xml\nclassic-2005.9-6933.xml\nclassic-2005.10-622.xml\nclassic-2005.10-832.xml\nclassic-2005.10-1263.xml\nclassic-2005.10-1955.xml\nclassic-2005.10-2816.xml\nclassic-2005.10-3510.xml\nclassic-2005.10-4479.xml\nclassic-2005.10-4521.xml\nclassic-2005.10-5217.xml\nclassic-2005.10-5659.xml\nclassic-2005.10-5716.xml\nclassic-2005.10-5895.xml\nclassic-2005.10-6141.xml\nclassic-2005.10-6530.xml\nclassic-2005.10-6854.xml\nclassic-2005.10-6972.xml\nclassic-2005.10-7710.xml\nclassic-2005.10-7795.xml\nclassic-2005.10-8249.xml\nclassic-2005.11-781.xml\nclassic-2005.11-958.xml\nclassic-2005.11-1299.xml\nclassic-2005.11-1787.xml\nclassic-2005.11-2067.xml\nclassic-2005.11-2573.xml\nclassic-2005.11-3241.xml\nclassic-2005.11-3400.xml\nclassic-2005.11-3838.xml\nclassic-2005.11-5832.xml\nclassic-2005.11-6271.xml\nclassic-2005.11-6550.xml\nclassic-2005.11-6645.xml\nclassic-2005.11-7177.xml\nclassic-2005.11-7531.xml\nclassic-2006.0-766.xml\nclassic-2006.0-827.xml\nclassic-2006.0-1743.xml\nclassic-2006.0-2034.xml\nclassic-2006.0-2723.xml\nclassic-2006.0-3633.xml\nclassic-2006.0-3642.xml\nclassic-2006.0-4614.xml\nclassic-2006.0-7565.xml\nclassic-2006.1-221.xml\nclassic-2006.1-1852.xml\nclassic-2006.1-3422.xml\nclassic-2006.1-3524.xml\nclassic-2006.1-3909.xml\nclassic-2006.1-6986.xml\nclassic-2006.1-7192.xml\nclassic-2006.1-8080.xml\nclassic-2006.2-688.xml\nclassic-2006.2-753.xml\nclassic-2006.2-1035.xml\nclassic-2006.2-1089.xml\nclassic-2006.2-1417.xml\nclassic-2006.2-1987.xml\nclassic-2006.2-4249.xml\nclassic-2006.2-5344.xml\nclassic-2006.2-6258.xml\nclassic-2006.2-7947.xml\nclassic-2006.2-8304.xml\nclassic-2006.4-672.xml\nclassic-2006.4-2647.xml\nclassic-2006.4-3438.xml\nclassic-2006.4-5258.xml\nclassic-2006.4-5414.xml\nclassic-2006.4-6137.xml\nclassic-2006.4-6668.xml\nclassic-2006.5-2435.xml\nclassic-2006.5-2471.xml\nclassic-2006.5-2627.xml\nclassic-2006.5-3301.xml\nclassic-2006.5-4299.xml\nclassic-2006.5-5152.xml\nclassic-2006.5-6649.xml\nclassic-2006.5-6736.xml\nclassic-2006.5-6762.xml\nclassic-2006.7-5232.xml\nclassic-2006.7-6061.xml\nclassic-2014.0-211.xml\nclassic-2014.0-2250.xml\nclassic-2014.4-985.xml\nclassic-2014.4-2099.xml\nclassic-2014.4-2154.xml\nclassic-2014.5-1225.xml\nclassic-2014.5-1335.xml\nclassic-2014.5-1611.xml\nclassic-2014.5-1810.xml\nclassic-2014.5-2152.xml\nclassic-2014.5-2163.xml\nclassic-2014.6-672.xml\nclassic-2014.6-993.xml\nclassic-2014.7-690.xml\nclassic-2014.8-515.xml\nclassic-2014.9-409.xml\nclassic-2014.9-498.xml\nclassic-2014.9-688.xml\nclassic-2014.9-1868.xml\nclassic-2014.10-1946.xml\nclassic-2014.11-296.xml\nclassic-2014.11-1590.xml\nclassic-2014.11-2206.xml\nclassic-2015.1-1285.xml\nclassic-2015.1-1506.xml\nclassic-2015.2-1415.xml \n\nThe files below were the winning games with flags on the top row in the Inside Wings:\nclassic.2003.12.08.3728.gsn\nclassic.2003.12.22.6027.gsn\nclassic-2005.9-195.xml\nclassic-2005.9-4596.xml\nclassic-2005.9-6508.xml\nclassic-2005.10-4535.xml\nclassic-2005.10-4904.xml\nclassic-2005.10-6378.xml\nclassic-2005.10-7093.xml\nclassic-2006.0-6787.xml\nclassic-2006.2-1642.xml\nclassic-2006.5-2677.xml\nclassic-2006.7-5644.xml\nclassic-2014.4-115.xml\nclassic-2015.1-2360.xml \n\n"
     ]
    }
   ],
   "source": [
    "classic = (pkg\n",
    "    .load_dataset('ss2')\n",
    "    .query('type == \"classic\"')\n",
    ")\n",
    "\n",
    "df = (pd\n",
    "    .concat([\n",
    "        pattern.match(classic, flag, mirrored=True).assign(flag = position)\n",
    "        for position, flag in front_row.items()\n",
    "    ])\n",
    "    .astype(dtype={\n",
    "        'flag': pd.CategoricalDtype(categories=front_row.keys())\n",
    "    })\n",
    ")\n",
    "\n",
    "display(df\n",
    "    .groupby(['flag', 'player'])\n",
    "    .agg(**{\n",
    "        'Games' : ('result', 'count'),\n",
    "        'Wins'  : ('win',    'sum'  ),\n",
    "        'Draws' : ('draw',   'sum'  ),\n",
    "        'Losses': ('loss',   'sum'  ),\n",
    "        'Score' : ('score',  'mean' )\n",
    "    })\n",
    "    .style\n",
    "    .format({\n",
    "        'Score': '{:.2%}'\n",
    "    })\n",
    ")\n",
    "    \n",
    "for flag in front_row.keys():\n",
    "    print(f'The files below were the winning games with flags on the top row in the {flag}:')\n",
    "    print('\\n'.join(df.query('result == \"win\" & flag == @flag').filename.to_list()), '\\n')"
   ]
  }
 ]
}