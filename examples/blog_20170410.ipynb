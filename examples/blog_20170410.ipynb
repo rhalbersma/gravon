{
 "metadata": {
  "language_info": {
   "codemirror_mode": {
    "name": "ipython",
    "version": 3
   },
   "file_extension": ".py",
   "mimetype": "text/x-python",
   "name": "python",
   "nbconvert_exporter": "python",
   "pygments_lexer": "ipython3",
   "version": "3.8.5-final"
  },
  "orig_nbformat": 2,
  "kernelspec": {
   "name": "Python 3.8.5 64-bit ('.env')",
   "display_name": "Python 3.8.5 64-bit ('.env')",
   "metadata": {
    "interpreter": {
     "hash": "fb063bd4e02e2e9e6f2b45e0bd9a1e15a40ac6fbc424be8ece7e0842b7b84b2b"
    }
   }
  }
 },
 "nbformat": 4,
 "nbformat_minor": 2,
 "cells": [
  {
   "source": [
    "```\n",
    "         Copyright Rein Halbersma 2018-2021.\n",
    "Distributed under the Boost Software License, Version 1.0.\n",
    "   (See accompanying file LICENSE_1_0.txt or copy at\n",
    "         http://www.boost.org/LICENSE_1_0.txt)\n",
    "```"
   ],
   "cell_type": "markdown",
   "metadata": {}
  },
  {
   "source": [
    "# View Top Row, Open Flag Winning Game files at Gravon Stratego Archive site"
   ],
   "cell_type": "markdown",
   "metadata": {}
  },
  {
   "source": [
    "##  1. An adjusted version of Dobby125's blog post\n",
    "\n",
    "On April 10th, 2017, [stratego.com](http://www.stratego.com/play/) user [Dobby125](http://forum.stratego.com/user/873-dobby125/) wrote an insightful [blog post](http://stratego-tips.blogspot.com/2017/04/top-row-open-flag-winning-game-files-at.html) (announced in this [forum post](http://forum.stratego.com/topic/357378-strategy-question-findingavoiding-bombs-at-the-end-of-games/?p=431925)) showing tables with winning Stratego games with an open flag on the front row. We reproduce these tables below, with the following adjustments:\n",
    "\n",
    "1. We not only include the 85K setups in .xml format, but also the 17K setups in .gsn format. \n",
    "2. We not only provide the number of games and wins, but also the draw and loss counts. \n",
    "3. We summarize the average percentage score (win = 1.0, draw = 0.5 and loss = 0.0 points).\n",
    "4. We not only tabulate by player (red or blue), but also by flag side (left or right).\n",
    "5. We sort the flag positions in order of score percentage.\n",
    "6. We sort the filenames of games with a winning front row flag on their dates.\n",
    "7. We archive the various games in .zip files viewable with the [Gravon game player](http://www.gravon.de/gravon/stratego/strados2.jsp).\n",
    "\n",
    "Note that the table cells in this notebook are not correctly aligned when rendered on GitHub."
   ],
   "cell_type": "markdown",
   "metadata": {}
  },
  {
   "cell_type": "code",
   "execution_count": 1,
   "metadata": {},
   "outputs": [],
   "source": [
    "from IPython.display import display\n",
    "import pandas as pd\n",
    "\n",
    "import gravon.package as pkg\n",
    "import gravon.archive as archive\n",
    "import gravon.pattern as pattern\n",
    "from gravon.stats import league_table\n",
    "\n",
    "db_setups = pkg.load_dataset('db_setups')"
   ]
  },
  {
   "source": [
    "front_row = {\n",
    "    'Outside Wings': (\n",
    "        \"\"\"\n",
    "        F.........\n",
    "        ..........\n",
    "        ..........\n",
    "        ..........\n",
    "        \"\"\"\n",
    "    ),\n",
    "    'Inside Wings': (\n",
    "        \"\"\"\n",
    "        .F........\n",
    "        ..........\n",
    "        ..........\n",
    "        ..........\n",
    "        \"\"\"\n",
    "    ),\n",
    "    'Center Squares': (\n",
    "        \"\"\"\n",
    "        ....F.....\n",
    "        ..........\n",
    "        ..........\n",
    "        ..........\n",
    "        \"\"\"\n",
    "    )\n",
    "}\n",
    "\n",
    "flag_fmt = {\n",
    "    'flag columns': pd.CategoricalDtype(categories=front_row.keys())\n",
    "}\n",
    "\n",
    "score_fmt = {\n",
    "    'Score': '{:.1%}'\n",
    "}"
   ],
   "cell_type": "code",
   "metadata": {},
   "execution_count": 2,
   "outputs": []
  },
  {
   "cell_type": "code",
   "execution_count": 3,
   "metadata": {},
   "outputs": [],
   "source": [
    "classic = db_setups.query('type == \"classic\"')\n",
    "\n",
    "df = (pd\n",
    "    .concat([\n",
    "        pattern.match(classic, flag_pattern, mirrored=True).assign(**{'flag columns': flag_columns})\n",
    "        for flag_columns, flag_pattern in front_row.items()\n",
    "    ])\n",
    "    .rename(columns={'match_type': 'flag side'})\n",
    "    .replace({'flag side': { \n",
    "        'identity': 'left', \n",
    "        'mirrored': 'right'\n",
    "    }})\n",
    "    .sort_values('gid')\n",
    "    .astype(dtype=flag_fmt)\n",
    ")"
   ]
  },
  {
   "cell_type": "code",
   "execution_count": 4,
   "metadata": {},
   "outputs": [
    {
     "output_type": "display_data",
     "data": {
      "text/plain": "<pandas.io.formats.style.Styler at 0x7fb9fc0fa6d0>",
      "text/html": "<style  type=\"text/css\" >\n</style><table id=\"T_a2e337ea_220c_11eb_94aa_171fce606a64\" ><thead>    <tr>        <th class=\"blank\" ></th>        <th class=\"blank level0\" ></th>        <th class=\"col_heading level0 col0\" >Games</th>        <th class=\"col_heading level0 col1\" >Wins</th>        <th class=\"col_heading level0 col2\" >Draws</th>        <th class=\"col_heading level0 col3\" >Losses</th>        <th class=\"col_heading level0 col4\" >Score</th>    </tr>    <tr>        <th class=\"index_name level0\" >flag columns</th>        <th class=\"index_name level1\" >player</th>        <th class=\"blank\" ></th>        <th class=\"blank\" ></th>        <th class=\"blank\" ></th>        <th class=\"blank\" ></th>        <th class=\"blank\" ></th>    </tr></thead><tbody>\n                <tr>\n                        <th id=\"T_a2e337ea_220c_11eb_94aa_171fce606a64level0_row0\" class=\"row_heading level0 row0\" rowspan=2>Outside Wings</th>\n                        <th id=\"T_a2e337ea_220c_11eb_94aa_171fce606a64level1_row0\" class=\"row_heading level1 row0\" >red</th>\n                        <td id=\"T_a2e337ea_220c_11eb_94aa_171fce606a64row0_col0\" class=\"data row0 col0\" >185</td>\n                        <td id=\"T_a2e337ea_220c_11eb_94aa_171fce606a64row0_col1\" class=\"data row0 col1\" >62</td>\n                        <td id=\"T_a2e337ea_220c_11eb_94aa_171fce606a64row0_col2\" class=\"data row0 col2\" >4</td>\n                        <td id=\"T_a2e337ea_220c_11eb_94aa_171fce606a64row0_col3\" class=\"data row0 col3\" >119</td>\n                        <td id=\"T_a2e337ea_220c_11eb_94aa_171fce606a64row0_col4\" class=\"data row0 col4\" >34.6%</td>\n            </tr>\n            <tr>\n                                <th id=\"T_a2e337ea_220c_11eb_94aa_171fce606a64level1_row1\" class=\"row_heading level1 row1\" >blue</th>\n                        <td id=\"T_a2e337ea_220c_11eb_94aa_171fce606a64row1_col0\" class=\"data row1 col0\" >154</td>\n                        <td id=\"T_a2e337ea_220c_11eb_94aa_171fce606a64row1_col1\" class=\"data row1 col1\" >63</td>\n                        <td id=\"T_a2e337ea_220c_11eb_94aa_171fce606a64row1_col2\" class=\"data row1 col2\" >3</td>\n                        <td id=\"T_a2e337ea_220c_11eb_94aa_171fce606a64row1_col3\" class=\"data row1 col3\" >88</td>\n                        <td id=\"T_a2e337ea_220c_11eb_94aa_171fce606a64row1_col4\" class=\"data row1 col4\" >41.9%</td>\n            </tr>\n            <tr>\n                        <th id=\"T_a2e337ea_220c_11eb_94aa_171fce606a64level0_row2\" class=\"row_heading level0 row2\" rowspan=2>Inside Wings</th>\n                        <th id=\"T_a2e337ea_220c_11eb_94aa_171fce606a64level1_row2\" class=\"row_heading level1 row2\" >red</th>\n                        <td id=\"T_a2e337ea_220c_11eb_94aa_171fce606a64row2_col0\" class=\"data row2 col0\" >37</td>\n                        <td id=\"T_a2e337ea_220c_11eb_94aa_171fce606a64row2_col1\" class=\"data row2 col1\" >12</td>\n                        <td id=\"T_a2e337ea_220c_11eb_94aa_171fce606a64row2_col2\" class=\"data row2 col2\" >2</td>\n                        <td id=\"T_a2e337ea_220c_11eb_94aa_171fce606a64row2_col3\" class=\"data row2 col3\" >23</td>\n                        <td id=\"T_a2e337ea_220c_11eb_94aa_171fce606a64row2_col4\" class=\"data row2 col4\" >35.1%</td>\n            </tr>\n            <tr>\n                                <th id=\"T_a2e337ea_220c_11eb_94aa_171fce606a64level1_row3\" class=\"row_heading level1 row3\" >blue</th>\n                        <td id=\"T_a2e337ea_220c_11eb_94aa_171fce606a64row3_col0\" class=\"data row3 col0\" >36</td>\n                        <td id=\"T_a2e337ea_220c_11eb_94aa_171fce606a64row3_col1\" class=\"data row3 col1\" >3</td>\n                        <td id=\"T_a2e337ea_220c_11eb_94aa_171fce606a64row3_col2\" class=\"data row3 col2\" >2</td>\n                        <td id=\"T_a2e337ea_220c_11eb_94aa_171fce606a64row3_col3\" class=\"data row3 col3\" >31</td>\n                        <td id=\"T_a2e337ea_220c_11eb_94aa_171fce606a64row3_col4\" class=\"data row3 col4\" >11.1%</td>\n            </tr>\n            <tr>\n                        <th id=\"T_a2e337ea_220c_11eb_94aa_171fce606a64level0_row4\" class=\"row_heading level0 row4\" rowspan=2>Center Squares</th>\n                        <th id=\"T_a2e337ea_220c_11eb_94aa_171fce606a64level1_row4\" class=\"row_heading level1 row4\" >red</th>\n                        <td id=\"T_a2e337ea_220c_11eb_94aa_171fce606a64row4_col0\" class=\"data row4 col0\" >40</td>\n                        <td id=\"T_a2e337ea_220c_11eb_94aa_171fce606a64row4_col1\" class=\"data row4 col1\" >3</td>\n                        <td id=\"T_a2e337ea_220c_11eb_94aa_171fce606a64row4_col2\" class=\"data row4 col2\" >3</td>\n                        <td id=\"T_a2e337ea_220c_11eb_94aa_171fce606a64row4_col3\" class=\"data row4 col3\" >34</td>\n                        <td id=\"T_a2e337ea_220c_11eb_94aa_171fce606a64row4_col4\" class=\"data row4 col4\" >11.2%</td>\n            </tr>\n            <tr>\n                                <th id=\"T_a2e337ea_220c_11eb_94aa_171fce606a64level1_row5\" class=\"row_heading level1 row5\" >blue</th>\n                        <td id=\"T_a2e337ea_220c_11eb_94aa_171fce606a64row5_col0\" class=\"data row5 col0\" >37</td>\n                        <td id=\"T_a2e337ea_220c_11eb_94aa_171fce606a64row5_col1\" class=\"data row5 col1\" >8</td>\n                        <td id=\"T_a2e337ea_220c_11eb_94aa_171fce606a64row5_col2\" class=\"data row5 col2\" >1</td>\n                        <td id=\"T_a2e337ea_220c_11eb_94aa_171fce606a64row5_col3\" class=\"data row5 col3\" >28</td>\n                        <td id=\"T_a2e337ea_220c_11eb_94aa_171fce606a64row5_col4\" class=\"data row5 col4\" >23.0%</td>\n            </tr>\n    </tbody></table>"
     },
     "metadata": {}
    },
    {
     "output_type": "display_data",
     "data": {
      "text/plain": "<pandas.io.formats.style.Styler at 0x7fb9c48ba160>",
      "text/html": "<style  type=\"text/css\" >\n</style><table id=\"T_a2e337eb_220c_11eb_94aa_171fce606a64\" ><thead>    <tr>        <th class=\"blank\" ></th>        <th class=\"blank level0\" ></th>        <th class=\"col_heading level0 col0\" >Games</th>        <th class=\"col_heading level0 col1\" >Wins</th>        <th class=\"col_heading level0 col2\" >Draws</th>        <th class=\"col_heading level0 col3\" >Losses</th>        <th class=\"col_heading level0 col4\" >Score</th>    </tr>    <tr>        <th class=\"index_name level0\" >flag columns</th>        <th class=\"index_name level1\" >flag side</th>        <th class=\"blank\" ></th>        <th class=\"blank\" ></th>        <th class=\"blank\" ></th>        <th class=\"blank\" ></th>        <th class=\"blank\" ></th>    </tr></thead><tbody>\n                <tr>\n                        <th id=\"T_a2e337eb_220c_11eb_94aa_171fce606a64level0_row0\" class=\"row_heading level0 row0\" rowspan=2>Outside Wings</th>\n                        <th id=\"T_a2e337eb_220c_11eb_94aa_171fce606a64level1_row0\" class=\"row_heading level1 row0\" >left</th>\n                        <td id=\"T_a2e337eb_220c_11eb_94aa_171fce606a64row0_col0\" class=\"data row0 col0\" >180</td>\n                        <td id=\"T_a2e337eb_220c_11eb_94aa_171fce606a64row0_col1\" class=\"data row0 col1\" >67</td>\n                        <td id=\"T_a2e337eb_220c_11eb_94aa_171fce606a64row0_col2\" class=\"data row0 col2\" >4</td>\n                        <td id=\"T_a2e337eb_220c_11eb_94aa_171fce606a64row0_col3\" class=\"data row0 col3\" >109</td>\n                        <td id=\"T_a2e337eb_220c_11eb_94aa_171fce606a64row0_col4\" class=\"data row0 col4\" >38.3%</td>\n            </tr>\n            <tr>\n                                <th id=\"T_a2e337eb_220c_11eb_94aa_171fce606a64level1_row1\" class=\"row_heading level1 row1\" >right</th>\n                        <td id=\"T_a2e337eb_220c_11eb_94aa_171fce606a64row1_col0\" class=\"data row1 col0\" >159</td>\n                        <td id=\"T_a2e337eb_220c_11eb_94aa_171fce606a64row1_col1\" class=\"data row1 col1\" >58</td>\n                        <td id=\"T_a2e337eb_220c_11eb_94aa_171fce606a64row1_col2\" class=\"data row1 col2\" >3</td>\n                        <td id=\"T_a2e337eb_220c_11eb_94aa_171fce606a64row1_col3\" class=\"data row1 col3\" >98</td>\n                        <td id=\"T_a2e337eb_220c_11eb_94aa_171fce606a64row1_col4\" class=\"data row1 col4\" >37.4%</td>\n            </tr>\n            <tr>\n                        <th id=\"T_a2e337eb_220c_11eb_94aa_171fce606a64level0_row2\" class=\"row_heading level0 row2\" rowspan=2>Inside Wings</th>\n                        <th id=\"T_a2e337eb_220c_11eb_94aa_171fce606a64level1_row2\" class=\"row_heading level1 row2\" >left</th>\n                        <td id=\"T_a2e337eb_220c_11eb_94aa_171fce606a64row2_col0\" class=\"data row2 col0\" >25</td>\n                        <td id=\"T_a2e337eb_220c_11eb_94aa_171fce606a64row2_col1\" class=\"data row2 col1\" >5</td>\n                        <td id=\"T_a2e337eb_220c_11eb_94aa_171fce606a64row2_col2\" class=\"data row2 col2\" >0</td>\n                        <td id=\"T_a2e337eb_220c_11eb_94aa_171fce606a64row2_col3\" class=\"data row2 col3\" >20</td>\n                        <td id=\"T_a2e337eb_220c_11eb_94aa_171fce606a64row2_col4\" class=\"data row2 col4\" >20.0%</td>\n            </tr>\n            <tr>\n                                <th id=\"T_a2e337eb_220c_11eb_94aa_171fce606a64level1_row3\" class=\"row_heading level1 row3\" >right</th>\n                        <td id=\"T_a2e337eb_220c_11eb_94aa_171fce606a64row3_col0\" class=\"data row3 col0\" >48</td>\n                        <td id=\"T_a2e337eb_220c_11eb_94aa_171fce606a64row3_col1\" class=\"data row3 col1\" >10</td>\n                        <td id=\"T_a2e337eb_220c_11eb_94aa_171fce606a64row3_col2\" class=\"data row3 col2\" >4</td>\n                        <td id=\"T_a2e337eb_220c_11eb_94aa_171fce606a64row3_col3\" class=\"data row3 col3\" >34</td>\n                        <td id=\"T_a2e337eb_220c_11eb_94aa_171fce606a64row3_col4\" class=\"data row3 col4\" >25.0%</td>\n            </tr>\n            <tr>\n                        <th id=\"T_a2e337eb_220c_11eb_94aa_171fce606a64level0_row4\" class=\"row_heading level0 row4\" rowspan=2>Center Squares</th>\n                        <th id=\"T_a2e337eb_220c_11eb_94aa_171fce606a64level1_row4\" class=\"row_heading level1 row4\" >left</th>\n                        <td id=\"T_a2e337eb_220c_11eb_94aa_171fce606a64row4_col0\" class=\"data row4 col0\" >46</td>\n                        <td id=\"T_a2e337eb_220c_11eb_94aa_171fce606a64row4_col1\" class=\"data row4 col1\" >5</td>\n                        <td id=\"T_a2e337eb_220c_11eb_94aa_171fce606a64row4_col2\" class=\"data row4 col2\" >2</td>\n                        <td id=\"T_a2e337eb_220c_11eb_94aa_171fce606a64row4_col3\" class=\"data row4 col3\" >39</td>\n                        <td id=\"T_a2e337eb_220c_11eb_94aa_171fce606a64row4_col4\" class=\"data row4 col4\" >13.0%</td>\n            </tr>\n            <tr>\n                                <th id=\"T_a2e337eb_220c_11eb_94aa_171fce606a64level1_row5\" class=\"row_heading level1 row5\" >right</th>\n                        <td id=\"T_a2e337eb_220c_11eb_94aa_171fce606a64row5_col0\" class=\"data row5 col0\" >31</td>\n                        <td id=\"T_a2e337eb_220c_11eb_94aa_171fce606a64row5_col1\" class=\"data row5 col1\" >6</td>\n                        <td id=\"T_a2e337eb_220c_11eb_94aa_171fce606a64row5_col2\" class=\"data row5 col2\" >2</td>\n                        <td id=\"T_a2e337eb_220c_11eb_94aa_171fce606a64row5_col3\" class=\"data row5 col3\" >23</td>\n                        <td id=\"T_a2e337eb_220c_11eb_94aa_171fce606a64row5_col4\" class=\"data row5 col4\" >22.6%</td>\n            </tr>\n    </tbody></table>"
     },
     "metadata": {}
    }
   ],
   "source": [
    "display(df\n",
    "    .groupby(['flag columns', 'player'])\n",
    "    .agg(**league_table)\n",
    "    .style.format(score_fmt)\n",
    ")\n",
    "display(df\n",
    "    .groupby(['flag columns', 'flag side'])\n",
    "    .agg(**league_table)\n",
    "    .style.format(score_fmt)\n",
    ")"
   ]
  },
  {
   "cell_type": "code",
   "execution_count": 5,
   "metadata": {},
   "outputs": [
    {
     "output_type": "stream",
     "name": "stdout",
     "text": [
      "The 125 files below were the winning games with flags on the top row in the outside wings:\nclassic.2003.05.15.107.gsn\nclassic.2003.05.15.191.gsn\nclassic.2003.05.19.69.gsn\nclassic.2003.05.24.244.gsn\nclassic.2003.06.12.560.gsn\nclassic.2003.09.09.2357.gsn\nclassic.2003.09.24.5009.gsn\nclassic.2003.09.28.4108.gsn\nclassic.2003.10.12.4939.gsn\nclassic.2003.10.19.4992.gsn\nclassic.2003.10.28.5396.gsn\nclassic-2005.9-433.xml\nclassic-2005.9-1694.xml\nclassic-2005.9-2492.xml\nclassic-2005.9-2596.xml\nclassic-2005.9-2886.xml\nclassic-2005.9-4194.xml\nclassic-2005.9-6431.xml\nclassic-2005.9-6933.xml\nclassic-2005.10-622.xml\nclassic-2005.10-832.xml\nclassic-2005.10-1263.xml\nclassic-2005.10-1955.xml\nclassic-2005.10-2816.xml\nclassic-2005.10-3510.xml\nclassic-2005.10-4479.xml\nclassic-2005.10-4521.xml\nclassic-2005.10-5217.xml\nclassic-2005.10-5659.xml\nclassic-2005.10-5716.xml\nclassic-2005.10-5895.xml\nclassic-2005.10-6141.xml\nclassic-2005.10-6530.xml\nclassic-2005.10-6854.xml\nclassic-2005.10-6972.xml\nclassic-2005.10-7710.xml\nclassic-2005.10-7795.xml\nclassic-2005.10-8249.xml\nclassic-2005.11-781.xml\nclassic-2005.11-958.xml\nclassic-2005.11-1299.xml\nclassic-2005.11-1787.xml\nclassic-2005.11-2067.xml\nclassic-2005.11-2573.xml\nclassic-2005.11-3241.xml\nclassic-2005.11-3400.xml\nclassic-2005.11-3838.xml\nclassic-2005.11-5832.xml\nclassic-2005.11-6271.xml\nclassic-2005.11-6550.xml\nclassic-2005.11-6645.xml\nclassic-2005.11-7177.xml\nclassic-2005.11-7531.xml\nclassic-2006.0-766.xml\nclassic-2006.0-827.xml\nclassic-2006.0-1743.xml\nclassic-2006.0-2034.xml\nclassic-2006.0-2723.xml\nclassic-2006.0-3633.xml\nclassic-2006.0-3642.xml\nclassic-2006.0-4614.xml\nclassic-2006.0-7565.xml\nclassic-2006.1-221.xml\nclassic-2006.1-1852.xml\nclassic-2006.1-3422.xml\nclassic-2006.1-3524.xml\nclassic-2006.1-3909.xml\nclassic-2006.1-6986.xml\nclassic-2006.1-7192.xml\nclassic-2006.1-8080.xml\nclassic-2006.2-688.xml\nclassic-2006.2-753.xml\nclassic-2006.2-1035.xml\nclassic-2006.2-1089.xml\nclassic-2006.2-1417.xml\nclassic-2006.2-1987.xml\nclassic-2006.2-4249.xml\nclassic-2006.2-5344.xml\nclassic-2006.2-6258.xml\nclassic-2006.2-7947.xml\nclassic-2006.2-8304.xml\nclassic-2006.4-672.xml\nclassic-2006.4-2647.xml\nclassic-2006.4-3438.xml\nclassic-2006.4-5258.xml\nclassic-2006.4-5414.xml\nclassic-2006.4-6137.xml\nclassic-2006.4-6668.xml\nclassic-2006.5-2435.xml\nclassic-2006.5-2471.xml\nclassic-2006.5-2627.xml\nclassic-2006.5-3301.xml\nclassic-2006.5-4299.xml\nclassic-2006.5-5152.xml\nclassic-2006.5-6649.xml\nclassic-2006.5-6736.xml\nclassic-2006.5-6762.xml\nclassic-2006.7-5232.xml\nclassic-2006.7-6061.xml\nclassic-2014.0-211.xml\nclassic-2014.0-2250.xml\nclassic-2014.4-985.xml\nclassic-2014.4-2099.xml\nclassic-2014.4-2154.xml\nclassic-2014.5-1225.xml\nclassic-2014.5-1335.xml\nclassic-2014.5-1611.xml\nclassic-2014.5-1810.xml\nclassic-2014.5-2152.xml\nclassic-2014.5-2163.xml\nclassic-2014.6-672.xml\nclassic-2014.6-993.xml\nclassic-2014.7-690.xml\nclassic-2014.8-515.xml\nclassic-2014.9-409.xml\nclassic-2014.9-498.xml\nclassic-2014.9-688.xml\nclassic-2014.9-1868.xml\nclassic-2014.10-1946.xml\nclassic-2014.11-296.xml\nclassic-2014.11-1590.xml\nclassic-2014.11-2206.xml\nclassic-2015.1-1285.xml\nclassic-2015.1-1506.xml\nclassic-2015.2-1415.xml \n\nThe 15 files below were the winning games with flags on the top row in the inside wings:\nclassic.2003.12.08.3728.gsn\nclassic.2003.12.22.6027.gsn\nclassic-2005.9-195.xml\nclassic-2005.9-4596.xml\nclassic-2005.9-6508.xml\nclassic-2005.10-4535.xml\nclassic-2005.10-4904.xml\nclassic-2005.10-6378.xml\nclassic-2005.10-7093.xml\nclassic-2006.0-6787.xml\nclassic-2006.2-1642.xml\nclassic-2006.5-2677.xml\nclassic-2006.7-5644.xml\nclassic-2014.4-115.xml\nclassic-2015.1-2360.xml \n\nThe 11 files below were the winning games with flags on the top row in the center squares:\nclassic.2003.10.26.3363.gsn\nclassic.2003.11.10.3959.gsn\nclassic-2005.10-3351.xml\nclassic-2005.11-7392.xml\nclassic-2006.0-313.xml\nclassic-2006.2-4060.xml\nclassic-2006.2-7249.xml\nclassic-2006.4-1615.xml\nclassic-2006.4-5912.xml\nclassic-2014.5-138.xml\nclassic-2014.10-2664.xml \n\n"
     ]
    }
   ],
   "source": [
    "for flag_columns in front_row.keys():\n",
    "    files = (df\n",
    "        .query('result == \"win\" & `flag columns` == @flag_columns')\n",
    "        .filename\n",
    "        .to_list()\n",
    "    )\n",
    "    print(f'The {len(files):,} files below were the winning games with flags on the top row in the {flag_columns.lower()}:')\n",
    "    print('\\n'.join(files), '\\n')\n",
    "    archive.make_zip(files, 'winning_front_row_flag_in_' + flag_columns.lower().replace(' ', '_'))"
   ]
  },
  {
   "source": [
    "## 2. The original version of Dobby125's blog post\n",
    "\n",
    "Below we reproduce the [original tables](http://stratego-tips.blogspot.com/2017/04/top-row-open-flag-winning-game-files-at.html) as faithfully as possible. Note that we find slightly more winning games for all three flag columns."
   ],
   "cell_type": "markdown",
   "metadata": {}
  },
  {
   "cell_type": "code",
   "execution_count": 6,
   "metadata": {},
   "outputs": [],
   "source": [
    "keys = [ 'Center Squares', 'Outside Wings', 'Inside Wings' ]\n",
    "front_row = { k: front_row[k] for k in keys }\n",
    "flag_fmt = {\n",
    "    'flag columns': pd.CategoricalDtype(categories=front_row.keys())\n",
    "}\n",
    "table_fmt = {\n",
    "    'Total Wins'    : ('win', 'sum'  ),\n",
    "    'Total Games'   : ('win', 'count'),\n",
    "    'Win Percentage': ('win', 'mean' )\n",
    "}\n",
    "win_fmt = {\n",
    "    'Win Percentage': '{:.2%}'\n",
    "}"
   ]
  },
  {
   "cell_type": "code",
   "execution_count": 7,
   "metadata": {},
   "outputs": [],
   "source": [
    "classic_xml = db_setups.query('type == \"classic\" & ext == \".xml\"')\n",
    "\n",
    "df = (pd\n",
    "    .concat([\n",
    "        pattern.match(classic_xml, flag_pattern, mirrored=True).assign(**{'flag columns': flag_columns})\n",
    "        for flag_columns, flag_pattern in front_row.items()\n",
    "    ])\n",
    "    .astype(dtype=flag_fmt)\n",
    ")"
   ]
  },
  {
   "cell_type": "code",
   "execution_count": 8,
   "metadata": {},
   "outputs": [
    {
     "output_type": "display_data",
     "data": {
      "text/plain": "<pandas.io.formats.style.Styler at 0x7fb9c487fd30>",
      "text/html": "<style  type=\"text/css\" >\n</style><table id=\"T_a2e337ec_220c_11eb_94aa_171fce606a64\" ><thead>    <tr>        <th class=\"blank\" ></th>        <th class=\"blank level0\" ></th>        <th class=\"col_heading level0 col0\" >Total Wins</th>        <th class=\"col_heading level0 col1\" >Total Games</th>        <th class=\"col_heading level0 col2\" >Win Percentage</th>    </tr>    <tr>        <th class=\"index_name level0\" >flag columns</th>        <th class=\"index_name level1\" >player</th>        <th class=\"blank\" ></th>        <th class=\"blank\" ></th>        <th class=\"blank\" ></th>    </tr></thead><tbody>\n                <tr>\n                        <th id=\"T_a2e337ec_220c_11eb_94aa_171fce606a64level0_row0\" class=\"row_heading level0 row0\" rowspan=2>Center Squares</th>\n                        <th id=\"T_a2e337ec_220c_11eb_94aa_171fce606a64level1_row0\" class=\"row_heading level1 row0\" >red</th>\n                        <td id=\"T_a2e337ec_220c_11eb_94aa_171fce606a64row0_col0\" class=\"data row0 col0\" >3</td>\n                        <td id=\"T_a2e337ec_220c_11eb_94aa_171fce606a64row0_col1\" class=\"data row0 col1\" >35</td>\n                        <td id=\"T_a2e337ec_220c_11eb_94aa_171fce606a64row0_col2\" class=\"data row0 col2\" >8.57%</td>\n            </tr>\n            <tr>\n                                <th id=\"T_a2e337ec_220c_11eb_94aa_171fce606a64level1_row1\" class=\"row_heading level1 row1\" >blue</th>\n                        <td id=\"T_a2e337ec_220c_11eb_94aa_171fce606a64row1_col0\" class=\"data row1 col0\" >6</td>\n                        <td id=\"T_a2e337ec_220c_11eb_94aa_171fce606a64row1_col1\" class=\"data row1 col1\" >34</td>\n                        <td id=\"T_a2e337ec_220c_11eb_94aa_171fce606a64row1_col2\" class=\"data row1 col2\" >17.65%</td>\n            </tr>\n            <tr>\n                        <th id=\"T_a2e337ec_220c_11eb_94aa_171fce606a64level0_row2\" class=\"row_heading level0 row2\" rowspan=2>Outside Wings</th>\n                        <th id=\"T_a2e337ec_220c_11eb_94aa_171fce606a64level1_row2\" class=\"row_heading level1 row2\" >red</th>\n                        <td id=\"T_a2e337ec_220c_11eb_94aa_171fce606a64row2_col0\" class=\"data row2 col0\" >57</td>\n                        <td id=\"T_a2e337ec_220c_11eb_94aa_171fce606a64row2_col1\" class=\"data row2 col1\" >169</td>\n                        <td id=\"T_a2e337ec_220c_11eb_94aa_171fce606a64row2_col2\" class=\"data row2 col2\" >33.73%</td>\n            </tr>\n            <tr>\n                                <th id=\"T_a2e337ec_220c_11eb_94aa_171fce606a64level1_row3\" class=\"row_heading level1 row3\" >blue</th>\n                        <td id=\"T_a2e337ec_220c_11eb_94aa_171fce606a64row3_col0\" class=\"data row3 col0\" >57</td>\n                        <td id=\"T_a2e337ec_220c_11eb_94aa_171fce606a64row3_col1\" class=\"data row3 col1\" >140</td>\n                        <td id=\"T_a2e337ec_220c_11eb_94aa_171fce606a64row3_col2\" class=\"data row3 col2\" >40.71%</td>\n            </tr>\n            <tr>\n                        <th id=\"T_a2e337ec_220c_11eb_94aa_171fce606a64level0_row4\" class=\"row_heading level0 row4\" rowspan=2>Inside Wings</th>\n                        <th id=\"T_a2e337ec_220c_11eb_94aa_171fce606a64level1_row4\" class=\"row_heading level1 row4\" >red</th>\n                        <td id=\"T_a2e337ec_220c_11eb_94aa_171fce606a64row4_col0\" class=\"data row4 col0\" >10</td>\n                        <td id=\"T_a2e337ec_220c_11eb_94aa_171fce606a64row4_col1\" class=\"data row4 col1\" >34</td>\n                        <td id=\"T_a2e337ec_220c_11eb_94aa_171fce606a64row4_col2\" class=\"data row4 col2\" >29.41%</td>\n            </tr>\n            <tr>\n                                <th id=\"T_a2e337ec_220c_11eb_94aa_171fce606a64level1_row5\" class=\"row_heading level1 row5\" >blue</th>\n                        <td id=\"T_a2e337ec_220c_11eb_94aa_171fce606a64row5_col0\" class=\"data row5 col0\" >3</td>\n                        <td id=\"T_a2e337ec_220c_11eb_94aa_171fce606a64row5_col1\" class=\"data row5 col1\" >34</td>\n                        <td id=\"T_a2e337ec_220c_11eb_94aa_171fce606a64row5_col2\" class=\"data row5 col2\" >8.82%</td>\n            </tr>\n    </tbody></table>"
     },
     "metadata": {}
    }
   ],
   "source": [
    "display(df\n",
    "    .groupby(['flag columns', 'player'])\n",
    "    .agg(**table_fmt)\n",
    "    .style.format(win_fmt)\n",
    ")"
   ]
  },
  {
   "cell_type": "code",
   "execution_count": 9,
   "metadata": {},
   "outputs": [
    {
     "output_type": "stream",
     "name": "stdout",
     "text": [
      "The files below were the winning games with flags on the top row in the center squares:\nclassic-2005.10-3351.xml\nclassic-2005.11-7392.xml\nclassic-2006.0-313.xml\nclassic-2006.2-4060.xml\nclassic-2006.2-7249.xml\nclassic-2006.4-1615.xml\nclassic-2006.4-5912.xml\nclassic-2014.10-2664.xml\nclassic-2014.5-138.xml \n\nThe files below were the winning games with flags on the top row in the outside wings:\nclassic-2005.10-1263.xml\nclassic-2005.10-1955.xml\nclassic-2005.10-2816.xml\nclassic-2005.10-3510.xml\nclassic-2005.10-4479.xml\nclassic-2005.10-4521.xml\nclassic-2005.10-5217.xml\nclassic-2005.10-5659.xml\nclassic-2005.10-5716.xml\nclassic-2005.10-5895.xml\nclassic-2005.10-6141.xml\nclassic-2005.10-622.xml\nclassic-2005.10-6530.xml\nclassic-2005.10-6854.xml\nclassic-2005.10-6972.xml\nclassic-2005.10-7710.xml\nclassic-2005.10-7795.xml\nclassic-2005.10-8249.xml\nclassic-2005.10-832.xml\nclassic-2005.11-1299.xml\nclassic-2005.11-1787.xml\nclassic-2005.11-2067.xml\nclassic-2005.11-2573.xml\nclassic-2005.11-3241.xml\nclassic-2005.11-3400.xml\nclassic-2005.11-3838.xml\nclassic-2005.11-5832.xml\nclassic-2005.11-6271.xml\nclassic-2005.11-6550.xml\nclassic-2005.11-6645.xml\nclassic-2005.11-7177.xml\nclassic-2005.11-7531.xml\nclassic-2005.11-781.xml\nclassic-2005.11-958.xml\nclassic-2005.9-1694.xml\nclassic-2005.9-2492.xml\nclassic-2005.9-2596.xml\nclassic-2005.9-2886.xml\nclassic-2005.9-4194.xml\nclassic-2005.9-433.xml\nclassic-2005.9-6431.xml\nclassic-2005.9-6933.xml\nclassic-2006.0-1743.xml\nclassic-2006.0-2034.xml\nclassic-2006.0-2723.xml\nclassic-2006.0-3633.xml\nclassic-2006.0-3642.xml\nclassic-2006.0-4614.xml\nclassic-2006.0-7565.xml\nclassic-2006.0-766.xml\nclassic-2006.0-827.xml\nclassic-2006.1-1852.xml\nclassic-2006.1-221.xml\nclassic-2006.1-3422.xml\nclassic-2006.1-3524.xml\nclassic-2006.1-3909.xml\nclassic-2006.1-6986.xml\nclassic-2006.1-7192.xml\nclassic-2006.1-8080.xml\nclassic-2006.2-1035.xml\nclassic-2006.2-1089.xml\nclassic-2006.2-1417.xml\nclassic-2006.2-1987.xml\nclassic-2006.2-4249.xml\nclassic-2006.2-5344.xml\nclassic-2006.2-6258.xml\nclassic-2006.2-688.xml\nclassic-2006.2-753.xml\nclassic-2006.2-7947.xml\nclassic-2006.2-8304.xml\nclassic-2006.4-2647.xml\nclassic-2006.4-3438.xml\nclassic-2006.4-5258.xml\nclassic-2006.4-5414.xml\nclassic-2006.4-6137.xml\nclassic-2006.4-6668.xml\nclassic-2006.4-672.xml\nclassic-2006.5-2435.xml\nclassic-2006.5-2471.xml\nclassic-2006.5-2627.xml\nclassic-2006.5-3301.xml\nclassic-2006.5-4299.xml\nclassic-2006.5-5152.xml\nclassic-2006.5-6649.xml\nclassic-2006.5-6736.xml\nclassic-2006.5-6762.xml\nclassic-2006.7-5232.xml\nclassic-2006.7-6061.xml\nclassic-2014.0-211.xml\nclassic-2014.0-2250.xml\nclassic-2014.10-1946.xml\nclassic-2014.11-1590.xml\nclassic-2014.11-2206.xml\nclassic-2014.11-296.xml\nclassic-2014.4-2099.xml\nclassic-2014.4-2154.xml\nclassic-2014.4-985.xml\nclassic-2014.5-1225.xml\nclassic-2014.5-1335.xml\nclassic-2014.5-1611.xml\nclassic-2014.5-1810.xml\nclassic-2014.5-2152.xml\nclassic-2014.5-2163.xml\nclassic-2014.6-672.xml\nclassic-2014.6-993.xml\nclassic-2014.7-690.xml\nclassic-2014.8-515.xml\nclassic-2014.9-1868.xml\nclassic-2014.9-409.xml\nclassic-2014.9-498.xml\nclassic-2014.9-688.xml\nclassic-2015.1-1285.xml\nclassic-2015.1-1506.xml\nclassic-2015.2-1415.xml \n\nThe files below were the winning games with flags on the top row in the inside wings:\nclassic-2005.10-4535.xml\nclassic-2005.10-4904.xml\nclassic-2005.10-6378.xml\nclassic-2005.10-7093.xml\nclassic-2005.9-195.xml\nclassic-2005.9-4596.xml\nclassic-2005.9-6508.xml\nclassic-2006.0-6787.xml\nclassic-2006.2-1642.xml\nclassic-2006.5-2677.xml\nclassic-2006.7-5644.xml\nclassic-2014.4-115.xml\nclassic-2015.1-2360.xml \n\n"
     ]
    }
   ],
   "source": [
    "for flag_columns in front_row.keys():\n",
    "    files = (df\n",
    "        .query('result == \"win\" & `flag columns` == @flag_columns')\n",
    "        .filename\n",
    "        .sort_values()\n",
    "        .to_list()\n",
    "    )\n",
    "    print(f'The files below were the winning games with flags on the top row in the {flag_columns.lower()}:')\n",
    "    print('\\n'.join(files), '\\n')"
   ]
  },
  {
   "source": [
    "## 3. Earlier forum posts"
   ],
   "cell_type": "markdown",
   "metadata": {}
  },
  {
   "source": [
    "### a) Center squares\n",
    "\n",
    "On April 9th, 2017, [stratego.com](http://www.stratego.com/play/) user [Dobby125](http://forum.stratego.com/user/873-dobby125/) wrote a [forum post](http://forum.stratego.com/topic/357378-strategy-question-findingavoiding-bombs-at-the-end-of-games/?p=431876) listing the number of winning front row flags in total, for the center squares and by player (red or blue). The .xml filenames for the winning front row flags on the center squares were also listed."
   ],
   "cell_type": "markdown",
   "metadata": {}
  },
  {
   "source": [
    "display(df\n",
    "    .groupby(lambda _: '')\n",
    "    .agg(**table_fmt)\n",
    "    .style.format(win_fmt)\n",
    ")\n",
    "display(df\n",
    "    .query('`flag columns` == \"Center Squares\"')\n",
    "    .groupby('flag columns', observed=True)\n",
    "    .agg(**table_fmt)\n",
    "    .style.format(win_fmt)\n",
    ")\n",
    "display(df\n",
    "    .groupby('player')\n",
    "    .agg(**table_fmt)\n",
    "    .style.format(win_fmt)\n",
    ")"
   ],
   "cell_type": "code",
   "metadata": {},
   "execution_count": 10,
   "outputs": [
    {
     "output_type": "display_data",
     "data": {
      "text/plain": "<pandas.io.formats.style.Styler at 0x7fb9c49131f0>",
      "text/html": "<style  type=\"text/css\" >\n</style><table id=\"T_a2e337ed_220c_11eb_94aa_171fce606a64\" ><thead>    <tr>        <th class=\"blank level0\" ></th>        <th class=\"col_heading level0 col0\" >Total Wins</th>        <th class=\"col_heading level0 col1\" >Total Games</th>        <th class=\"col_heading level0 col2\" >Win Percentage</th>    </tr></thead><tbody>\n                <tr>\n                        <th id=\"T_a2e337ed_220c_11eb_94aa_171fce606a64level0_row0\" class=\"row_heading level0 row0\" ></th>\n                        <td id=\"T_a2e337ed_220c_11eb_94aa_171fce606a64row0_col0\" class=\"data row0 col0\" >136</td>\n                        <td id=\"T_a2e337ed_220c_11eb_94aa_171fce606a64row0_col1\" class=\"data row0 col1\" >446</td>\n                        <td id=\"T_a2e337ed_220c_11eb_94aa_171fce606a64row0_col2\" class=\"data row0 col2\" >30.49%</td>\n            </tr>\n    </tbody></table>"
     },
     "metadata": {}
    },
    {
     "output_type": "display_data",
     "data": {
      "text/plain": "<pandas.io.formats.style.Styler at 0x7fb9fc0f6640>",
      "text/html": "<style  type=\"text/css\" >\n</style><table id=\"T_a2e337ee_220c_11eb_94aa_171fce606a64\" ><thead>    <tr>        <th class=\"blank level0\" ></th>        <th class=\"col_heading level0 col0\" >Total Wins</th>        <th class=\"col_heading level0 col1\" >Total Games</th>        <th class=\"col_heading level0 col2\" >Win Percentage</th>    </tr>    <tr>        <th class=\"index_name level0\" >flag columns</th>        <th class=\"blank\" ></th>        <th class=\"blank\" ></th>        <th class=\"blank\" ></th>    </tr></thead><tbody>\n                <tr>\n                        <th id=\"T_a2e337ee_220c_11eb_94aa_171fce606a64level0_row0\" class=\"row_heading level0 row0\" >Center Squares</th>\n                        <td id=\"T_a2e337ee_220c_11eb_94aa_171fce606a64row0_col0\" class=\"data row0 col0\" >9</td>\n                        <td id=\"T_a2e337ee_220c_11eb_94aa_171fce606a64row0_col1\" class=\"data row0 col1\" >69</td>\n                        <td id=\"T_a2e337ee_220c_11eb_94aa_171fce606a64row0_col2\" class=\"data row0 col2\" >13.04%</td>\n            </tr>\n    </tbody></table>"
     },
     "metadata": {}
    },
    {
     "output_type": "display_data",
     "data": {
      "text/plain": "<pandas.io.formats.style.Styler at 0x7fb9fc0e3fd0>",
      "text/html": "<style  type=\"text/css\" >\n</style><table id=\"T_a2e337ef_220c_11eb_94aa_171fce606a64\" ><thead>    <tr>        <th class=\"blank level0\" ></th>        <th class=\"col_heading level0 col0\" >Total Wins</th>        <th class=\"col_heading level0 col1\" >Total Games</th>        <th class=\"col_heading level0 col2\" >Win Percentage</th>    </tr>    <tr>        <th class=\"index_name level0\" >player</th>        <th class=\"blank\" ></th>        <th class=\"blank\" ></th>        <th class=\"blank\" ></th>    </tr></thead><tbody>\n                <tr>\n                        <th id=\"T_a2e337ef_220c_11eb_94aa_171fce606a64level0_row0\" class=\"row_heading level0 row0\" >red</th>\n                        <td id=\"T_a2e337ef_220c_11eb_94aa_171fce606a64row0_col0\" class=\"data row0 col0\" >70</td>\n                        <td id=\"T_a2e337ef_220c_11eb_94aa_171fce606a64row0_col1\" class=\"data row0 col1\" >238</td>\n                        <td id=\"T_a2e337ef_220c_11eb_94aa_171fce606a64row0_col2\" class=\"data row0 col2\" >29.41%</td>\n            </tr>\n            <tr>\n                        <th id=\"T_a2e337ef_220c_11eb_94aa_171fce606a64level0_row1\" class=\"row_heading level0 row1\" >blue</th>\n                        <td id=\"T_a2e337ef_220c_11eb_94aa_171fce606a64row1_col0\" class=\"data row1 col0\" >66</td>\n                        <td id=\"T_a2e337ef_220c_11eb_94aa_171fce606a64row1_col1\" class=\"data row1 col1\" >208</td>\n                        <td id=\"T_a2e337ef_220c_11eb_94aa_171fce606a64row1_col2\" class=\"data row1 col2\" >31.73%</td>\n            </tr>\n    </tbody></table>"
     },
     "metadata": {}
    }
   ]
  },
  {
   "cell_type": "code",
   "execution_count": 11,
   "metadata": {},
   "outputs": [
    {
     "output_type": "stream",
     "name": "stdout",
     "text": [
      "Winning games center flag: 'classic-2005.10-3351.xml', 'classic-2005.11-7392.xml', 'classic-2006.0-313.xml', 'classic-2006.2-4060.xml', 'classic-2006.2-7249.xml', 'classic-2006.4-1615.xml', 'classic-2006.4-5912.xml', 'classic-2014.10-2664.xml', 'classic-2014.5-138.xml'\n"
     ]
    }
   ],
   "source": [
    "files = (df\n",
    "    .query('result == \"win\" & `flag columns` == \"Center Squares\"')\n",
    "    .filename\n",
    "    .sort_values()\n",
    "    .to_list()\n",
    ")\n",
    "quoted_files = [\n",
    "    f'\\'{file}\\''\n",
    "    for file in files\n",
    "]\n",
    "print(f'Winning games center flag: {\", \".join(quoted_files)}')"
   ]
  },
  {
   "source": [
    "### b) Fun and interesting games\n",
    "\n",
    "The last game on the above list, **classic-2014.5-138.xml**, was pointed out as a fun game to watch.\n",
    "\n",
    "On April 11th, 2017, [stratego.com](http://www.stratego.com/play/) user [Dobby125](http://forum.stratego.com/user/873-dobby125/) wrote a [forum post](http://forum.stratego.com/topic/357378-strategy-question-findingavoiding-bombs-at-the-end-of-games/?p=431957) pointing out the game **2005.11-6645.xml** (which features a winning front row flag on the outside wings) as an interesting game to watch."
   ],
   "cell_type": "markdown",
   "metadata": {}
  }
 ]
}