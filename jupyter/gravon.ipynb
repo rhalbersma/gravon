{
 "cells": [
  {
   "cell_type": "code",
   "execution_count": 1,
   "metadata": {},
   "outputs": [],
   "source": [
    "import numpy as np\n",
    "\n",
    "def rotate(seq, n):\n",
    "    \"\"\" Rotate a sequence by n places.\n",
    "    If n > 0, rotates the first n elements of the sequence to the back.\n",
    "    If n < 0, rotates the last n elements of the sequence to the front.\n",
    "    If n == 0, returns the original sequence.\n",
    "    \"\"\"\n",
    "    n = n % len(seq)\n",
    "    return seq[n:] + seq[:n]\n",
    "\n",
    "# page 90 of Vincent de Boer's thesis\n",
    "# http://www.kbs.twi.tudelft.nl/docs/MSc/2007/deBoer/thesis.pdf\n",
    "# rotate by -1 because we want the flag as the first piece instead of the last piece\n",
    "StraDoS2_red = rotate([ chr(i) for i in range(ord('B'), ord('M') + 1) ], -1)\n",
    "StraDoS2_blu = rotate([ chr(i) for i in range(ord('N'), ord('Y') + 1) ], -1)\n",
    "\n",
    "# We use 'F' for flag, 'B' for bomb, '1'-'9' for spy-general, and 'X' for marshal.\n",
    "pieces = [ 'F', 'B' ] + [ str(i) for i in range(1, 10) ] + [ 'X' ]\n",
    "\n",
    "# A dictionary mapping the StraDoS2 encoding to our conventions.\n",
    "StraDoS2_decoding = {\n",
    "    **{ '_' : '*', 'A' : '.' },\n",
    "    **{ StraDoS2_red[i] : p for i, p in enumerate(pieces) },\n",
    "    **{ StraDoS2_blu[i] : p for i, p in enumerate(pieces) }\n",
    "}\n",
    "\n",
    "def StraDoS2_decode(s):\n",
    "    \"\"\" Decode a StraDoS2 setup string to our conventions. \"\"\"\n",
    "    return ''.join([StraDoS2_decoding[c] for c in s])\n",
    "\n",
    "def mirror(s):\n",
    "    \"\"\" Mirror a setup by reversing its string. \"\"\"\n",
    "    return ''.join(reversed(s))\n",
    "\n",
    "# the board half dimensions of a single player's setup\n",
    "HALF_HEIGHT = 4\n",
    "FULL_WIDTH = 10\n",
    "\n",
    "def to_numpy_array(s):\n",
    "    \"\"\" Convert a setup string to a NumPy array with the board half dimensions. \"\"\"\n",
    "    return np.array([ c for c in s ]).reshape(HALF_HEIGHT, FULL_WIDTH)"
   ]
  },
  {
   "cell_type": "code",
   "execution_count": 2,
   "metadata": {
    "scrolled": true
   },
   "outputs": [],
   "source": [
    "from lxml import etree\n",
    "import os\n",
    "\n",
    "# Requirements:\n",
    "# 1) extract all .zip files from Gravon in a subdirectory 'games'\n",
    "#    e.g. using wget -nd -r -P games -A zip http://www.gravon.de/strados2/files/\n",
    "# 2) unzip all files and delete unwanted game types (barrage, duell, ultimate etc.)\n",
    "path = 'games'\n",
    "xml_files = (f for f in os.listdir(path) if f.endswith('.xml'))\n",
    "setups = []\n",
    "for f in xml_files:\n",
    "    filename = os.path.join(path, f)\n",
    "    tree = etree.parse(filename)\n",
    "    field = tree.find(\".//field\")\n",
    "    if field == None: continue\n",
    "    content = field.attrib['content']\n",
    "    red_setup = to_numpy_array(       StraDoS2_decode(content[:40]) )\n",
    "    blu_setup = to_numpy_array(mirror(StraDoS2_decode(content[60:])))\n",
    "    setups.append(red_setup)\n",
    "    setups.append(blu_setup)  "
   ]
  },
  {
   "cell_type": "code",
   "execution_count": 3,
   "metadata": {},
   "outputs": [
    {
     "name": "stdout",
     "output_type": "stream",
     "text": [
      "Placement by piece and square\n",
      "F\n",
      "[[0.09  0.026 0.071 0.132 0.097 0.08  0.161 0.084 0.022 0.121]\n",
      " [0.003 0.002 0.01  0.017 0.003 0.003 0.02  0.012 0.002 0.007]\n",
      " [0.001 0.    0.002 0.004 0.001 0.    0.003 0.002 0.    0.006]\n",
      " [0.002 0.    0.003 0.002 0.    0.    0.002 0.005 0.001 0.002]]\n",
      "B\n",
      "[[0.144 0.264 0.293 0.257 0.265 0.267 0.249 0.279 0.281 0.138]\n",
      " [0.245 0.157 0.188 0.194 0.171 0.163 0.192 0.189 0.144 0.263]\n",
      " [0.113 0.125 0.1   0.073 0.082 0.079 0.073 0.095 0.125 0.112]\n",
      " [0.093 0.061 0.072 0.061 0.046 0.06  0.062 0.069 0.056 0.095]]\n",
      "1\n",
      "[[0.003 0.004 0.004 0.005 0.006 0.006 0.005 0.005 0.005 0.004]\n",
      " [0.011 0.017 0.046 0.072 0.04  0.043 0.079 0.054 0.02  0.013]\n",
      " [0.004 0.006 0.069 0.119 0.015 0.016 0.127 0.058 0.007 0.004]\n",
      " [0.001 0.001 0.02  0.041 0.001 0.001 0.04  0.025 0.001 0.001]]\n",
      "2\n",
      "[[0.197 0.178 0.112 0.104 0.144 0.147 0.102 0.099 0.157 0.19 ]\n",
      " [0.197 0.22  0.122 0.109 0.19  0.185 0.108 0.115 0.223 0.193]\n",
      " [0.235 0.264 0.177 0.191 0.28  0.246 0.188 0.171 0.269 0.221]\n",
      " [0.347 0.305 0.202 0.192 0.297 0.316 0.188 0.181 0.296 0.334]]\n",
      "3\n",
      "[[0.271 0.231 0.212 0.224 0.215 0.21  0.213 0.228 0.233 0.267]\n",
      " [0.145 0.14  0.15  0.165 0.143 0.14  0.166 0.149 0.152 0.138]\n",
      " [0.055 0.048 0.112 0.112 0.044 0.044 0.112 0.113 0.055 0.056]\n",
      " [0.02  0.014 0.098 0.077 0.015 0.014 0.081 0.091 0.015 0.024]]\n",
      "4\n",
      "[[0.144 0.121 0.116 0.096 0.092 0.103 0.091 0.117 0.112 0.139]\n",
      " [0.121 0.095 0.072 0.075 0.074 0.068 0.066 0.072 0.1   0.114]\n",
      " [0.13  0.075 0.064 0.056 0.061 0.07  0.052 0.058 0.081 0.13 ]\n",
      " [0.163 0.168 0.07  0.064 0.151 0.144 0.072 0.071 0.164 0.163]]\n",
      "5\n",
      "[[0.062 0.073 0.071 0.064 0.051 0.058 0.064 0.066 0.077 0.053]\n",
      " [0.087 0.095 0.087 0.068 0.084 0.074 0.072 0.079 0.089 0.078]\n",
      " [0.106 0.111 0.072 0.079 0.112 0.107 0.079 0.076 0.094 0.121]\n",
      " [0.178 0.224 0.098 0.092 0.209 0.208 0.082 0.097 0.22  0.174]]\n",
      "6\n",
      "[[0.045 0.049 0.061 0.062 0.068 0.066 0.056 0.065 0.061 0.043]\n",
      " [0.076 0.089 0.098 0.09  0.09  0.098 0.091 0.099 0.095 0.072]\n",
      " [0.146 0.14  0.082 0.079 0.129 0.144 0.076 0.085 0.13  0.138]\n",
      " [0.125 0.146 0.114 0.118 0.177 0.17  0.116 0.114 0.159 0.132]]\n",
      "7\n",
      "[[0.024 0.037 0.047 0.044 0.046 0.047 0.048 0.046 0.036 0.03 ]\n",
      " [0.055 0.09  0.112 0.116 0.095 0.109 0.122 0.112 0.07  0.063]\n",
      " [0.093 0.091 0.075 0.068 0.104 0.1   0.074 0.073 0.094 0.087]\n",
      " [0.048 0.053 0.115 0.102 0.074 0.059 0.11  0.119 0.059 0.048]]\n",
      "8\n",
      "[[0.011 0.012 0.009 0.009 0.011 0.012 0.008 0.009 0.011 0.008]\n",
      " [0.034 0.062 0.086 0.075 0.069 0.077 0.065 0.089 0.07  0.037]\n",
      " [0.057 0.07  0.117 0.096 0.062 0.068 0.085 0.135 0.069 0.062]\n",
      " [0.012 0.012 0.086 0.081 0.013 0.013 0.07  0.097 0.013 0.014]]\n",
      "9\n",
      "[[0.003 0.002 0.001 0.001 0.001 0.002 0.001 0.001 0.002 0.002]\n",
      " [0.01  0.013 0.013 0.008 0.018 0.017 0.01  0.012 0.013 0.01 ]\n",
      " [0.028 0.037 0.063 0.057 0.059 0.08  0.069 0.068 0.04  0.033]\n",
      " [0.005 0.008 0.051 0.086 0.007 0.006 0.088 0.061 0.007 0.006]]\n",
      "X\n",
      "[[0.004 0.002 0.002 0.001 0.002 0.002 0.001 0.001 0.002 0.003]\n",
      " [0.015 0.018 0.015 0.011 0.021 0.021 0.01  0.016 0.021 0.01 ]\n",
      " [0.029 0.032 0.064 0.065 0.049 0.041 0.062 0.066 0.034 0.029]\n",
      " [0.005 0.006 0.07  0.083 0.008 0.007 0.087 0.071 0.008 0.005]]\n",
      "\n",
      "Placement by piece and file\n",
      "F: [0.097 0.028 0.086 0.156 0.101 0.083 0.185 0.102 0.025 0.136]\n",
      "B: [0.595 0.607 0.652 0.584 0.564 0.569 0.575 0.631 0.606 0.609]\n",
      "1: [0.019 0.027 0.14  0.237 0.062 0.067 0.251 0.142 0.032 0.021]\n",
      "2: [0.975 0.967 0.612 0.595 0.91  0.894 0.584 0.566 0.944 0.937]\n",
      "3: [0.49  0.433 0.573 0.577 0.418 0.408 0.572 0.58  0.456 0.484]\n",
      "4: [0.558 0.459 0.322 0.291 0.377 0.384 0.281 0.317 0.456 0.546]\n",
      "5: [0.433 0.504 0.328 0.303 0.456 0.447 0.297 0.318 0.48  0.426]\n",
      "6: [0.392 0.424 0.355 0.348 0.465 0.478 0.338 0.363 0.445 0.386]\n",
      "7: [0.221 0.271 0.349 0.33  0.319 0.314 0.354 0.35  0.259 0.228]\n",
      "8: [0.115 0.156 0.298 0.26  0.155 0.171 0.228 0.329 0.163 0.121]\n",
      "9: [0.046 0.06  0.128 0.151 0.085 0.106 0.168 0.142 0.062 0.051]\n",
      "X: [0.053 0.058 0.15  0.16  0.08  0.072 0.16  0.154 0.065 0.047]\n",
      "\n",
      "Placement by piece and rank\n",
      "F: [0.883 0.079 0.02  0.018]\n",
      "B: [2.437 1.905 0.976 0.674]\n",
      "1: [0.048 0.394 0.425 0.131]\n",
      "2: [1.427 1.662 2.24  2.656]\n",
      "3: [2.304 1.487 0.751 0.449]\n",
      "4: [1.132 0.854 0.777 1.229]\n",
      "5: [0.64  0.814 0.956 1.583]\n",
      "6: [0.575 0.898 1.149 1.371]\n",
      "7: [0.405 0.944 0.859 0.786]\n",
      "8: [0.098 0.665 0.821 0.413]\n",
      "9: [0.017 0.123 0.535 0.325]\n",
      "X: [0.02  0.157 0.472 0.349]\n",
      "\n"
     ]
    }
   ],
   "source": [
    "num_setups = len(setups)\n",
    "placements = { p : sum(s == p for s in setups) for p in pieces }\n",
    "\n",
    "print(\"Placement by piece and square\")\n",
    "for p, n in placements.items():\n",
    "    print(p)\n",
    "    print(np.round(n / num_setups, 3))\n",
    "print(\"\")\n",
    "    \n",
    "print(\"Placement by piece and file\")\n",
    "for p, n in placements.items():\n",
    "    print(p, end=\": \")\n",
    "    print(np.round(np.sum(n, axis=0) / num_setups, 3))\n",
    "print(\"\")    \n",
    "    \n",
    "print(\"Placement by piece and rank\")    \n",
    "for p, n in placements.items():\n",
    "    print(p, end=\": \")\n",
    "    print(np.round(np.sum(n, axis=1) / num_setups, 3))    \n",
    "print(\"\")"
   ]
  },
  {
   "cell_type": "code",
   "execution_count": 63,
   "metadata": {},
   "outputs": [
    {
     "name": "stdout",
     "output_type": "stream",
     "text": [
      "Placement by piece and square\n"
     ]
    },
    {
     "data": {
      "image/png": "[encoded data removed]",
      "text/plain": [
       "<Figure size 432x288 with 1 Axes>"
      ]
     },
     "metadata": {},
     "output_type": "display_data"
    },
    {
     "data": {
      "image/png": "[encoded data removed]",
      "text/plain": [
       "<Figure size 432x288 with 1 Axes>"
      ]
     },
     "metadata": {},
     "output_type": "display_data"
    },
    {
     "data": {
      "image/png": "[encoded data removed]",
      "text/plain": [
       "<Figure size 432x288 with 1 Axes>"
      ]
     },
     "metadata": {},
     "output_type": "display_data"
    },
    {
     "data": {
      "image/png": "[encoded data removed]",
      "text/plain": [
       "<Figure size 432x288 with 1 Axes>"
      ]
     },
     "metadata": {},
     "output_type": "display_data"
    },
    {
     "data": {
      "image/png": "[encoded data removed]",
      "text/plain": [
       "<Figure size 432x288 with 1 Axes>"
      ]
     },
     "metadata": {},
     "output_type": "display_data"
    },
    {
     "data": {
      "image/png": "[encoded data removed]",
      "text/plain": [
       "<Figure size 432x288 with 1 Axes>"
      ]
     },
     "metadata": {},
     "output_type": "display_data"
    },
    {
     "data": {
      "image/png": "[encoded data removed]",
      "text/plain": [
       "<Figure size 432x288 with 1 Axes>"
      ]
     },
     "metadata": {},
     "output_type": "display_data"
    },
    {
     "data": {
      "image/png": "[encoded data removed]",
      "text/plain": [
       "<Figure size 432x288 with 1 Axes>"
      ]
     },
     "metadata": {},
     "output_type": "display_data"
    },
    {
     "data": {
      "image/png": "[encoded data removed]",
      "text/plain": [
       "<Figure size 432x288 with 1 Axes>"
      ]
     },
     "metadata": {},
     "output_type": "display_data"
    },
    {
     "data": {
      "image/png": "[encoded data removed]",
      "text/plain": [
       "<Figure size 432x288 with 1 Axes>"
      ]
     },
     "metadata": {},
     "output_type": "display_data"
    },
    {
     "data": {
      "image/png": "[encoded data removed]",
      "text/plain": [
       "<Figure size 432x288 with 1 Axes>"
      ]
     },
     "metadata": {},
     "output_type": "display_data"
    },
    {
     "data": {
      "image/png": "[encoded data removed]",
      "text/plain": [
       "<Figure size 432x288 with 1 Axes>"
      ]
     },
     "metadata": {},
     "output_type": "display_data"
    },
    {
     "name": "stdout",
     "output_type": "stream",
     "text": [
      "\n",
      "Placement by piece and file\n"
     ]
    },
    {
     "data": {
      "image/png": "[encoded data removed]",
      "text/plain": [
       "<Figure size 432x288 with 12 Axes>"
      ]
     },
     "metadata": {},
     "output_type": "display_data"
    },
    {
     "name": "stdout",
     "output_type": "stream",
     "text": [
      "Placement by piece and rank\n"
     ]
    },
    {
     "data": {
      "image/png": "[encoded data removed]",
      "text/plain": [
       "<Figure size 432x288 with 12 Axes>"
      ]
     },
     "metadata": {},
     "output_type": "display_data"
    }
   ],
   "source": [
    "import matplotlib.pyplot as plt\n",
    "\n",
    "print(\"Placement by piece and square\")\n",
    "for p, n in placements.items():\n",
    "    df = np.flip(n, axis=0) / num_setups\n",
    "    plt.figure()\n",
    "    plt.title(p)\n",
    "    plt.imshow(df, cmap='RdYlGn_r')\n",
    "    plt.show()\n",
    "    plt.close()\n",
    "print(\"\")\n",
    "\n",
    "print(\"Placement by piece and file\")\n",
    "fig, axs = plt.subplots(1, 12, sharey=True)\n",
    "for i, p in enumerate(pieces):\n",
    "    n = placements[p]    \n",
    "    df = np.transpose(np.sum(n, axis=0).reshape(1, FULL_WIDTH)) / num_setups\n",
    "    axs[i].set_title(p)\n",
    "    axs[i].get_xaxis().set_visible(False)\n",
    "    axs[i].imshow(df, cmap='RdYlGn_r')\n",
    "plt.show()\n",
    "plt.close()\n",
    "\n",
    "print(\"Placement by piece and rank\")\n",
    "fig, axs = plt.subplots(1, 12, sharey=True)\n",
    "for i, p in enumerate(pieces):\n",
    "    n = placements[p]    \n",
    "    df = np.flip(np.sum(n, axis=1).reshape(HALF_HEIGHT, 1), axis=0) / num_setups\n",
    "    axs[i].set_title(p)\n",
    "    axs[i].get_xaxis().set_visible(False)\n",
    "    axs[i].imshow(df, cmap='RdYlGn_r')\n",
    "plt.show()\n",
    "plt.close()\n",
    "    "
   ]
  },
  {
   "cell_type": "code",
   "execution_count": 87,
   "metadata": {},
   "outputs": [],
   "source": [
    "placements = { p : np.array([ s == p for s in setups ]) for p in pieces }"
   ]
  },
  {
   "cell_type": "code",
   "execution_count": 133,
   "metadata": {},
   "outputs": [
    {
     "name": "stdout",
     "output_type": "stream",
     "text": [
      "[0.554 0.403 0.042 0.001 0.   ]\n",
      "[0.597 0.374 0.028 0.001 0.   ]\n",
      "[0.501 0.427 0.069 0.003 0.   ]\n",
      "[0.495 0.435 0.068 0.002]\n",
      "[0.612 0.359 0.029 0.   ]\n",
      "[0.62  0.353 0.027 0.    0.   ]\n",
      "[0.5   0.431 0.066 0.003 0.   ]\n",
      "[0.501 0.422 0.072 0.005 0.   ]\n",
      "[0.578 0.389 0.033 0.    0.   ]\n",
      "[0.553 0.41  0.036 0.001 0.   ]\n"
     ]
    }
   ],
   "source": [
    "n = placements['3']\n",
    "cnts = np.sum(n, axis=1)\n",
    "for i in range(10):\n",
    "    print(np.round(np.bincount(cnts[:,i]) / num_setups, 3))"
   ]
  }
 ],
 "metadata": {
  "kernelspec": {
   "display_name": "Python 3",
   "language": "python",
   "name": "python3"
  },
  "language_info": {
   "codemirror_mode": {
    "name": "ipython",
    "version": 3
   },
   "file_extension": ".py",
   "mimetype": "text/x-python",
   "name": "python",
   "nbconvert_exporter": "python",
   "pygments_lexer": "ipython3",
   "version": "3.6.4"
  }
 },
 "nbformat": 4,
 "nbformat_minor": 2
}
